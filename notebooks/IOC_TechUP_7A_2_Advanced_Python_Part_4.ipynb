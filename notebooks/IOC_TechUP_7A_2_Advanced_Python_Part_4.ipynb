{
  "nbformat": 4,
  "nbformat_minor": 0,
  "metadata": {
    "colab": {
      "name": "IOC-TechUP-7A-2-Advanced-Python Part 4.ipynb",
      "provenance": [],
      "collapsed_sections": [],
      "toc_visible": true
    },
    "kernelspec": {
      "name": "python3",
      "display_name": "Python 3"
    }
  },
  "cells": [
    {
      "cell_type": "markdown",
      "metadata": {
        "id": "XPNuMFH9lhTb",
        "colab_type": "text"
      },
      "source": [
        "# IOC Module 7A.2 - Activities Supporting: Advanced Python Part 4\n",
        "\n",
        "Author: Dr. Robert Lyon\n",
        "\n",
        "Contact: robert.lyon@edgehill.ac.uk (www.scienceguyrob.com)\n",
        "\n",
        "Institution: Edge Hill University\n",
        "\n",
        "Version: 1.0\n",
        "    \n",
        "## Code & License\n",
        "The code and the contents of this notebook are released under the GNU GENERAL PUBLIC LICENSE, Version 3, 29 June 2007. The videos are exempt from this, please check the license provided by the video content owners if you would like to use them.\n",
        "\n",
        "## Introduction\n",
        "\n",
        "This notebook has been written to support the IOC Techup-Women Module, 7A.2 Advanced Python. As we work through the module, we'll alternate between slides and this resource. \n",
        "\n",
        "<br/>\n",
        "\n",
        "We do this as programming is a practical activity. It's best to learn by doing, and by running examples at your own pace, in your own time. This approach will help you get the most out of the learning material.\n",
        "\n",
        "Before you continue, I’m assuming that you've already followed the following code academy tutorial.\n",
        "\n",
        "<br/>\n",
        "\n",
        "[Code Academy Tutorial](https://www.codecademy.com/learn/learn-python-3)\n",
        "\n",
        "<br/>\n",
        "\n",
        "We'll try and build on what you’ve learned. We'll repeat some ideas that you’ve likely already come across and introduce others that will be unfamiliar. \n",
        "\n",
        "<br/>\n",
        "\n",
        "This resource is supposed to be used in conjunction with the slides made available for **Part 4** of Module 7A.2.\n",
        "\n",
        "## What is Google Colab?\n",
        "Google Colab provides a software environment you can use to execute code. This means you don't have to setup any complicated software environments for yourself - you can simply load this site and run our activities. You'll need your own Google ID to login and use this resource to its full potential. So please, sign up for a Google account if you **do not** already have one. \n",
        "\n",
        "Some of the cells below contain videos that you should watch if unfamiliar with the topics covered. If the cell seems empty (you can't see a video), hover your mouse over the cell. A play button should appear. Click that play button, and then the video should fill the cell. The eagle eyes amongst you might realise that inside these cells I'm using Python to embed some HTML code. This loads the video directly from YouTube. But you don't need to worry about those details.\n",
        "\n",
        "## Using This Resource\n",
        "1. Login to the Colab using a Google account or create one.\n",
        "2. Next we need to create **your** own copy of this resource. That way you can edit it any way you please. To do this, head up the **\"File\"** menu at the top of the screen. Click the **\"File\"** menu.\n",
        "3. Next, click the option that says **\"Download .ipynb\"**. This will download the resource to your own personal computer.\n",
        "4. Now rename the downloaded file so that you know what it is - for example, *\"my activities.ipynb\"*. Remember to keep the file extension **\".ipynb\"** in the file name.\n",
        "5. Now we upload our renamed file to the Colab environment. To do this, click the **\"File\"** menu, then **\"Upload Notebook\"**.\n",
        "Use the file chooser that appears, to select the file you renamed.\n",
        "6. The notebook should load into your browser window. This is now **your** notebook. Any changes you make to it, will not affect anybody else. Please feel free to modify it as you wish.\n",
        "7. The notebook is made up of cells. To run the code inside the cells, we must **\"execute\"** these cells. This is easy to do. Simply hover your mouse over the left most end of a cell containing code. A small **\"play\"** button will appear. Click this play button to execute the code. \n",
        "\n",
        "<br/>\n",
        "\n",
        "I advise that you step through each cell in this notebook slowly, at your own pace. Once you understand each cell, move on. This is important as each cell builds upon the next. Industry activities are provided near the end of the notebook. Enjoy!\n",
        "\n",
        "<br/>\n",
        "\n",
        "Remember, each cell is supposed to be executed in turn from the top to the bottom of this notebook. So, keep that in mind!\n",
        "\n",
        "---"
      ]
    },
    {
      "cell_type": "markdown",
      "metadata": {
        "id": "yJKxAFwjTiDz",
        "colab_type": "text"
      },
      "source": [
        "## 1. Classes\n",
        "\n",
        "A class serves as the primary means for describing objects in object-orientated programming – including in Python. A class consists of the following two components:\n",
        "* Attributes, also known as fields or instance variables.\n",
        "* Methods also known as member functions, or just functions.\n",
        "\n",
        "\n",
        "There is a video link below that helps explain classes in a little more detail."
      ]
    },
    {
      "cell_type": "code",
      "metadata": {
        "id": "hRqFasMVTkqE",
        "colab_type": "code",
        "outputId": "19e28a9a-fef2-4817-8e8c-b1823c92d0b0",
        "colab": {
          "base_uri": "https://localhost:8080/",
          "height": 336
        }
      },
      "source": [
        "# Import the HTML library\n",
        "from IPython.display import HTML\n",
        "\n",
        "# Load the video frm youtube.\n",
        "HTML('<iframe width=\"560\" height=\"315\" src=\"https://www.youtube.com/embed/apACNr7DC_s\" frameborder=\"0\" allow=\"accelerometer; autoplay; encrypted-media; gyroscope; picture-in-picture\" allowfullscreen></iframe>')"
      ],
      "execution_count": 0,
      "outputs": [
        {
          "output_type": "execute_result",
          "data": {
            "text/html": [
              "<iframe width=\"560\" height=\"315\" src=\"https://www.youtube.com/embed/apACNr7DC_s\" frameborder=\"0\" allow=\"accelerometer; autoplay; encrypted-media; gyroscope; picture-in-picture\" allowfullscreen></iframe>"
            ],
            "text/plain": [
              "<IPython.core.display.HTML object>"
            ]
          },
          "metadata": {
            "tags": []
          },
          "execution_count": 1
        }
      ]
    },
    {
      "cell_type": "markdown",
      "metadata": {
        "id": "UC9_DOI5UhJy",
        "colab_type": "text"
      },
      "source": [
        "\n",
        "Suppose we have the Person class described below. \n",
        "\n",
        "<img src=\"https://raw.githubusercontent.com/scienceguyrob/ioc-techup/master/images/Person.png\" width=\"200\" height=\"200\" align=\"center\"/>\n",
        "\n",
        "Can you implement this class using the following constraints:\n",
        "\n",
        "1. The function ```identify()``` must return a string describing the person. This description must include their details (name, age, date of birth - d.o.b). The string can be formatted however you like.\n",
        "2. The function ```get_birth_year()``` must return the persons year of birth, as an integer value.\n",
        "3. The function ```get_birth_month()``` must return the persons month of birth, as a string value (e.g. \"Jan\", . . . , \"Dec\").\n",
        "4. The function ```get_first_name()``` must return the persons first name as a string.\n",
        "5. The function ```get_surname()``` must return the persons surname name as a string.\n",
        "6. The expected format for the date of birth (d.o.b) is dd/mm/yyyy.\n",
        "7. The name is assumed to contain the first and surname, separated by a space character.\n",
        "\n",
        "Try to do this in the cell below. Notice the cell below this has some testing code - we must always test the code we write. Sometimes it's good practice to write the tests first! Once you think your code is ready, run the test cell. Check the output is what you expected. If it isn't, try to improve your code. If you’re stuck, I provide a solution below the test cells.\n",
        "\n"
      ]
    },
    {
      "cell_type": "code",
      "metadata": {
        "id": "Q0MPrlYtUgXd",
        "colab_type": "code",
        "colab": {}
      },
      "source": [
        "class Person:\n",
        "  \"\"\"\n",
        "  Write your class comments here.\n",
        "  \"\"\"\n",
        "  \n",
        "  # Create your constructor.\n",
        "  def __init__(self,nme,a,dob):\n",
        "    \"\"\"\n",
        "    Write you function description here.\n",
        "    \n",
        "    Input: \n",
        "        nme - the string name for the person (first name and \n",
        "              surname, space separated).\n",
        "        a - the integer age of the person.\n",
        "        dob - the string date of birth (d.o.b) of the person.\n",
        "              Here we assume this is in the form: dd/mm/yyyy.\n",
        "  \n",
        "    Output: \n",
        "        None.\n",
        "    \"\"\"\n",
        "    # Do you need variables here?\n",
        "  \n",
        "  # Do you need some functions here?"
      ],
      "execution_count": 0,
      "outputs": []
    },
    {
      "cell_type": "markdown",
      "metadata": {
        "id": "xrPiJC6RVolz",
        "colab_type": "text"
      },
      "source": [
        "### Tests of the Person Class\n",
        "\n",
        "Below we have some code that you can use to test your Person class. Before this code can be used, make sure you first run the cell containing your code. Then you can safely run the cell below."
      ]
    },
    {
      "cell_type": "code",
      "metadata": {
        "id": "1HhDzOkHV0Iv",
        "colab_type": "code",
        "colab": {}
      },
      "source": [
        "# First, I create a function to check the Class is correct.\n",
        "# To do this, I must also import a library function.\n",
        "import calendar\n",
        "\n",
        "def check_person_object(p,name,age,dob):\n",
        "  \"\"\"\n",
        "  Method that checks your Person class works\n",
        "  as required.\n",
        "  \n",
        "  Input:\n",
        "  \n",
        "    p - a Person object passed to this method.\n",
        "    name - the string name for the person (first name and \n",
        "           surname, space separated).\n",
        "    age - the integer age that the person should have.\n",
        "    dob - the string date of birth that the person should have (dd/mm/yyyy).\n",
        "    \n",
        "  Output:\n",
        "    False if the Person object is invalid.\n",
        "    \n",
        "  \"\"\"\n",
        "  if p is not None:\n",
        "\n",
        "\n",
        "    if p.name == name and \\\n",
        "       p.age  == age and \\\n",
        "       p.dob  == dob:\n",
        "\n",
        "          # Now check the method return values.\n",
        "          ident_string = p.identify()\n",
        "          \n",
        "          if name not in ident_string or \\\n",
        "             str(age) not in ident_string or \\\n",
        "             dob not in ident_string:\n",
        "                print(\"Identify method is incorrect.\")\n",
        "                return False\n",
        "          \n",
        "          birth_year = int(p.dob.split('/')[2])\n",
        "          \n",
        "          if p.get_birth_year() != birth_year:\n",
        "            print(\"Birth year incorrect - it should be: \", birth_year)\n",
        "            return False\n",
        "          \n",
        "          birth_month_int = int(p.dob.split('/')[1])\n",
        "          birth_month_string = calendar.month_abbr[birth_month_int]\n",
        "          \n",
        "          if p.get_birth_month() != birth_month_string:\n",
        "            print(\"Birth month incorrect - it should be: \", birth_month_string)\n",
        "            return False\n",
        "            \n",
        "          first_name = name.split(\" \")[0]\n",
        "          surname = name.split(\" \")[1]\n",
        "          \n",
        "          if p.get_first_name() != first_name:\n",
        "            print(\"First name incorrect - it should be: \", first_name)\n",
        "            return False\n",
        "            \n",
        "          if p.get_surname() != surname:\n",
        "            print(\"Surname incorrect - it should be: \", surname)\n",
        "            return False\n",
        "          \n",
        "          # If we get here...\n",
        "          return True\n",
        "          \n",
        "    else:\n",
        "      print(\"The instance variable values are incorrect!\")\n",
        "      return False\n",
        "\n",
        "  else:\n",
        "    print(\"Your Person object is not defined/initialised - did you \"\\\n",
        "          \"run the cell that contains your code?\")\n",
        "    return False\n",
        "\n",
        "      \n",
        "# Now create some variables to build the \"test\" person.\n",
        "name = \"Rebecca Person\"\n",
        "age = 30\n",
        "dob = \"23/02/1989\"\n",
        "\n",
        "# Create the person\n",
        "p = Person(name, age, dob)\n",
        "\n",
        "# Now run the test.\n",
        "print(\"Is the object correct:\", check_person_object(p, name, age, dob))\n"
      ],
      "execution_count": 0,
      "outputs": []
    },
    {
      "cell_type": "markdown",
      "metadata": {
        "id": "CmG2SnRDV0w-",
        "colab_type": "text"
      },
      "source": [
        "### Solution\n",
        "\n",
        "Below I provide a full working example of the Person class."
      ]
    },
    {
      "cell_type": "code",
      "metadata": {
        "id": "NCjJC84nV1G1",
        "colab_type": "code",
        "colab": {}
      },
      "source": [
        "class Person:\n",
        "  \"\"\"\n",
        "  A class that defines a person object.\n",
        "  \"\"\"\n",
        "  \n",
        "  def __init__(self,nme, a, dob):\n",
        "    \"\"\"\n",
        "    Creates a Person object.\n",
        "    \n",
        "    Input: \n",
        "        nme - the string name for the person (first name and \n",
        "              surname, space separated).\n",
        "        a - the integer age of the person.\n",
        "        dob - the string date of birth (d.o.b) of the person.\n",
        "              Here we assume this is in the form: dd/mm/yyyy.\n",
        "  \n",
        "    Output: \n",
        "        None.\n",
        "    \"\"\"\n",
        "    self.name = nme\n",
        "    self.age = a\n",
        "    self.dob = dob\n",
        "  \n",
        "  def identify(self):\n",
        "    \"\"\"\n",
        "    Causes a Person object to identify itself, by printing\n",
        "    out it's instance variable values.\n",
        "    \n",
        "    Input:\n",
        "      None.\n",
        "      \n",
        "    Output:\n",
        "      A string description that identifies the Person object.\n",
        "      \n",
        "    \"\"\"\n",
        "    \n",
        "    return \"Person: \" + self.name + \" Age: \" + str(self.age) + \" D.O.B: \" +\\\n",
        "            str(self.dob)\n",
        "      \n",
        "      \n",
        "  def get_birth_year(self):\n",
        "    \"\"\"\n",
        "    Returns the full birth year of the person. \n",
        "    \n",
        "    Input:\n",
        "      None.\n",
        "      \n",
        "    Output:\n",
        "      The birth year of the person as an integer.\n",
        "    \"\"\"\n",
        "    try:\n",
        "      return int(self.dob.split('/')[2])\n",
        "    except IndexError:\n",
        "      return -1\n",
        "      \n",
        "  def get_birth_month(self):\n",
        "    \"\"\"\n",
        "    Returns the shortened name of the birth month of the person. For example,\n",
        "    \"Jan\", \"Feb\", ... , \"Dec\".\n",
        "    \n",
        "    Input:\n",
        "      None.\n",
        "      \n",
        "    Output:\n",
        "      The birth month of the person as a string.\n",
        "    \"\"\"\n",
        "    \n",
        "    try:\n",
        "      birth_month = int(self.dob.split('/')[1])\n",
        "      months =['Jan','Feb','Mar','Apr','May','Jun','Jul',\n",
        "               'Aug','Sep','Oct','Nov','Dec']\n",
        "\n",
        "      return months[birth_month-1]\n",
        "    except IndexError:\n",
        "      return \"Unknown\"\n",
        "  \n",
        "  def get_first_name(self):\n",
        "    \"\"\"\n",
        "    Returns the first name of the person, assuming the name\n",
        "    variable is space separated.\n",
        "    \n",
        "    Input:\n",
        "      None.\n",
        "      \n",
        "    Output:\n",
        "      The first name of the person as a string.\n",
        "    \"\"\"\n",
        "    try:\n",
        "      return self.name.split(\" \")[0]\n",
        "    except IndexError:\n",
        "      return \"Unknown\"\n",
        "          \n",
        "  def get_surname(self):\n",
        "    \"\"\"\n",
        "    Returns the surname of the person, assuming the name\n",
        "    variable is space separated.\n",
        "    \n",
        "    Input:\n",
        "      None.\n",
        "      \n",
        "    Output:\n",
        "      The surname of the person as a string.\n",
        "    \"\"\"\n",
        "    try:\n",
        "      return self.name.split(\" \")[1]\n",
        "    except IndexError:\n",
        "      return \"Unknown\""
      ],
      "execution_count": 0,
      "outputs": []
    },
    {
      "cell_type": "markdown",
      "metadata": {
        "id": "O5FwMuOEet2F",
        "colab_type": "text"
      },
      "source": [
        "Below we have code used to test my solution. Remember, it's important to test our code rigorously. Hence why I run multiple tests, which vary according to the birth month."
      ]
    },
    {
      "cell_type": "code",
      "metadata": {
        "id": "cqTSbUVAew4c",
        "colab_type": "code",
        "colab": {}
      },
      "source": [
        "# Now create some variables to build the \"test\" person.\n",
        "name = \"Rebecca Person\"\n",
        "age = 30\n",
        "dob = \"23/02/1989\"\n",
        "\n",
        "# Create some person objects to test this solution.\n",
        "p = Person(name, age, dob)\n",
        "print(\"Is the object correct: \", check_person_object(p,name,age,dob))\n",
        "\n",
        "# Now test for other months to make sure everything works...\n",
        "p = Person(name, age, \"23/01/1989\")\n",
        "print(\"Is the object correct: \", check_person_object(p,name,age,\"23/01/1989\"))\n",
        "p = Person(name, age, \"23/03/1989\")\n",
        "print(\"Is the object correct: \", check_person_object(p,name,age,\"23/03/1989\"))\n",
        "p = Person(name, age, \"23/04/1989\")\n",
        "print(\"Is the object correct: \", check_person_object(p,name,age,\"23/04/1989\"))\n",
        "p = Person(name, age, \"23/05/1989\")\n",
        "print(\"Is the object correct: \", check_person_object(p,name,age,\"23/05/1989\"))\n",
        "p = Person(name, age, \"23/06/1989\")\n",
        "print(\"Is the object correct: \", check_person_object(p,name,age,\"23/06/1989\"))\n",
        "p = Person(name, age, \"23/07/1989\")\n",
        "print(\"Is the object correct: \", check_person_object(p,name,age,\"23/07/1989\"))\n",
        "p = Person(name, age, \"23/08/1989\")\n",
        "print(\"Is the object correct: \", check_person_object(p,name,age,\"23/08/1989\"))\n",
        "p = Person(name, age, \"23/09/1989\")\n",
        "print(\"Is the object correct: \", check_person_object(p,name,age,\"23/09/1989\"))\n",
        "p = Person(name, age, \"23/10/1989\")\n",
        "print(\"Is the object correct: \", check_person_object(p,name,age,\"23/10/1989\"))\n",
        "p = Person(name, age, \"23/11/1989\")\n",
        "print(\"Is the object correct: \", check_person_object(p,name,age,\"23/11/1989\"))\n",
        "p = Person(name, age, \"23/12/1989\")\n",
        "print(\"Is the object correct: \", check_person_object(p,name,age,\"23/12/1989\"))\n",
        "\n",
        "\n",
        "# Now lets check what happens if the inputs are invalid. Ideally\n",
        "# We want to check that our objects handle invalid input appropriately.\n",
        "# Create some person objects to test this solution.\n",
        "\n",
        "# Test what happens if no surname given.\n",
        "p = Person(\"Rebecca\", 30, \"23/02/1989\")\n",
        "print(\"Check that surname is \\\"unknown\\\": \", p.get_surname()==\"Unknown\")\n",
        "p = Person(\"Rebecca\", 30, \"23/00/1989\")\n",
        "print(\"Check that birth month is \\\"unknown\\\": \", p.get_surname()==\"Unknown\")\n",
        "p = Person(\"Rebecca\", 30, \"23/13/1989\")\n",
        "print(\"Check that birth month is \\\"unknown\\\": \", p.get_surname()==\"Unknown\")\n",
        "p = Person(\"Rebecca\", 30, \"23/1989\")\n",
        "print(\"Check that birth month is \\\"unknown\\\": \", p.get_surname()==\"Unknown\")\n",
        "p = Person(\"Rebecca\", 30, \"23/1989\")\n",
        "print(\"Check that birth year is \\\"unknown\\\": \", p.get_surname()==\"Unknown\")\n",
        "p = Person(\"Rebecca\", None, \"23/1989\")\n",
        "print(\"Check that age year is -1=unknown: \", p.get_surname()==\"Unknown\")"
      ],
      "execution_count": 0,
      "outputs": []
    },
    {
      "cell_type": "markdown",
      "metadata": {
        "id": "_2MFgzS7md8a",
        "colab_type": "text"
      },
      "source": [
        "## 2. Building a Customer Class\n",
        "\n",
        "Next we want to build a Credit Card class, as mentioned in the slides. Before we do this, I'd like you to watch the following video, which helps explain UML diagrams a little more clearly. This will help you understand the credit card problem better."
      ]
    },
    {
      "cell_type": "code",
      "metadata": {
        "id": "9NkqMDXiUXBu",
        "colab_type": "code",
        "outputId": "9ed920b2-1a0b-4a51-e309-844fd60094dc",
        "colab": {
          "base_uri": "https://localhost:8080/",
          "height": 336
        }
      },
      "source": [
        "# Import the HTML library\n",
        "from IPython.display import HTML\n",
        "\n",
        "# Load the video frm youtube.\n",
        "HTML('<iframe width=\"560\" height=\"315\" src=\"https://www.youtube.com/embed/UI6lqHOVHic\" frameborder=\"0\" allow=\"accelerometer; autoplay; encrypted-media; gyroscope; picture-in-picture\" allowfullscreen></iframe>')"
      ],
      "execution_count": 0,
      "outputs": [
        {
          "output_type": "execute_result",
          "data": {
            "text/html": [
              "<iframe width=\"560\" height=\"315\" src=\"https://www.youtube.com/embed/UI6lqHOVHic\" frameborder=\"0\" allow=\"accelerometer; autoplay; encrypted-media; gyroscope; picture-in-picture\" allowfullscreen></iframe>"
            ],
            "text/plain": [
              "<IPython.core.display.HTML object>"
            ]
          },
          "metadata": {
            "tags": []
          },
          "execution_count": 2
        }
      ]
    },
    {
      "cell_type": "markdown",
      "metadata": {
        "id": "df0Tl3CgsvRy",
        "colab_type": "text"
      },
      "source": [
        "Now we've watched the video, consider the new UML diagram below. There is a Customer class, that extends or \"inherits\" from the Person class. The next challenge is to implement this Customer class.\n",
        "\n",
        "<img src=\"https://raw.githubusercontent.com/scienceguyrob/ioc-techup/master/images/PersonAndCustomer.png\" height=\"500\" height=\"200\" align=\"center\"/>\n",
        "\n",
        "<br/>\n",
        "\n",
        "\n",
        "Can you code the Customer class? Try and do this below using the outline code to guide you. Further down a full solution is provided, so don't worry if things feel tough. In terms of the implementation here are some pointers:\n",
        "\n",
        "1. The ```identify()``` method should be overloaded in the Customer class, so that it now outputs the customers balance too.\n",
        "2. The ```credit(int amount)``` function should credit the customer balance with the amount specified.\n",
        "3. The ```debit(int amount)``` function should debit the customer balance with the amount specified.\n"
      ]
    },
    {
      "cell_type": "code",
      "metadata": {
        "id": "uFxEbTj3cj9f",
        "colab_type": "code",
        "colab": {}
      },
      "source": [
        "\n",
        "# Please fill in the class below. Ensure it inherits from Person.\n",
        "\n",
        "class :\n",
        "  \"\"\"\n",
        "  A class that defines a Customer object.\n",
        "  \"\"\"\n",
        "  \n",
        "  def __init__(self,nme, a, dob):\n",
        "    \"\"\"\n",
        "    \n",
        "    \"\"\"\n",
        "    Person.__init__(self,nme,a,dob)\n",
        "    \n",
        "  \n",
        "  def identify(self):\n",
        "      \n",
        "      \n",
        "  def credit(self, amount):\n",
        "   \n",
        "      \n",
        "  def debit(self, amount):\n",
        "\n"
      ],
      "execution_count": 0,
      "outputs": []
    },
    {
      "cell_type": "markdown",
      "metadata": {
        "id": "qpDxxpOVckcF",
        "colab_type": "text"
      },
      "source": [
        "### Tests of the Customer Class\n",
        "\n",
        "Below we have some code that you can use to test your Customer class. Before this code can be used, make sure you first run the cell containing your code. Then you can safely run the cell below."
      ]
    },
    {
      "cell_type": "code",
      "metadata": {
        "id": "2_dQKNZVd9Em",
        "colab_type": "code",
        "colab": {}
      },
      "source": [
        "# Now create some variables to build the \"test\" customer.\n",
        "name = \"Rebecca Person\"\n",
        "age = 30\n",
        "dob = \"23/02/1989\"\n",
        "\n",
        "# Create some person objects to test this solution.\n",
        "c = Customer(name, age, dob)\n",
        "print(\"Is the object correct: \", check_person_object(c,name,age,dob))\n",
        "\n",
        "print(c.identify())\n",
        "c.credit(100.0)\n",
        "\n",
        "if c.balance == 100.0:\n",
        "  print(\"Balance increased successfully.\")\n",
        "else:\n",
        "  print(\"Failed to inrease balance!\")\n",
        "  \n",
        "print(c.identify())\n",
        "c.debit(100.0)\n",
        "\n",
        "if c.balance == 0.0:\n",
        "  print(\"Balance decreased successfully.\")\n",
        "else:\n",
        "  print(\"Failed to decrease balance!\")\n",
        "  \n",
        "print(c.identify())"
      ],
      "execution_count": 0,
      "outputs": []
    },
    {
      "cell_type": "markdown",
      "metadata": {
        "id": "VjZ6gMMMd-Hc",
        "colab_type": "text"
      },
      "source": [
        "### Solution\n",
        "\n",
        "Below I provide a full working example of the Customer class."
      ]
    },
    {
      "cell_type": "code",
      "metadata": {
        "id": "AWOvtwybsv02",
        "colab_type": "code",
        "colab": {}
      },
      "source": [
        "class Customer(Person):\n",
        "  \"\"\"\n",
        "  A class that defines a Customer object.\n",
        "  \"\"\"\n",
        "  \n",
        "  def __init__(self,nme, a, dob):\n",
        "    \"\"\"\n",
        "    Creates a Customer object.\n",
        "    \n",
        "    Input: \n",
        "        nme - the string name for the customer (first name and \n",
        "              surname, space separated).\n",
        "        a - the integer age of the customer.\n",
        "        dob - the string date of birth (d.o.b) of the customer.\n",
        "              Here we assume this is in the form: dd/mm/yyyy.\n",
        "  \n",
        "    Output: \n",
        "        None.\n",
        "    \"\"\"\n",
        "    Person.__init__(self, nme, a, dob)\n",
        "    \n",
        "    # Set up customer class variables.\n",
        "    self.account_number = -1\n",
        "    self.sort_code = -1\n",
        "    self.email = \"\"\n",
        "    self.address = []\n",
        "    self.balance = 0.0\n",
        "  \n",
        "  def identify(self):\n",
        "    \"\"\"\n",
        "    Causes a Person object to identify itself, by printing\n",
        "    out it's instance variable values.\n",
        "    \n",
        "    Input:\n",
        "      None.\n",
        "      \n",
        "    Output:\n",
        "      A string description that identifies the Person object.\n",
        "      \n",
        "    \"\"\"\n",
        "    \n",
        "    return \"Customer: \" + self.name + \" Age: \" + str(self.age) + \" D.O.B: \" +\\\n",
        "            str(self.dob) + \" Balance: \" + str(self.balance)\n",
        "      \n",
        "      \n",
        "  def credit(self, amount):\n",
        "    \"\"\"\n",
        "    Credits a customer account with the amount supplied. \n",
        "    \n",
        "    Input:\n",
        "      amount - a float value that specific the amount to credit a customer\n",
        "                 account.\n",
        "      \n",
        "    Output:\n",
        "      True if the Customer Account was successfully credited, else false.\n",
        "      \n",
        "    \"\"\"\n",
        "    if amount is None:\n",
        "      return False\n",
        "    else:\n",
        "      self.balance += float(amount)\n",
        "      return True\n",
        "      \n",
        "  def debit(self, amount):\n",
        "    \"\"\"\n",
        "    Debits a customer account with the amount supplied. \n",
        "    \n",
        "    Input:\n",
        "      amount - a float value that specific the amount to debit a customer\n",
        "                 account.\n",
        "      \n",
        "    Output:\n",
        "      True if the Customer Account was successfully debited, else false.\n",
        "    \"\"\"\n",
        "    if amount is None:\n",
        "      return False\n",
        "    else:\n",
        "      self.balance += -(float(amount))\n",
        "      return True"
      ],
      "execution_count": 0,
      "outputs": []
    },
    {
      "cell_type": "markdown",
      "metadata": {
        "id": "BOs8rN55i49r",
        "colab_type": "text"
      },
      "source": [
        "Now some tests of my Customer class."
      ]
    },
    {
      "cell_type": "code",
      "metadata": {
        "id": "u1t6bBUzi5Xh",
        "colab_type": "code",
        "colab": {}
      },
      "source": [
        "# Now create some variables to build the \"test\" customer.\n",
        "name = \"Rebecca Person\"\n",
        "age = 30\n",
        "dob = \"23/02/1989\"\n",
        "\n",
        "# Create some person objects to test this solution.\n",
        "c = Customer(name, age, dob)\n",
        "print(\"Is the object correct: \", check_person_object(c,name,age,dob))\n",
        "\n",
        "print(c.identify())\n",
        "c.credit(100.0)\n",
        "\n",
        "if c.balance == 100.0:\n",
        "  print(\"Balance increased successfully.\")\n",
        "else:\n",
        "  print(\"Failed to inrease balance!\")\n",
        "  \n",
        "print(c.identify())\n",
        "c.debit(100.0)\n",
        "\n",
        "if c.balance == 0.0:\n",
        "  print(\"Balance decreased successfully.\")\n",
        "else:\n",
        "  print(\"Failed to decrease balance!\")\n",
        "  \n",
        "print(c.identify())"
      ],
      "execution_count": 0,
      "outputs": []
    },
    {
      "cell_type": "markdown",
      "metadata": {
        "id": "h7hg3KoTi9OZ",
        "colab_type": "text"
      },
      "source": [
        "## 3. Building a Credit Card Customer Class\n",
        "\n",
        "Let's get to the Credit Card Class. Below we can see a UML diagram describing how we can extend the Customer Class, to create a ```CreditCardCustmer``` class.\n",
        "\n",
        "<img src=\"https://raw.githubusercontent.com/scienceguyrob/ioc-techup/master/images/PersonAndCreditCard_v1.png\" height=\"500\" height=\"200\" align=\"center\"/>\n",
        "\n",
        "<br/>\n",
        "\n",
        "Can you ow create this class? Here's some extra information that will help.\n",
        "\n",
        "1. The ```limit``` variable holds the spending limit for the card.\n",
        "2. The ```annual_rate``` variables hold the yearly interest rate for the card in percent (%).\n",
        "3. The variable ```mmp``` is the Minimum Monthly Payment (MMP) that the card requires to pay of just the interest accrued from the card balance.\n",
        "4. the function ```update_mmp()``` should recompute the MMP based on the current balance and rate.\n",
        "5. The function ```calc_term()``` calculates the number of months it will take the customer to pay off the balance, given a specific monthly payment.\n",
        "6. The function ```apply_interest()``` should apply monthly interest to the balance.\n",
        "7. The function ```make_payment(int amount)``` tries to make a payment using the card.\n",
        "\n",
        "Try and code this class in the cell below. A solution is provided further down in case you get stuck. Look for inspiration too if you ned it.\n"
      ]
    },
    {
      "cell_type": "code",
      "metadata": {
        "id": "L8hObTqO3bEX",
        "colab_type": "code",
        "colab": {}
      },
      "source": [
        "\n",
        "class CreditCardCustomer(Customer):\n",
        "  \"\"\"\n",
        "  A class that defines a Credit Card Customer object.\n",
        "  \"\"\"\n",
        "  \n",
        "  def __init__(self,nme, a, dob, rate, lim):\n",
        "    \"\"\"\n",
        "    Creates a Customer object.\n",
        "    \n",
        "    Input: \n",
        "        nme - the string name for the customer (first name and \n",
        "              surname, space separated).\n",
        "        a - the integer age of the customer.\n",
        "        dob - the string date of birth (d.o.b) of the customer.\n",
        "              Here we assume this is in the form: dd/mm/yyyy.\n",
        "        rate - the annual interest rate (%) as a float.\n",
        "        limit - a float defining the spending limit.\n",
        "  \n",
        "    Output: \n",
        "        None.\n",
        "    \"\"\"\n",
        "    Customer.__init__(self, nme, a, dob)\n",
        "    \n",
        "    # Complete me.\n",
        "    \n",
        "    \n",
        "  def update_mmp(self):\n",
        "    \"\"\"\n",
        "    Calculates the Minimum Monthly Payment (MMP) required\n",
        "    to pay of just the interest accrued from the card balance,\n",
        "    each month.\n",
        "    \n",
        "    Input: \n",
        "      None.\n",
        "      \n",
        "    Output:\n",
        "      True if the mmp has been recalculated, else False.\n",
        "      \n",
        "    \"\"\"\n",
        "    return False\n",
        "  \n",
        "    \n",
        "  def calc_term(self, amount):\n",
        "    \"\"\"\n",
        "    Calculates the number of months it will take the customer to pay\n",
        "    off the balance, given a specific monthly payment amount.\n",
        "     \n",
        "    Input: \n",
        "      amount - a float variable corresponding to the monthly payment amount.\n",
        "      \n",
        "    Output:\n",
        "      The number of months required to pay off the balance, as an integer.\n",
        "      Minus 1 is returned in the event of an error.\n",
        "      \n",
        "    \"\"\"\n",
        "    return -1\n",
        "    \n",
        "    \n",
        "  def apply_interest(self):\n",
        "    \"\"\"\n",
        "    Applies monthly interest to the customer balance.\n",
        "     \n",
        "    Input: \n",
        "      None.\n",
        "      \n",
        "    Output:\n",
        "      True if the interest was applied, else False.\n",
        "      \n",
        "    \"\"\"\n",
        "    return False # Let's stop a divide by zero error before it happens.\n",
        "    \n",
        "    \n",
        "  def make_payment(self, amount):\n",
        "    \"\"\"\n",
        "    Tries to make a payment using the card.\n",
        "     \n",
        "    Input: \n",
        "      amount - a float variable corresponding to the amount being paid.\n",
        "      \n",
        "    Output:\n",
        "      True if the payment was successful, else False.\n",
        "      \n",
        "    \"\"\"\n",
        "\n",
        "    return False\n",
        "    \n",
        "\n"
      ],
      "execution_count": 0,
      "outputs": []
    },
    {
      "cell_type": "markdown",
      "metadata": {
        "id": "o-oIxLNYjw8h",
        "colab_type": "text"
      },
      "source": [
        "### Tests of the CreditCardCustomer Class\n",
        "\n",
        "Below we have some code that you can use to test your CreditCard class. Before this code can be used, make sure you first run the cell containing your code. Then you can safely run the cell below."
      ]
    },
    {
      "cell_type": "code",
      "metadata": {
        "id": "e8iy4cFAjxNg",
        "colab_type": "code",
        "colab": {}
      },
      "source": [
        "# Now create some variables to build the \"test\" customer.\n",
        "name = \"Rebecca Person\"\n",
        "age = 30\n",
        "dob = \"23/02/1989\"\n",
        "\n",
        "# Create some person objects to test this solution.\n",
        "# This card has a credit limit of £1000, and an annual\n",
        "# interest rate of 16.4%\n",
        "c = CreditCardCustomer(name, age, dob,16.4,1000.0)\n",
        "print(\"Is the object correct: \", check_person_object(c,name,age,dob))\n",
        "\n",
        "# Let's get the account to self identify.\n",
        "print(c.identify())\n",
        "\n",
        "# Now lets get the account spending...\n",
        "amount = 100.0\n",
        "print(\"\\nTrying to spend £\", amount, \" - successful:\", c.make_payment(amount))\n",
        "\n",
        "# Let's get the account to confirm the outcome.\n",
        "print(c.identify())\n",
        "\n",
        "# Let's get the minimum payment amount this month.\n",
        "c.update_mmp()\n",
        "print(\"Minimum payment on the balance: \", c.balance, \"is £\", c.mmp)\n",
        "\n",
        "# Calculate how long to pay...\n",
        "how_long = c.calc_term(30.0)\n",
        "if how_long != 4:\n",
        "  print(\"This hasn't been computed correctly, should be 4 months.\")\n",
        "\n",
        "# Now let's get to the limit, by spending more money.\n",
        "amount = 900.0\n",
        "print(\"\\nTrying to spend £\", amount, \" - successful:\", c.make_payment(amount))\n",
        "c.update_mmp()\n",
        "print(\"Minimum payment on the balance: \", c.balance, \"is £\", c.mmp)\n",
        "\n",
        "# Calculate how long to pay...\n",
        "c.calc_term(30.0)\n",
        "\n",
        "print(\"\\nSuppose the customer doesn't pay anything for 2 years...\\n\\n\")\n",
        "\n",
        "# Compare with the results obtained here:\n",
        "# https://monevator.com/compound-interest-calculator/\n",
        "for i in range(1,13):\n",
        "  print(\"\\tApplying interest month\", i,\" - successful:\", c.apply_interest())\n",
        "  print(\"\\t\",c.identify())\n",
        "      \n",
        "# Now let the customer try to make a payment...\n",
        "amount = 100.0\n",
        "print(\"\\nTrying to spend £\", amount)\n",
        "c.make_payment(amount)\n",
        "print(c.identify())\n",
        "\n",
        "# Finally let's check how long it takes for the customer to pay all this off!\n",
        "c.update_mmp()\n",
        "\n",
        "# Calculate how long to pay...\n",
        "how_long = c.calc_term(30.0)\n",
        "if how_long != 56:\n",
        "  print(\"This hasn't been computed correctly, should be 4 months.\")\n"
      ],
      "execution_count": 0,
      "outputs": []
    },
    {
      "cell_type": "markdown",
      "metadata": {
        "id": "r8rRCWo_jxlQ",
        "colab_type": "text"
      },
      "source": [
        "### Solution\n",
        "\n",
        "Below I provide a full working example of the Credit Card class."
      ]
    },
    {
      "cell_type": "code",
      "metadata": {
        "id": "gIJn1XXmjx0w",
        "colab_type": "code",
        "colab": {}
      },
      "source": [
        "\n",
        "class CreditCardCustomer(Customer):\n",
        "  \"\"\"\n",
        "  A class that defines a Credit Card Customer object.\n",
        "  \"\"\"\n",
        "  \n",
        "  def __init__(self,nme, a, dob, rate, lim):\n",
        "    \"\"\"\n",
        "    Creates a Customer object.\n",
        "    \n",
        "    Input: \n",
        "        nme - the string name for the customer (first name and \n",
        "              surname, space separated).\n",
        "        a - the integer age of the customer.\n",
        "        dob - the string date of birth (d.o.b) of the customer.\n",
        "              Here we assume this is in the form: dd/mm/yyyy.\n",
        "        rate - the annual interest rate (%) as a float.\n",
        "        limit - a float defining the spending limit.\n",
        "  \n",
        "    Output: \n",
        "        None.\n",
        "    \"\"\"\n",
        "    Customer.__init__(self, nme, a, dob)\n",
        "    \n",
        "    # Set up customer class variables.\n",
        "    self.limit = float(lim)\n",
        "    self.annual_rate = float(rate)\n",
        "    self.mmp = 0.0\n",
        "    \n",
        "    \n",
        "  def update_mmp(self):\n",
        "    \"\"\"\n",
        "    Calculates the Minimum Monthly Payment (MMP) required\n",
        "    to pay of just the interest accrued from the card balance,\n",
        "    each month.\n",
        "    \n",
        "    Input: \n",
        "      None.\n",
        "      \n",
        "    Output:\n",
        "      True if the mmp has been recalculated, else False.\n",
        "      \n",
        "    \"\"\"\n",
        "    if self.annual_rate == 0.0:\n",
        "      return False # Let's stop a divide by zero error before it happens.\n",
        "    \n",
        "    if self.balance >= 0.0: # If account in credit.\n",
        "      self.mmp = 0.0\n",
        "      return True\n",
        "    else:\n",
        "      monthly_interest_rate = self.annual_rate / 12.0\n",
        "      self.mmp = abs(self.balance * (monthly_interest_rate/100.0))\n",
        "      return True\n",
        "  \n",
        "    \n",
        "  def calc_term(self, amount):\n",
        "    \"\"\"\n",
        "    Calculates the number of months it will take the customer to pay\n",
        "    off the balance, given a specific monthly payment amount.\n",
        "     \n",
        "    Input: \n",
        "      amount - a float variable corresponding to the monthly payment amount.\n",
        "      \n",
        "    Output:\n",
        "      The number of months required to pay off the balance, as an integer.\n",
        "      Minus 1 is returned in the event of an error.\n",
        "      \n",
        "    \"\"\"\n",
        "    if self.annual_rate == 0.0:\n",
        "      return -1 # Let's stop a divide by zero error before it happens.\n",
        "    \n",
        "    if self.balance >= 0.0: # If account in credit.\n",
        "      return 0\n",
        "    \n",
        "    monthly_interest_rate = float(self.annual_rate) / 12.0\n",
        "    \n",
        "    # Months it will take.\n",
        "    months = 0\n",
        "    total_interest_paid = 0.0\n",
        "    \n",
        "    # Create a temp balance so we can work this out.\n",
        "    temp_balance = abs(self.balance)\n",
        "    \n",
        "    # While the temp balance still in debit.\n",
        "    while temp_balance > 0.0:\n",
        "      temp_balance += -(amount) # Subtract hypothetical payment\n",
        "      months += 1 # Increase month count.\n",
        "      \n",
        "      # Now apply hypothetical interest\n",
        "      temp_balance += temp_balance * (monthly_interest_rate/100.0)\n",
        "      \n",
        "      # I also compute the interest paid as a bonus.\n",
        "      total_interest_paid += temp_balance * (monthly_interest_rate/100.0)\n",
        "    \n",
        "    # Now I print out some useful info.\n",
        "    print(\"How long to pay off in months if paying £\", str(amount),\n",
        "          \" per month: \", str(months))\n",
        "    print(\"Total interest that would be paid: £\", total_interest_paid)\n",
        "    \n",
        "    return months\n",
        "    \n",
        "    \n",
        "  def apply_interest(self):\n",
        "    \"\"\"\n",
        "    Applies monthly interest to the customer balance.\n",
        "     \n",
        "    Input: \n",
        "      None.\n",
        "      \n",
        "    Output:\n",
        "      True if the interest was applied, else False.\n",
        "      \n",
        "    \"\"\"\n",
        "    if self.annual_rate == 0.0:\n",
        "      return False # Let's stop a divide by zero error before it happens.\n",
        "    \n",
        "    # If account in credit.\n",
        "    if self.balance >= 0.0: # If account in credit.\n",
        "      return True\n",
        "    else:\n",
        "      monthly_interest_rate = self.annual_rate / 12.0\n",
        "      self.balance += -(abs(self.balance) * (monthly_interest_rate/100.0))\n",
        "      return True\n",
        "    \n",
        "    \n",
        "  def make_payment(self, amount):\n",
        "    \"\"\"\n",
        "    Tries to make a payment using the card.\n",
        "     \n",
        "    Input: \n",
        "      amount - a float variable corresponding to the amount being paid.\n",
        "      \n",
        "    Output:\n",
        "      True if the payment was successful, else False.\n",
        "      \n",
        "    \"\"\"\n",
        "\n",
        "    if abs(self.balance) + amount <= self.limit:\n",
        "\n",
        "      self.debit(amount)\n",
        "      return True\n",
        "    else:\n",
        "      print(\"Cannot make payment, over credit limit!\")\n",
        "      return False\n",
        "    \n",
        "\n"
      ],
      "execution_count": 0,
      "outputs": []
    },
    {
      "cell_type": "markdown",
      "metadata": {
        "id": "HnTNrZQPjyKg",
        "colab_type": "text"
      },
      "source": [
        "Now some tests of my Credit Card class."
      ]
    },
    {
      "cell_type": "code",
      "metadata": {
        "id": "CqjlyW6hjyYA",
        "colab_type": "code",
        "colab": {}
      },
      "source": [
        "# Now create some variables to build the \"test\" customer.\n",
        "name = \"Rebecca Person\"\n",
        "age = 30\n",
        "dob = \"23/02/1989\"\n",
        "\n",
        "# Create some person objects to test this solution.\n",
        "# This card has a credit limit of £1000, and an annual\n",
        "# interest rate of 16.4%\n",
        "c = CreditCardCustomer(name, age, dob,16.4,1000.0)\n",
        "print(\"Is the object correct: \", check_person_object(c,name,age,dob))\n",
        "\n",
        "# Let's get the account to self identify.\n",
        "print(c.identify())\n",
        "\n",
        "# Now lets get the account spending...\n",
        "amount = 100.0\n",
        "print(\"\\nTrying to spend £\", amount, \" - successful:\", c.make_payment(amount))\n",
        "\n",
        "# Let's get the account to confirm the outcome.\n",
        "print(c.identify())\n",
        "\n",
        "# Let's get the minimum payment amount this month.\n",
        "c.update_mmp()\n",
        "print(\"Minimum payment on the balance: \", c.balance, \"is £\", c.mmp)\n",
        "\n",
        "# Calculate how long to pay...\n",
        "how_long = c.calc_term(30.0)\n",
        "if how_long != 4:\n",
        "  print(\"This hasn't been computed correctly, should be 4 months.\")\n",
        "\n",
        "# Now let's get to the limit, by spending more money.\n",
        "amount = 900.0\n",
        "print(\"\\nTrying to spend £\", amount, \" - successful:\", c.make_payment(amount))\n",
        "c.update_mmp()\n",
        "print(\"Minimum payment on the balance: \", c.balance, \"is £\", c.mmp)\n",
        "\n",
        "# Calculate how long to pay...\n",
        "c.calc_term(30.0)\n",
        "\n",
        "print(\"\\nSuppose the customer doesn't pay anything for 2 years...\\n\\n\")\n",
        "\n",
        "# Compare with the results obtained here:\n",
        "# https://monevator.com/compound-interest-calculator/\n",
        "for i in range(1,13):\n",
        "  print(\"\\tApplying interest month\", i,\" - successful:\", c.apply_interest())\n",
        "  print(\"\\t\",c.identify())\n",
        "      \n",
        "# Now let the customer try to make a payment...\n",
        "amount = 100.0\n",
        "print(\"\\nTrying to spend £\", amount)\n",
        "c.make_payment(amount)\n",
        "print(c.identify())\n",
        "\n",
        "# Finally let's check how long it takes for the customer to pay all this off!\n",
        "c.update_mmp()\n",
        "\n",
        "# Calculate how long to pay...\n",
        "how_long = c.calc_term(30.0)\n",
        "if how_long != 56:\n",
        "  print(\"This hasn't been computed correctly, should be 4 months.\")\n"
      ],
      "execution_count": 0,
      "outputs": []
    },
    {
      "cell_type": "markdown",
      "metadata": {
        "id": "MgNsIVirvJS1",
        "colab_type": "text"
      },
      "source": [
        "## 4. Improving the Credit Card\n",
        "\n",
        "How about we try and check whether or not a transaction has an appropriate password, before we allow a payment to be made. We could do this by checking a supplied password, against a database or some other resource. In this case, we'll just deal with a file. Before we proceed, please watch the video below regarding reading files using Python.\n"
      ]
    },
    {
      "cell_type": "code",
      "metadata": {
        "id": "6xfp8XIDUrWg",
        "colab_type": "code",
        "outputId": "b03777e4-0fa6-49c5-948d-cf802a901ded",
        "colab": {
          "base_uri": "https://localhost:8080/",
          "height": 336
        }
      },
      "source": [
        "# Import the HTML library\n",
        "from IPython.display import HTML\n",
        "\n",
        "# Load the video frm youtube.\n",
        "HTML('<iframe width=\"560\" height=\"315\" src=\"https://www.youtube.com/embed/4mX0uPQFLDU\" frameborder=\"0\" allow=\"accelerometer; autoplay; encrypted-media; gyroscope; picture-in-picture\" allowfullscreen></iframe>')"
      ],
      "execution_count": 0,
      "outputs": [
        {
          "output_type": "execute_result",
          "data": {
            "text/html": [
              "<iframe width=\"560\" height=\"315\" src=\"https://www.youtube.com/embed/4mX0uPQFLDU\" frameborder=\"0\" allow=\"accelerometer; autoplay; encrypted-media; gyroscope; picture-in-picture\" allowfullscreen></iframe>"
            ],
            "text/plain": [
              "<IPython.core.display.HTML object>"
            ]
          },
          "metadata": {
            "tags": []
          },
          "execution_count": 3
        }
      ]
    },
    {
      "cell_type": "markdown",
      "metadata": {
        "id": "BUsyoxwgRX4V",
        "colab_type": "text"
      },
      "source": [
        "I've created a file called ```users.csv```, which I've saved online (see [here](https://github.com/scienceguyrob/ioc-techup)). We can load this file into the Colab environment with a little code. This is what we do below. Read over the code, then run when ready."
      ]
    },
    {
      "cell_type": "code",
      "metadata": {
        "id": "9B3NPxk5HsE9",
        "colab_type": "code",
        "colab": {}
      },
      "source": [
        "# First I need to load a Python library capable of processing URLs - which in\n",
        "# in case you don't known, stands for Unifrm Resource Locator (URL). Basically\n",
        "# the URL is an address, which in this case points to the web-based file I \n",
        "# created.\n",
        "import urllib.request\n",
        "\n",
        "# Now here's the full URL to the file.\n",
        "url = 'https://raw.githubusercontent.com/scienceguyrob/ioc-techup/master/notebooks/users.csv'\n",
        "\n",
        "# We now use the URL library to try and access the file. We use the URL library,\n",
        "# as it takes care of all the communication overheads for us.\n",
        "response = urllib.request.urlopen(url)\n",
        "\n",
        "# Now we try to read the data obtained from the URL. This returns the data as\n",
        "# a series of Bytes. This isn't necessarily readable by humans! Read more about\n",
        "# bytes here: https://en.wikipedia.org/wiki/Byte\n",
        "data = response.read()      # a `bytes` object\n",
        "\n",
        "# Now this step decodes the data, converting it into a string that we can\n",
        "# understand.\n",
        "text = data.decode('utf-8')\n",
        "\n",
        "# We can now print the data to make sure we can read it. We should see there are \n",
        "# a series of users and their passwords stored in this fle.\n",
        "print(\"The data we've loaded:\\n\")\n",
        "print(text)"
      ],
      "execution_count": 0,
      "outputs": []
    },
    {
      "cell_type": "markdown",
      "metadata": {
        "id": "Fd5XDJH0HuNz",
        "colab_type": "text"
      },
      "source": [
        "Next, we need to process this data into some useable format. We can see the data has a header, describing the contents. We can also see the data is comma delimited, which means it is in [Comma Separated Value (CSV)](https://en.wikipedia.org/wiki/Comma-separated_values) format. So, let's pre-process this data so we can use it. First, we split the data into lines."
      ]
    },
    {
      "cell_type": "code",
      "metadata": {
        "id": "XsfP0QI-Hwf5",
        "colab_type": "code",
        "colab": {}
      },
      "source": [
        "# We can split the data into lines, by splitting on the new line character.\n",
        "# We know to do this, as we learned by printing out the data above, that the data\n",
        "# is separated out neatly into lines.\n",
        "lines = text.replace(\"\\r\",\"\").split(\"\\n\")\n",
        "\n",
        "print(\"Here's the data now split according to the newline character.\")\n",
        "print(lines)\n",
        "\n",
        "print(\"Confirming the type of the data:\", type(lines))\n",
        "print(\"Length of the list variable 'lines':\", len(lines))\n"
      ],
      "execution_count": 0,
      "outputs": []
    },
    {
      "cell_type": "markdown",
      "metadata": {
        "id": "DwrGJ_hUiTer",
        "colab_type": "text"
      },
      "source": [
        "Now we have the data stored in the ```lines``` variable. We can store this data in a more usable way. Let's try and store it in a dictionary. Here's what we need - each username should be a key in the dictionary. All other values should be stored as a list. For example,\n",
        "\n",
        "key: ada@ourfakebank.co.uk\n",
        "value: ['Ada Lovelace','203','10/12/1815','100000','101010','1 Computer Science Row','1000.0','sdfkjh48nwer']\n",
        "\n",
        "Please call this dictionary, ```database```.\n",
        "Try and create this dictionary below. If you get stuck, an answer is provided a few cells down.\n"
      ]
    },
    {
      "cell_type": "code",
      "metadata": {
        "id": "30t82-rnj0GZ",
        "colab_type": "code",
        "colab": {}
      },
      "source": [
        "# First create the dictionary.\n",
        "database = {}\n",
        "\n",
        "# Fill in the code for yourself."
      ],
      "execution_count": 0,
      "outputs": []
    },
    {
      "cell_type": "markdown",
      "metadata": {
        "id": "jesV9y5Hj0f3",
        "colab_type": "text"
      },
      "source": [
        "### Tests of the Dictionary '```database```'\n",
        "\n",
        "Below we have some code that you can use to test your dictionary. Before this code can be used, make sure you first run the cell containing your code. Then you can safely run the cell below."
      ]
    },
    {
      "cell_type": "code",
      "metadata": {
        "id": "mcQeFVVaj02n",
        "colab_type": "code",
        "colab": {}
      },
      "source": [
        "# Just to double check things have worked.  \n",
        "print(\"Dictionary database length: \", len(database))\n",
        "\n",
        "if len(database) != 9:\n",
        "  print(\"Not enough data in the dictionary.\")\n",
        "\n",
        "# Now some tests...\n",
        "if database[\"ada@ourfakebank.co.uk\"][1] == '203':\n",
        "  print(\"We can see Ada's age in the dictionary.\")\n",
        "else:\n",
        "  print(\"We cannot see Ada's age in the dictionary.\")\n",
        "  \n",
        "if database[\"maggie@ourfakebank.co.uk\"][4] == '101090':\n",
        "  print(\"We can see Maggie's sort code in the dictionary.\")\n",
        "else:\n",
        "  print(\"We cannot see Maggie's sort code in the dictionary.\")"
      ],
      "execution_count": 0,
      "outputs": []
    },
    {
      "cell_type": "markdown",
      "metadata": {
        "id": "9aKaoblpkMMH",
        "colab_type": "text"
      },
      "source": [
        "### Solution\n",
        "\n",
        "Below I provide a full working example that creates the dictionary."
      ]
    },
    {
      "cell_type": "code",
      "metadata": {
        "id": "Dd-k9RQgkMid",
        "colab_type": "code",
        "colab": {}
      },
      "source": [
        "# First create the dictionary.\n",
        "database = {}\n",
        "\n",
        "# Now iterate over the lies we've pre-processed. We can\n",
        "# skip the header line, so start at position 1 instead of\n",
        "# 0.\n",
        "for i in range(1,10):\n",
        "  \n",
        "  print(\"Processing line: \", i)\n",
        "  line = lines[i] # Get the line.\n",
        "  \n",
        "  # Print the line just so you can see what's happening.\n",
        "  print(\"Line content: \", line)\n",
        "  \n",
        "  # Split the line on the comma separator - as we know this data\n",
        "  # is in CSV format. This will produce a list called 'line_contents'.\n",
        "  line_contents = line.split(',')\n",
        "  \n",
        "  # We know from the structure of the file, that the key is in\n",
        "  # position 5 of the line. This corresponds to position 5 in the\n",
        "  # 'line_contents' list.\n",
        "  key = line_contents[5]\n",
        "  \n",
        "  # We can obtain the values by simply using slicing to get the contents\n",
        "  # except for the email address at position 5.\n",
        "  values = line_contents[0:5] + line_contents[6:9]\n",
        "  \n",
        "  # Print these out for clarity.\n",
        "  print(\"Key: \", key)\n",
        "  print(\"Values: \", values, \"\\n\")\n",
        "  \n",
        "  # Put the data in the database dictionary.\n",
        "  database[key] = values\n",
        "  \n",
        "# Just to double check things have worked.  \n",
        "print(\"Dictionary database length: \", len(database))\n",
        "\n",
        "if len(database) != 9:\n",
        "  print(\"Not enough data in the dictionary.\")\n",
        "  \n",
        "# Now some tests...\n",
        "if database[\"ada@ourfakebank.co.uk\"][1] == '203':\n",
        "  print(\"We can see Ada's age in the dictionary.\")\n",
        "else:\n",
        "  print(\"We cannot see Ada's age in the dictionary.\")\n",
        "  \n",
        "if database[\"maggie@ourfakebank.co.uk\"][4] == '101090':\n",
        "  print(\"We can see Maggie's sort code in the dictionary.\")\n",
        "else:\n",
        "  print(\"We cannot see Maggie's sort code in the dictionary.\")"
      ],
      "execution_count": 0,
      "outputs": []
    },
    {
      "cell_type": "markdown",
      "metadata": {
        "id": "fmQQgAoWkTOt",
        "colab_type": "text"
      },
      "source": [
        "---\n",
        "\n",
        "Now we have the data, let's set about creating a secure credit card class. We can do this by extending the ```CreditCardCustomer``` class and overloading the ```make_payment(amount)``` function. Here's what we need to do:\n",
        "\n",
        "\n",
        "1. Create a new Class called ```SecureCreditCardCustomer``` that extends ```CreditCardCustomer```.\n",
        "2. Modify the ```make_payment(amount)``` function so that it accepts three parameters - an amount as before, a password, and a database.\n",
        "3. In your new version of ```make_payment(amount,password,database)```, update the code so that if the password used to make a payment does not equal the password in the database, payment will be rejected.\n",
        "4. All rejected payments, whatever the reason should return False.\n",
        "5. Print out a message if payment is rejected due to a password mismatch.\n",
        "\n",
        "Try and write this code below. If you get stuck, a full solution is provided further down.\n"
      ]
    },
    {
      "cell_type": "code",
      "metadata": {
        "id": "8nQ0rrtwpRQy",
        "colab_type": "code",
        "colab": {}
      },
      "source": [
        "class SecureCreditCardCustomer(CreditCardCustomer):\n",
        "  \"\"\"\n",
        "  A class that defines a Secure Credit Card Customer object.\n",
        "  \"\"\"\n",
        "  \n",
        "  def __init__(self,nme, a, dob, rate, lim):\n",
        "    \"\"\"\n",
        "    Creates a Secure Credit Card Customer object.\n",
        "    \n",
        "    Input: \n",
        "        nme - the string name for the customer (first name and \n",
        "              surname, space separated).\n",
        "        a - the integer age of the customer.\n",
        "        dob - the string date of birth (d.o.b) of the customer.\n",
        "              Here we assume this is in the form: dd/mm/yyyy.\n",
        "        rate - the annual interest rate (%) as a float.\n",
        "        limit - a float defining the spending limit.\n",
        "  \n",
        "    Output: \n",
        "        None.\n",
        "    \"\"\"\n",
        "    CreditCardCustomer.__init__(self, nme, a, dob, rate, lim)\n",
        "  \n",
        "     \n",
        "  def make_payment(self, amount,password,database):\n",
        "    \"\"\"\n",
        "    Tries to make a payment using the card.\n",
        "     \n",
        "    Input: \n",
        "      amount - a float variable corresponding to the amount being paid.\n",
        "      password - a string variable containing an accunt password.\n",
        "      databse - a dctionary containing customer details. The key value\n",
        "                is the customers email address.\n",
        "      \n",
        "    Output:\n",
        "      True if the payment was successful, else False.\n",
        "      \n",
        "    \"\"\"\n",
        "    # Fill this in..."
      ],
      "execution_count": 0,
      "outputs": []
    },
    {
      "cell_type": "markdown",
      "metadata": {
        "id": "61ElufzkpReh",
        "colab_type": "text"
      },
      "source": [
        "### Tests of the ```SecureCreditCardCustomer``` class\n",
        "\n",
        "Below we have some code that you can use to test your new class. Before this code can be used, make sure you first run the cell containing your code. Then you can safely run the cell below."
      ]
    },
    {
      "cell_type": "code",
      "metadata": {
        "id": "yMZYFIQYpTaR",
        "colab_type": "code",
        "colab": {}
      },
      "source": [
        "# Let's test this new Class using some real data:\n",
        "rate = 16.4\n",
        "limit = 1000.0\n",
        "correct_password = \"w094nfskjh82\"\n",
        "sccc = SecureCreditCardCustomer(\"Maggie Aderin-Pocock\",51,'09/03/1968',\n",
        "                                rate, limit)\n",
        "\n",
        "# Let's get the account to self identify.\n",
        "print(sccc.identify())\n",
        "\n",
        "# Now lets get the account spending...\n",
        "amount = 100.0\n",
        "print(\"\\nTrying to spend £\", amount, \" - successful:\", \n",
        "      sccc.make_payment(amount,'wrong password',database))\n",
        "\n",
        "# Let's update the email address.\n",
        "sccc.email = \"maggie@ourfakebank.co.uk\"\n",
        "\n",
        "# Now try again - but password still invalid.\n",
        "print(\"\\nTrying to spend £\", amount, \" - successful:\", \n",
        "      sccc.make_payment(amount,'wrong password',database))\n",
        "\n",
        "\n",
        "# Now try again - with correct password.\n",
        "print(\"\\nTrying to spend £\", amount, \" - successful:\", \n",
        "      sccc.make_payment(amount,correct_password,database))\n",
        "\n",
        "# Let's get the minimum payment amount this month.\n",
        "sccc.update_mmp()\n",
        "print(\"Minimum payment on the balance: \", sccc.balance, \"is £\", sccc.mmp)\n",
        "\n",
        "# Let's get the account to confirm the outcome.\n",
        "print(sccc.identify())"
      ],
      "execution_count": 0,
      "outputs": []
    },
    {
      "cell_type": "markdown",
      "metadata": {
        "id": "mQCGfg6YpTyp",
        "colab_type": "text"
      },
      "source": [
        "### Solution\n",
        "\n",
        "Below I provide a full working example for the class."
      ]
    },
    {
      "cell_type": "code",
      "metadata": {
        "id": "QYwqH04VVWo9",
        "colab_type": "code",
        "colab": {}
      },
      "source": [
        "class SecureCreditCardCustomer(CreditCardCustomer):\n",
        "  \"\"\"\n",
        "  A class that defines a Secure Credit Card Customer object.\n",
        "  \"\"\"\n",
        "  \n",
        "  def __init__(self,nme, a, dob, rate, lim):\n",
        "    \"\"\"\n",
        "    Creates a Secure Credit Card Customer object.\n",
        "    \n",
        "    Input: \n",
        "        nme - the string name for the customer (first name and \n",
        "              surname, space separated).\n",
        "        a - the integer age of the customer.\n",
        "        dob - the string date of birth (d.o.b) of the customer.\n",
        "              Here we assume this is in the form: dd/mm/yyyy.\n",
        "        rate - the annual interest rate (%) as a float.\n",
        "        limit - a float defining the spending limit.\n",
        "  \n",
        "    Output: \n",
        "        None.\n",
        "    \"\"\"\n",
        "    CreditCardCustomer.__init__(self, nme, a, dob, rate, lim)\n",
        "  \n",
        "     \n",
        "  def make_payment(self, amount,password,database):\n",
        "    \"\"\"\n",
        "    Tries to make a payment using the card.\n",
        "     \n",
        "    Input: \n",
        "      amount - a float variable corresponding to the amount being paid.\n",
        "      password - a string variable containing an accunt password.\n",
        "      databse - a dctionary containing customer details. The key value\n",
        "                is the customers email address.\n",
        "      \n",
        "    Output:\n",
        "      True if the payment was successful, else False.\n",
        "      \n",
        "    \"\"\"\n",
        "    if password != None:\n",
        "      \n",
        "      # Get correct password from database.\n",
        "      try:\n",
        "        database_password = database[self.email][7]\n",
        "      except KeyError:\n",
        "        print(\"Customer has no email address - cannot verify identity!\")\n",
        "        return False\n",
        "      \n",
        "      if password == database_password:\n",
        "        if abs(self.balance) + amount <= self.limit:\n",
        "\n",
        "          self.debit(amount)\n",
        "          return True\n",
        "        else:\n",
        "          print(\"Cannot make payment, over credit limit!\")\n",
        "          return False\n",
        "      else:\n",
        "        print(\"Password invalid - cannot make payment!\")\n",
        "        return False\n",
        "    else:\n",
        "      print(\"No password provided - cannot make payment!\")\n",
        "      return False\n",
        "    \n",
        "\n",
        "# Let's test this new Class using some real data:\n",
        "rate = 16.4\n",
        "limit = 1000.0\n",
        "correct_password = \"w094nfskjh82\"\n",
        "sccc = SecureCreditCardCustomer(\"Maggie Aderin-Pocock\",51,'09/03/1968',\n",
        "                                rate, limit)\n",
        "\n",
        "# Let's get the account to self identify.\n",
        "print(sccc.identify())\n",
        "\n",
        "# Now lets get the account spending...\n",
        "amount = 100.0\n",
        "print(\"\\nTrying to spend £\", amount, \" - successful:\", \n",
        "      sccc.make_payment(amount,'wrong password',database))\n",
        "\n",
        "# Let's update the email address.\n",
        "sccc.email = \"maggie@ourfakebank.co.uk\"\n",
        "\n",
        "# Now try again - but password still invalid.\n",
        "print(\"\\nTrying to spend £\", amount, \" - successful:\", \n",
        "      sccc.make_payment(amount,'wrong password',database))\n",
        "\n",
        "\n",
        "# Now try again - with correct password.\n",
        "print(\"\\nTrying to spend £\", amount, \" - successful:\", \n",
        "      sccc.make_payment(amount,correct_password,database))\n",
        "\n",
        "# Let's get the minimum payment amount this month.\n",
        "sccc.update_mmp()\n",
        "print(\"Minimum payment on the balance: \", sccc.balance, \"is £\", sccc.mmp)\n",
        "\n",
        "# Let's get the account to confirm the outcome.\n",
        "print(sccc.identify())"
      ],
      "execution_count": 0,
      "outputs": []
    },
    {
      "cell_type": "markdown",
      "metadata": {
        "id": "rRVgifchzATT",
        "colab_type": "text"
      },
      "source": [
        "At this point we now have a basic secure credit card class. We can keep expanding this if we wish. We can even create a whole load of customers from a database file as we show below:"
      ]
    },
    {
      "cell_type": "code",
      "metadata": {
        "id": "wOnqDkQAzUR6",
        "colab_type": "code",
        "colab": {}
      },
      "source": [
        "# This time let's read in the data from the file, and\n",
        "# create a customers list.\n",
        "customers = []\n",
        "\n",
        "# Rate and limit for the customers.\n",
        "rate = 16.4\n",
        "limit = 1000.0\n",
        "\n",
        "# Now iterate over the lies we've pre-processed. We can\n",
        "# skip the header line, so start at position 1 instead of\n",
        "# 0.\n",
        "for i in range(1,len(lines)):\n",
        "  \n",
        "  line = lines[i] # Get the line.\n",
        "  \n",
        "  # Split the line on the comma separator - as we know this data\n",
        "  # is in CSV format. This will produce a list called 'line_contents'.\n",
        "  line_contents = line.split(',')\n",
        "  \n",
        "  # We know from the structure of the file:\n",
        "  # \n",
        "  # Name,Age,D.O.B,Account Number,Sort Code,Email,Address,Balance,Password\n",
        "  #  ^    ^    ^          ^           ^       ^      ^       ^        ^\n",
        "  #  |    |    |          |           |       |      |       |        |\n",
        "  #  0    1    2          3           4       5      6       7        8\n",
        "  # \n",
        "  \n",
        "  sccc = SecureCreditCardCustomer(line_contents[0],line_contents[1],\n",
        "                                  line_contents[2], rate, limit)\n",
        "  \n",
        "  # Update the instance variables.\n",
        "  sccc.account_number = line_contents[3]\n",
        "  sccc.sort_code = line_contents[4]\n",
        "  sccc.email = line_contents[5]\n",
        "  sccc.address = line_contents[6]\n",
        "  sccc.balance = float(line_contents[7])\n",
        "  \n",
        "  customers.append(sccc)\n",
        "\n",
        "# Now check the list.\n",
        "for c in customers:\n",
        "  print(c.identify())\n",
        "\n",
        "# Further test.\n",
        "print(\"\\nAnother example where we access the list directly:\")\n",
        "print(customers[5].email)\n"
      ],
      "execution_count": 0,
      "outputs": []
    },
    {
      "cell_type": "markdown",
      "metadata": {
        "id": "wGP6Gv0AzTfA",
        "colab_type": "text"
      },
      "source": [
        "It's really up to you where you take things from here. You've built up quite a lot of experience in a short space of time and built quite a complex example. You should feel confident enough to try some new challenges that you’ve set for yourself. Maybe you can see some deficiencies in the code we've written - e.g. it's not sensible to load a database each time, to check passwords when making transactions. Perhaps you could create a ```Broker``` class that holds the database and determines if a transaction is authorised or not. It's really up to you!"
      ]
    },
    {
      "cell_type": "markdown",
      "metadata": {
        "id": "3lONbDUZlxdj",
        "colab_type": "text"
      },
      "source": [
        "**Head back to the slides at this point.**\n",
        "\n",
        "---"
      ]
    },
    {
      "cell_type": "markdown",
      "metadata": {
        "id": "mVPJCxv9lx0z",
        "colab_type": "text"
      },
      "source": [
        "## 6. Importing Modules\n",
        "\n",
        "Perhaps we wish to up the complexity of what we're trying to do. Suppose we aim to keep track of customer monthly minimum repayments, to make sure their debt isn't spiralling out of control. To simulate this scenario, we could do with some random spending data for a customer to play with. So far, we've only used in-built Python libraries in our code. But now we can take advantage of a Python library written elsewhere, that has been designed to generate random numbers. To use this code, we must import it. By importing it, the Python interpreter knows about the code, and won't generate any errors if we reference it. In the example below, I import a library called ```random```. This is extremely useful for generating random numbers.\n",
        "\n",
        "\n",
        "Perhaps we wish to up the complexity of what we're trying to do. Suppose we aim to keep track of customer monthly minimum repayments, to make sure customer debt isn't spiralling out of control. \n",
        "\n",
        "<br/>\n",
        "\n",
        "To simulate this scenario, we could really do with some random spending data for a customer to play with. But how to do this?\n",
        "\n",
        "<br/>\n",
        "\n",
        "So far, we've only used in-built Python libraries in our code. But here’s we’ll take advantage of a Python library written elsewhere to generate our spending data. We’ll use a library that has been designed to generate random numbers. To use this code, we must ```import``` it. When importing the Python interpreter loads the external library code. This means we won’t get any errors if we reference it. In the example below, I import a library called ```random```. This is extremely useful for generating random numbers. I use the library to generate random numbers in some range. Here I generate uniform random numbers, but I could also generate Gaussian random numbers if I wished.\n"
      ]
    },
    {
      "cell_type": "code",
      "metadata": {
        "id": "72Bt9GPDlyM1",
        "colab_type": "code",
        "colab": {}
      },
      "source": [
        "# Here I import the Random library.\n",
        "import random\n",
        "\n",
        "# Let's get a customer from the list - we choose Maggie at random.\n",
        "maggie = customers[8]\n",
        "maggies_password = 'w094nfskjh82'\n",
        "maggie.balance = 0.0 # Reset before test.\n",
        "\n",
        "# First establish the customer details.\n",
        "print(maggie.identify())\n",
        "mmps = [] # stores the minimum monthly payment amounts.\n",
        "\n",
        "for i in range (1,13): # for 12 months\n",
        "  spends = random.uniform(20.0, 100.00) # Spends between £20 and £100\n",
        "  pays_off = random.uniform(0.0, 50.00) # Pays off between £20 and £100\n",
        "\n",
        "  # Spends some random amount on her card each month.\n",
        "  maggie.make_payment(spends,maggies_password,database)\n",
        "  \n",
        "  # Pays off some random amount on her card each month.\n",
        "  maggie.credit(pays_off)\n",
        "  \n",
        "  # Update the minimum monthly repayment amount\n",
        "  # required just to pay off the interest.\n",
        "  maggie.update_mmp()\n",
        "  \n",
        "  mmps.append(maggie.mmp)\n",
        "\n",
        "# First establish the customer details.\n",
        "print(\"Completed Loop\")\n",
        "print(maggie.identify())\n",
        "\n",
        "print(\"MMPs collected: \", len(mmps))\n",
        "print(\"MMP data: \", mmps)\n"
      ],
      "execution_count": 0,
      "outputs": []
    },
    {
      "cell_type": "markdown",
      "metadata": {
        "id": "cCaMobhy-kNB",
        "colab_type": "text"
      },
      "source": [
        "We now have the data describing the monthly repayments in the ```mmps``` variable. It's hard to interpret as is. It often helps to visual data to better understand it. We can use an existing Python library to help us do this. This time, we'll use a library called ```matplotlib```. Please read the code below, then execute it.\n"
      ]
    },
    {
      "cell_type": "code",
      "metadata": {
        "id": "Q5UzAx0CF7ay",
        "colab_type": "code",
        "colab": {}
      },
      "source": [
        "# We use the code below to import the Matplotlib library.\n",
        "%pylab inline\n",
        "import matplotlib.pyplot as plt\n",
        "\n",
        "# Now I can plot the MMPs\n",
        "figure(1)\n",
        "plot(mmps, 'r') # The 'r' parameter tells matplotlib to plot in red.\n",
        "xlabel('Month')\n",
        "ylabel('£ Value')\n",
        "title(\"Minimum monthly repayments for Maggie\")\n",
        "show()"
      ],
      "execution_count": 0,
      "outputs": []
    },
    {
      "cell_type": "markdown",
      "metadata": {
        "id": "e4VmehuaF7tP",
        "colab_type": "text"
      },
      "source": [
        "When we plot the above, we can see that Maggie’s minimum monthly payment, required to pay off the account interest, keeps increasing. So perhaps the spending should slow down - although the repayment amount is low - only £6 by month 11.\n",
        "\n",
        "<br/>\n",
        "\n",
        "I hope you can see the power of important modules. Before you go, there's a video below that will help you better understand importing modules in Python.\n"
      ]
    },
    {
      "cell_type": "code",
      "metadata": {
        "id": "1EQV4JcUGI2n",
        "colab_type": "code",
        "colab": {
          "base_uri": "https://localhost:8080/",
          "height": 336
        },
        "outputId": "0f06628f-38c7-4c60-fc5d-de5f36b3a965"
      },
      "source": [
        "# Import the HTML library\n",
        "from IPython.display import HTML\n",
        "\n",
        "# Load the video frm youtube.\n",
        "HTML('<iframe width=\"560\" height=\"315\" src=\"https://www.youtube.com/embed/CqvZ3vGoGs0\" frameborder=\"0\" allow=\"accelerometer; autoplay; encrypted-media; gyroscope; picture-in-picture\" allowfullscreen></iframe>')"
      ],
      "execution_count": 117,
      "outputs": [
        {
          "output_type": "execute_result",
          "data": {
            "text/html": [
              "<iframe width=\"560\" height=\"315\" src=\"https://www.youtube.com/embed/CqvZ3vGoGs0\" frameborder=\"0\" allow=\"accelerometer; autoplay; encrypted-media; gyroscope; picture-in-picture\" allowfullscreen></iframe>"
            ],
            "text/plain": [
              "<IPython.core.display.HTML object>"
            ]
          },
          "metadata": {
            "tags": []
          },
          "execution_count": 117
        }
      ]
    },
    {
      "cell_type": "markdown",
      "metadata": {
        "id": "mZhk_lYHlyeu",
        "colab_type": "text"
      },
      "source": [
        "\n",
        "---"
      ]
    }
  ]
}