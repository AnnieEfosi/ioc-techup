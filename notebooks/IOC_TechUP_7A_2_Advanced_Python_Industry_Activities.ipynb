{
  "nbformat": 4,
  "nbformat_minor": 0,
  "metadata": {
    "colab": {
      "name": "IOC-TechUP-7A-2-Advanced-Python Industry Activities.ipynb",
      "provenance": [],
      "collapsed_sections": [],
      "toc_visible": true
    },
    "kernelspec": {
      "name": "python3",
      "display_name": "Python 3"
    }
  },
  "cells": [
    {
      "cell_type": "markdown",
      "metadata": {
        "id": "ZNxt0D_ToKcb",
        "colab_type": "text"
      },
      "source": [
        "# IOC Module 7A.2 - Industry Activities\n",
        "\n",
        "Author: Dr. Robert Lyon\n",
        "\n",
        "Contact: robert.lyon@edgehill.ac.uk (www.scienceguyrob.com)\n",
        "\n",
        "Institution: Edge Hill University\n",
        "\n",
        "Version: 1.0\n",
        "    \n",
        "## Code & License\n",
        "The code and the contents of this notebook are released under the GNU GENERAL PUBLIC LICENSE, Version 3, 29 June 2007.\n",
        "\n",
        "## Introduction\n",
        "\n",
        "This notebook has been written to support the IOC Techup-Women Module, 7A.2 Advanced Python. \n",
        "\n",
        "Before you continue, I’m assuming that you've already followed the following code academy tutorial.\n",
        "\n",
        "<br/>\n",
        "\n",
        "[Code Academy Tutorial](https://www.codecademy.com/learn/learn-python-3)\n",
        "\n",
        "<br/>\n",
        "\n",
        "\n",
        "This resource is supposed to be used in after **Parts 3 & 4** of Module 7A.2.\n",
        "\n",
        "## What is Google Colab?\n",
        "Google Colab provides a software environment you can use to execute code. This means you don't have to setup any complicated software environments for yourself - you can simply load this site and run our activities. You'll need your own Google ID to login and use this resource to its full potential. So please, sign up for a Google account if you **do not** already have one. \n",
        "\n",
        "\n",
        "## Industry Activities\n",
        "\n",
        "Some of our industry colleagues have provided coding activities, to test what you've learned. Some of these examples may appear unrelated to what companies require from the software they write. However, these activities are similar to the coding tasks that software engineers must undertake each day. \n",
        "\n",
        "Actually, these activities are very similar to those companies use during job interviews, to check that prospective employees can actually code! I've been subjected to such tests in the past. So, these activities are good practice if you're thinking about pursuing a career in programming.\n"
      ]
    },
    {
      "cell_type": "markdown",
      "metadata": {
        "id": "V19rvNCroMqF",
        "colab_type": "text"
      },
      "source": [
        "---\n",
        "\n",
        "### Industry Activity 1. Making Equipment\n",
        "\n",
        "You're given the following parts list which is to be used to make some device.\n",
        "\n",
        "\n",
        "* Box of screws.\n",
        "* Crate of plastic sheeting.\n",
        "* Glue.\n",
        "\n",
        "\n",
        "It doesn't matter what the device is - and the instructions to build it could be as simple as:\n",
        "\n",
        "<br/>\n",
        "\n",
        "1. Collect screws.\n",
        "2. Drill holes in the plastic sheeting\n",
        "Screw sheeting together etc.\n",
        "\n",
        "<br/>\n",
        "\n",
        "You're now asked to write a Python programme capable of building new devices, via interaction with a state-of-the-art computer-controlled workshop. \n",
        "\n",
        "<br/>\n",
        "\n",
        "To help make this clearer, suppose there is a robotic arm that you can control, and any manufacturing devices you require - hammer, screwdriver etc. - you can add in other items you may need if it helps achieve the goal. Below these items are described in the theoretical workshop. Each item is assigned some coordinates on a simple (x,y) plane. The top left of the image corresponds to position (0,0). Here are the positions of the items:\n",
        "\n",
        "<br/>\n",
        "\n",
        "* The crate containing plastic sheeting is at (21,6).\n",
        "* The glue is at (38,6).\n",
        "* The hammer is at (14,20).\n",
        "* The screwdriver is at (11,28).\n",
        "* The box of screws is at (43,28).\n",
        "* The pliers are at (39,44).\n"
      ]
    },
    {
      "cell_type": "markdown",
      "metadata": {
        "id": "e9DNP0p2oQbk",
        "colab_type": "text"
      },
      "source": [
        "![Automated Kitchen](https://raw.githubusercontent.com/scienceguyrob/IOC-Python-Tutorial/master/images/Workshop.jpg \"Automated Kitchen\")\n"
      ]
    },
    {
      "cell_type": "markdown",
      "metadata": {
        "id": "BR9ELTZBoR9U",
        "colab_type": "text"
      },
      "source": [
        "#### Discussion\n",
        "You may think this example contrived, but it's useful for determining how well you understand object orientated programming concepts. There are many ways to solve this problem. Some ways are objectively better than others, whilst some can't be critiqued for technical reasons, as some design decisions are a matter of personal preference. \n",
        "\n",
        "<br/>\n",
        "\n",
        "In the real world, code may be evaluated in terms of readability, maintainability (how easy it is for someone to work with, or upgrade), efficiency (e.g. does the code needlessly use memory or CPU time).\n",
        "\n",
        "<br/>\n",
        "\n",
        "How you break down this scenario is up to you. A partial example answer is provided below. It's incomplete, as without being specific, a perfect example is difficult to define. You can complete the code below to obtain a working solution.\n",
        "\n"
      ]
    },
    {
      "cell_type": "markdown",
      "metadata": {
        "id": "4jx8PqCF0_Mj",
        "colab_type": "text"
      },
      "source": [
        "#### Your Attempt\n",
        "\n",
        "Write you code in the cell below. When ready, compare to the potential solution provided."
      ]
    },
    {
      "cell_type": "code",
      "metadata": {
        "id": "r1ocAK8j1IAg",
        "colab_type": "code",
        "colab": {}
      },
      "source": [
        "# Your code goes here.\n",
        "\n",
        "# What objects do you need\n",
        "\n",
        "# What methods?"
      ],
      "execution_count": 0,
      "outputs": []
    },
    {
      "cell_type": "markdown",
      "metadata": {
        "id": "0ZmJ1Xpy04An",
        "colab_type": "text"
      },
      "source": [
        "#### Potential Solution\n",
        "\n",
        "Remember, these sorts of problems have many solutions. Some will be better than others. So long as your code is clear, concise, reusable, easy to maintain and does what is required, you can consider it a good solution."
      ]
    },
    {
      "cell_type": "code",
      "metadata": {
        "id": "zPXuvF0RoYbt",
        "colab_type": "code",
        "colab": {}
      },
      "source": [
        "#########################\n",
        "# Workshop Object class\n",
        "#########################\n",
        "\n",
        "class WorkshopObject:\n",
        "  \"\"\"\n",
        "  A class representing a basic Workshop object.\n",
        "  \"\"\"\n",
        "  \n",
        "  def __init__(self, xcordinate, ycordinate, nme):\n",
        "    \"\"\"\n",
        "    Initialises the object.\n",
        "    \"\"\"\n",
        "    self.x = xcordinate\n",
        "    self.y = ycordinate\n",
        "    self.name = nme\n",
        "    self.held = False\n",
        "    \n",
        "  def identify(self):\n",
        "    \"\"\"\n",
        "    Ask this object to self identify it's position.\n",
        "    \"\"\"\n",
        "    print(\"I am a \", self.name , \" at position (\",self.x,\",\", self.y,\")\")\n",
        "  \n",
        "  def move(self,newx, newy):\n",
        "    \"\"\"\n",
        "    Moves the object to the desired location\n",
        "    \"\"\"\n",
        "    print(\"Moving \", self.name , \" from (\",self.x,\",\",self.y,\\\n",
        "          \") to (\",newx,\",\",newy,\")\")\n",
        "    self.x = newx\n",
        "    self.y = newy\n",
        "    \n",
        "  def grab(self):\n",
        "    \"\"\"\n",
        "    Grabs the object.\n",
        "    \"\"\"\n",
        "    if self.held == True:\n",
        "      print(\"The \", self.name ,\" cannot be grabbed, it's grabbed already.\")\n",
        "    else:\n",
        "      print(\"The \", self.name ,\" has been grabed.\")\n",
        "      self.held = True\n",
        "    \n",
        "  def release(self):\n",
        "    \"\"\"\n",
        "    Releases the object.\n",
        "    \"\"\"\n",
        "    if self.held == False:\n",
        "      print(\"The \", self.name ,\" cannot be released, it's not held.\")\n",
        "    else:\n",
        "      print(\"The \", self.name ,\" has been released.\")\n",
        "      self.held = False\n",
        "    \n",
        "\n",
        "#########################\n",
        "# Robotic Arm class\n",
        "#########################\n",
        "\n",
        "class RoboticArm(WorkshopObject):\n",
        "  \n",
        "  def __init__(self, xcordinate, ycordinate, name):\n",
        "    WorkshopObject.__init__(self, xcordinate, ycordinate, name)\n",
        "    \n",
        "    # The object held by the arm\n",
        "    self.grippedObject = None\n",
        "    \n",
        "  def grab(self,obj):\n",
        "    \"\"\"\n",
        "    Attempts to use the arm to grab an object.\n",
        "    \"\"\"\n",
        "    if self.grippedObject is not None:\n",
        "      print(\"Cannot grab object, already have an object!\")\n",
        "    else:\n",
        "      if obj.x == self.x and obj.y == self.y:\n",
        "        print(\"Grabbing object...\")\n",
        "        obj.grab()\n",
        "        self.grippedObject = obj\n",
        "      else:\n",
        "        print(\"No object at positon (\",self.x,\",\",self.y,\")\")\n",
        "  \n",
        "  def drop(self,obj):\n",
        "    \"\"\"\n",
        "    Drops the object held by the arm.\n",
        "    \"\"\"\n",
        "    if self.grippedObject is None:\n",
        "      print(\"Cannot drop object, no object held!\")\n",
        "    else:\n",
        "      print(\"Dropping object...\")\n",
        "      obj.release()\n",
        "      self.grippedObject = None      \n",
        "\n",
        "    \n",
        "  def move(self,newx, newy):\n",
        "    \"\"\"\n",
        "    Moves the object to the desired location\n",
        "    \"\"\"\n",
        "    print(\"Moving \", self.name , \" from (\",self.x,\",\",self.y,\\\n",
        "          \") to (\",newx,\",\",newy,\")\")\n",
        "    self.x = newx\n",
        "    self.y = newy\n",
        "    \n",
        "    if self.grippedObject is not None:\n",
        "      self.grippedObject.move(self.x, self.y)\n",
        "    \n",
        "  def pour():\n",
        "    \"\"\"\n",
        "    \"\"\"\n",
        "  \n",
        "  def whisk():\n",
        "    \"\"\"\n",
        "    \"\"\"\n",
        "    \n",
        "\n",
        "###########################\n",
        "# Now define other objects\n",
        "###########################\n",
        "\n",
        "\n",
        "\n",
        "arm = RoboticArm(26,28,\"Robotic Arm\")\n",
        "arm.identify()\n",
        "\n",
        "box_screws = WorkshopObject(43,28,\"Box of Screws\")\n",
        "box_screws.identify()\n",
        "\n",
        "arm.move(43,28)\n",
        "arm.grab(box_screws)\n",
        "\n",
        "arm.move (38,6)"
      ],
      "execution_count": 0,
      "outputs": []
    },
    {
      "cell_type": "markdown",
      "metadata": {
        "id": "Xg4MXzqSodFI",
        "colab_type": "text"
      },
      "source": [
        "---\n",
        "\n",
        "### Industry Activity 2. Convert a string to an integer\n",
        "\n",
        "Your task is to implement a function that will take in a string argument and convert it into an integer. The function should preserve the sign (e.g. if the number is negative, the negative sign must be kept) and it must be able to handle erroneous none numeric characters without breaking.\n",
        "\n",
        "For example, the table below shows some input strings, and the value we expect.\n",
        "\n",
        "\n",
        "\n",
        "|Input string| Correct output value|\n",
        "|------------|---------------------|\n",
        "|\"1056\"      |         1056        |\n",
        "|\"-478\"      |         -478        |\n",
        "|\"Hello\"     |          0          |\n",
        "|\"$%^&\"      |          0          |\n",
        "\n",
        "\n"
      ]
    },
    {
      "cell_type": "markdown",
      "metadata": {
        "id": "fMPDHkw312tg",
        "colab_type": "text"
      },
      "source": [
        "#### Your Attempt\n",
        "\n",
        "Write you code in the cell below. When ready, compare to the potential solution provided."
      ]
    },
    {
      "cell_type": "code",
      "metadata": {
        "id": "n1jmA0bS14o_",
        "colab_type": "code",
        "colab": {}
      },
      "source": [
        "# Your code here."
      ],
      "execution_count": 0,
      "outputs": []
    },
    {
      "cell_type": "markdown",
      "metadata": {
        "id": "tgBbwLNa07zQ",
        "colab_type": "text"
      },
      "source": [
        "#### Solution"
      ]
    },
    {
      "cell_type": "code",
      "metadata": {
        "id": "z4fHYQd-olDa",
        "colab_type": "code",
        "colab": {}
      },
      "source": [
        "def stringToInt(text):\n",
        "  \"\"\"\n",
        "  A function that converts a string containing a number,\n",
        "  into an integer variable. This function does not use\n",
        "  any library functions to complete the conversion.\n",
        "  \n",
        "  Input:\n",
        "  \n",
        "  text: the input text which should contain a numeric string.\n",
        "  \n",
        "  Output:\n",
        "  \n",
        "  An integer corresponding to the numeric string passed to \n",
        "  this function if the input is valid, else 0 is returned.\n",
        "  \n",
        "  \"\"\"\n",
        "  if text is None:\n",
        "    return 0\n",
        "  \n",
        "  elif text is \"\":\n",
        "    return 0\n",
        "  \n",
        "  else:\n",
        "    \n",
        "    total  = 0\n",
        "    factor = 0\n",
        "    isNegative = False\n",
        "    containsNonNumeric = False\n",
        "    \n",
        "    # Obtain the length of the string.\n",
        "    length = len(text)\n",
        "    \n",
        "    for i in range(length-1, -1, -1): # This is a reverse loop.\n",
        "      \n",
        "      # The the character as a char data type.\n",
        "      char = bytes(text[i] ,\"UTF-8\")\n",
        "      \n",
        "      # Check the chars are numbers.\n",
        "      if(char >=bytes('0',\"UTF-8\") and char <= bytes('9',\"UTF-8\")):\n",
        "        total  += int(char) * pow(10, factor)\n",
        "        factor +=1\n",
        "      elif ord(char) == 45: # The ord unction gets the unicode character value.\n",
        "        # In unicode, a negative sign has the unicode value of 45.\n",
        "        isNegative = True\n",
        "      else:\n",
        "        # The charcater must be none-numeric.\n",
        "        containsNonNumeric = True\n",
        "        return 0\n",
        "    \n",
        "    if isNegative:\n",
        "      return total * -1\n",
        "    else:\n",
        "      return total\n",
        "  \n",
        "\n",
        "# First, we create our test cases.\n",
        "tc_1 = \"1056\"  # Return 1056.\n",
        "tc_2 = \"-478\"  # Return -478.\n",
        "tc_3 = \"Hello\" # Not a number, return 0.\n",
        "tc_4 = \"$%^&\"  # Invalid characters, return 0.\n",
        "tc_5 = \"\"      # Empty string, return 0.\n",
        "tc_6 = None    # None value, return 0.\n",
        "tc_7 = \"sd324\" # Alpha-numeric, return 0.\n",
        "tc_8 = \"12m5\"  # Alpha-numeric, return 0.\n",
        "\n",
        "# Now we can test the function above, ensuring it works as expected.\n",
        "print(\"Test case 1 result: \", stringToInt(tc_1))\n",
        "print(\"Test case 2 result: \", stringToInt(tc_2))\n",
        "print(\"Test case 3 result: \", stringToInt(tc_3))\n",
        "print(\"Test case 4 result: \", stringToInt(tc_4))\n",
        "print(\"Test case 5 result: \", stringToInt(tc_5))\n",
        "print(\"Test case 6 result: \", stringToInt(tc_6))\n",
        "print(\"Test case 7 result: \", stringToInt(tc_7))\n",
        "print(\"Test case 8 result: \", stringToInt(tc_8))\n"
      ],
      "execution_count": 0,
      "outputs": []
    },
    {
      "cell_type": "markdown",
      "metadata": {
        "id": "vCTs5gOzomMC",
        "colab_type": "text"
      },
      "source": [
        "---\n",
        "\n",
        "### Industry Activity 3. Find the Unique value\n",
        "\n",
        "The following function attempts to find the unique value in an array, if it exists. Unfortunately, there is a bug in this code, and it does not output the correct value.\n",
        "\n",
        "Assuming the following:\n",
        "\n",
        "•\tThe array is unsorted and of a known length\n",
        "\n",
        "•\tThe array is an integer array\n",
        "\n",
        "•\tThere is only one unique value\n",
        "\n",
        "•\tThe array contains only values >= 0\n",
        "\n",
        "\n",
        "\n",
        "Can you successfully complete the following activities?\n",
        "\n",
        "1.\tSuppose you are given an array of length 7. It contains the following values: {3, 5, 7, 5, 9, 9, 7}. What value is currently returned by the broken function?\n",
        "2.\tCan you fix the function, so it returns the correct value?\n",
        "\n",
        "\n",
        "\n",
        "#### Broken Code\n",
        "\n",
        "Try and fix the broken code below. If you change it too much and need to get back to the default code I provided, you can always re-download the notebook and start again. "
      ]
    },
    {
      "cell_type": "code",
      "metadata": {
        "id": "6Moi1XZho0TG",
        "colab_type": "code",
        "colab": {}
      },
      "source": [
        "def findUnique(array):\n",
        "  \"\"\"\n",
        "  A function that reads an array, and fnd the unique item within it.\n",
        "  \n",
        "  Input:\n",
        "  \n",
        "  array: an integer array.\n",
        "  \n",
        "  Output:\n",
        "  \n",
        "  An integer corresponding to the unique element n the error,\n",
        "  otherwise None should be returned.\n",
        "  \"\"\"\n",
        "  \n",
        "  # The array should exist.\n",
        "  if array is None:\n",
        "    return None\n",
        "  \n",
        "  # The array should not be empty.\n",
        "  if len(array) < 1:\n",
        "    return None\n",
        "  \n",
        "  # Now we can proceed... first get the length of the array.\n",
        "  length = len(array)\n",
        "  \n",
        "  for i in range(0, length):\n",
        "    \n",
        "    isUnique = True\n",
        "    \n",
        "    for j in range(0, length):\n",
        "      if i != j or array[i] == array[j]:\n",
        "          isUnique = False\n",
        "          \n",
        "    if isUnique:\n",
        "        return array[i]\n",
        "      \n",
        "  \n",
        "# First, we create our test cases.\n",
        "tc_1 = [5,2,3,4,1,4,3,2,5] # 1 unique item, 1 (middle of array).\n",
        "tc_2 = [1,2,3,4,4,4,3,2,5] # 1 unique item, 1 (start of array).\n",
        "tc_3 = [3,2,3,4,2,4,3,2,1] # 1 unique item, 1 (end of array).\n",
        "tc_4 = [ ]                 # Empty, return None\n",
        "tc_5 = [1]                 # Just one item, return 1.\n",
        "\n",
        "# Now we can test the function above, ensuring it works as expected.\n",
        "print(\"Test case 1 result: \", findUnique(tc_1))\n",
        "print(\"Test case 2 result: \", findUnique(tc_2))\n",
        "print(\"Test case 3 result: \", findUnique(tc_3))\n",
        "print(\"Test case 4 result: \", findUnique(tc_4))\n",
        "print(\"Test case 5 result: \", findUnique(tc_5))\n"
      ],
      "execution_count": 0,
      "outputs": []
    },
    {
      "cell_type": "markdown",
      "metadata": {
        "id": "XNJoC1uro2wO",
        "colab_type": "text"
      },
      "source": [
        "#### Solution\n",
        "\n",
        "**Task 1**\n",
        "\n",
        "Solution: The function returns: None.\n",
        "\n",
        "Do you understand why this is the case? Well it looks like our logic may be incorrect. \n",
        "\n",
        "\n",
        "\n",
        "**Task 2**\n",
        "\n",
        "To repair the code, the \"OR\" must be changed to an \"AND\". \n",
        "\n",
        "**Repaired Code**"
      ]
    },
    {
      "cell_type": "code",
      "metadata": {
        "id": "nCcfjSk_o5ej",
        "colab_type": "code",
        "colab": {}
      },
      "source": [
        "def findUnique(array):\n",
        "  \"\"\"\n",
        "  A function that reads an array, and fnd the unique item within it.\n",
        "  \n",
        "  Input:\n",
        "  \n",
        "  array: an integer array.\n",
        "  \n",
        "  Output:\n",
        "  \n",
        "  An integer corresponding to the unique element n the error,\n",
        "  otherwise None should be returned.\n",
        "  \"\"\"\n",
        "  \n",
        "  # The array should exist.\n",
        "  if array is None:\n",
        "    return None\n",
        "  \n",
        "  # The array should not be empty.\n",
        "  if len(array) < 1:\n",
        "    return None\n",
        "  \n",
        "  # Now we can proceed... first get the length of the array.\n",
        "  length = len(array)\n",
        "  \n",
        "  for i in range(0, length):\n",
        "    \n",
        "    isUnique = True\n",
        "    \n",
        "    for j in range(0, length):\n",
        "      if i != j and array[i] == array[j]:\n",
        "          isUnique = False\n",
        "          \n",
        "    if isUnique:\n",
        "        return array[i]\n",
        "      \n",
        "  \n",
        "# First, we create our test cases.\n",
        "tc_1 = [5,2,3,4,1,4,3,2,5] # 1 unique item, 1 (middle of array).\n",
        "tc_2 = [1,2,3,4,4,4,3,2,5] # 1 unique item, 1 (start of array).\n",
        "tc_3 = [3,2,3,4,2,4,3,2,1] # 1 unique item, 1 (end of array).\n",
        "tc_4 = [ ]                 # Empty, return None\n",
        "tc_5 = [1]                 # Just one item, return 1.\n",
        "\n",
        "# Now we can test the function above, ensuring it works as expected.\n",
        "print(\"Test case 1 result: \", findUnique(tc_1))\n",
        "print(\"Test case 2 result: \", findUnique(tc_2))\n",
        "print(\"Test case 3 result: \", findUnique(tc_3))\n",
        "print(\"Test case 4 result: \", findUnique(tc_4))\n",
        "print(\"Test case 5 result: \", findUnique(tc_5))\n"
      ],
      "execution_count": 0,
      "outputs": []
    },
    {
      "cell_type": "markdown",
      "metadata": {
        "id": "0YoR6EMWo8s-",
        "colab_type": "text"
      },
      "source": [
        "This is not the only implementation that will work, rewriting the whole function to perform differently is not necessarily wrong and may in fact be better.\n",
        "\n",
        "---\n",
        "\n"
      ]
    },
    {
      "cell_type": "markdown",
      "metadata": {
        "id": "0KLDS03xo_28",
        "colab_type": "text"
      },
      "source": [
        "### Industry Activity 4. Check for an even number\n",
        "\n",
        "Implement a function to that will return true if a passed an even integer, and false if passed an odd integer. Consider 0 to be even.\n",
        "\n",
        "**Bonus:** Describe in general terms any other way of determining if an integer is odd or even.\n"
      ]
    },
    {
      "cell_type": "markdown",
      "metadata": {
        "id": "nAbnomUH2TUs",
        "colab_type": "text"
      },
      "source": [
        "#### Your Attempt\n",
        "\n",
        "Write you code in the cell below. When ready, compare to the potential solution provided."
      ]
    },
    {
      "cell_type": "code",
      "metadata": {
        "id": "TKgDUZ222Wg5",
        "colab_type": "code",
        "colab": {}
      },
      "source": [
        "# Your code..."
      ],
      "execution_count": 0,
      "outputs": []
    },
    {
      "cell_type": "markdown",
      "metadata": {
        "id": "GNONRqT02XRm",
        "colab_type": "text"
      },
      "source": [
        "#### Solution\n",
        "\n",
        "This problem can be solved in many ways, here we show a few of them.\n",
        "\n",
        "1. Divide by 2 and check the remainder."
      ]
    },
    {
      "cell_type": "code",
      "metadata": {
        "id": "UBQ4lOBXpGKl",
        "colab_type": "code",
        "colab": {}
      },
      "source": [
        "def isEvenModulas(num):\n",
        "  \"\"\"\n",
        "  A function that reads a number and determines if it is even.\n",
        "  \n",
        "  Input:\n",
        "  \n",
        "  num: an integer variable.\n",
        "  \n",
        "  Output:\n",
        "  \n",
        "  True if the input integer is even, otherwise false. \n",
        "  \"\"\"\n",
        "  # This simply checks if the number divided by two, equals zero. \n",
        "  return num % 2 == 0\n",
        "\n",
        "# Now we can test the function above, ensuring it works as expected.\n",
        "print(\"Test case 1 result: \", isEvenModulas(0), \"\\tExpected Output: True\")\n",
        "print(\"Test case 2 result: \", isEvenModulas(1), \"\\tExpected Output: False\")\n",
        "print(\"Test case 3 result: \", isEvenModulas(2), \"\\tExpected Output: True\")\n",
        "print(\"Test case 4 result: \", isEvenModulas(3), \"\\tExpected Output: False\")\n",
        "print(\"Test case 5 result: \", isEvenModulas(4), \"\\tExpected Output: True\")"
      ],
      "execution_count": 0,
      "outputs": []
    },
    {
      "cell_type": "markdown",
      "metadata": {
        "id": "WRo8km_2pKpK",
        "colab_type": "text"
      },
      "source": [
        "2. Check the least significant bit. Please read [this online resource](https://en.wikipedia.org/wiki/Bit_numbering#Least_significant_bit) if you're unfamiliar with the least significant bit."
      ]
    },
    {
      "cell_type": "code",
      "metadata": {
        "id": "Pu6ecK0apNU_",
        "colab_type": "code",
        "colab": {}
      },
      "source": [
        "def isEvenLSB(num):\n",
        "  \"\"\"\n",
        "  A function that reads a number and determines if it is even,\n",
        "  using the least significant bit.\n",
        "  \n",
        "  Input:\n",
        "  \n",
        "  num: an integer variable.\n",
        "  \n",
        "  Output:\n",
        "  \n",
        "  True if the input integer is even, otherwise false. \n",
        "  \"\"\"\n",
        "  # This simply checks if the least significant bit is zero.\n",
        "  # If it is, then the number is even. This happens due to the\n",
        "  # way numbers are described in binary.\n",
        "  return (num & 0x01) == 0\n",
        "\n",
        "# Now we can test the function above, ensuring it works as expected.\n",
        "print(\"Test case 1 result: \", isEvenLSB(0), \"\\tExpected Output: True\")\n",
        "print(\"Test case 2 result: \", isEvenLSB(1), \"\\tExpected Output: False\")\n",
        "print(\"Test case 3 result: \", isEvenLSB(2), \"\\tExpected Output: True\")\n",
        "print(\"Test case 4 result: \", isEvenLSB(3), \"\\tExpected Output: False\")\n",
        "print(\"Test case 5 result: \", isEvenLSB(4), \"\\tExpected Output: True\")\n"
      ],
      "execution_count": 0,
      "outputs": []
    },
    {
      "cell_type": "markdown",
      "metadata": {
        "id": "Bk2wGymhpOhl",
        "colab_type": "text"
      },
      "source": [
        "3. Check if the least significant digit is either 1,3,5,7 or 9."
      ]
    },
    {
      "cell_type": "code",
      "metadata": {
        "id": "ESVnzibbpTDW",
        "colab_type": "code",
        "colab": {}
      },
      "source": [
        "def isEvenLSD(num):\n",
        "  \"\"\"\n",
        "  A function that reads a number and determines if it is even,\n",
        "  using the least significant digit. So, if the last digit is even,\n",
        "  then the whole number is even. Otherwise it is odd.\n",
        "  \n",
        "  Input:\n",
        "  \n",
        "  num: an integer variable.\n",
        "  \n",
        "  Output:\n",
        "  \n",
        "  True if the input integer is even, otherwise false. \n",
        "  \"\"\"\n",
        "  leastSigDigit = num % 10\n",
        "  \n",
        "  switcher = {\n",
        "        1: False,\n",
        "        3: False,\n",
        "        5: False,\n",
        "        7: False,\n",
        "        9: False\n",
        "    }\n",
        "  \n",
        "  # Now this part basically tries to get the corresponding\n",
        "  # truth value from the switcher dictionary. If no value is\n",
        "  # found, True is returned.\n",
        "  return switcher.get(leastSigDigit, True)\n",
        "\n",
        "# Now we can test the function above, ensuring it works as expected.\n",
        "print(\"Test case 1 result: \", isEvenLSD(0), \"\\tExpected Output: True\")\n",
        "print(\"Test case 2 result: \", isEvenLSD(1), \"\\tExpected Output: False\")\n",
        "print(\"Test case 3 result: \", isEvenLSD(2), \"\\tExpected Output: True\")\n",
        "print(\"Test case 4 result: \", isEvenLSD(3), \"\\tExpected Output: False\")\n",
        "print(\"Test case 5 result: \", isEvenLSD(4), \"\\tExpected Output: True\")"
      ],
      "execution_count": 0,
      "outputs": []
    },
    {
      "cell_type": "markdown",
      "metadata": {
        "id": "6Gme-uzapYoB",
        "colab_type": "text"
      },
      "source": [
        "---\n",
        "\n",
        "### Industry Activity 5. Fuzzy Duck\n",
        "\n",
        "Write a function that will display the integers from 1 to $n$ (inclusive, i.e. including 1 and $n$) on separate lines, but with these complications:\n",
        "\n",
        "1.\tIf the line number is a multiple of 3, it must display \"fuzzy\" instead of the number. \n",
        "2.\tIf the line number is a multiple of 5, it must display \"duck\". \n",
        "3.\tIf the line number is a multiple of 3 and 5, it must display fuzzy duck.\n",
        "\n"
      ]
    },
    {
      "cell_type": "markdown",
      "metadata": {
        "id": "CzyxHxLk2esC",
        "colab_type": "text"
      },
      "source": [
        "#### Your Attempt\n",
        "\n",
        "Write you code in the cell below. When ready, compare to the potential solution provided."
      ]
    },
    {
      "cell_type": "code",
      "metadata": {
        "id": "DwdWNUjT2hJq",
        "colab_type": "code",
        "colab": {}
      },
      "source": [
        "# Your code...."
      ],
      "execution_count": 0,
      "outputs": []
    },
    {
      "cell_type": "markdown",
      "metadata": {
        "id": "Ydk0SYiI2hbP",
        "colab_type": "text"
      },
      "source": [
        "#### Solution"
      ]
    },
    {
      "cell_type": "code",
      "metadata": {
        "id": "Bhy0SbdjpfVC",
        "colab_type": "code",
        "colab": {}
      },
      "source": [
        "def fuzzyDuck(n):\n",
        "  \"\"\"\n",
        "  A function that prints out integers, one per line, from 1 to n with the \n",
        "  following conditions:\n",
        "  \n",
        "  1. If an arbitrary integer i between 1 and n is a multiple of 3, \n",
        "     the word \"fuzzy\" is printed, instead of i.\n",
        "  2. If an arbitrary integer i between 1 and n is a multiple of 5,\n",
        "     the word \"fuzzy\" is printed, instead of i.\n",
        "  3. If an arbitrary integer i between 1 and n is a multiple of 5,\n",
        "     and 3, the word \"fuzzy duck \" is printed, instead of i.\n",
        "  4. Otherwise the value of i is printed.\n",
        "  \n",
        "  Input:\n",
        "  \n",
        "  n: an integer specifying the number of integer lines to output.\n",
        "  \n",
        "  Output:\n",
        "  \n",
        "  Either the value of the number corresponding to the line; or the words \n",
        "  \"fuzzy\", \"duck\", or \"fuzzy duck\" as defined above.\n",
        "  \"\"\"\n",
        "  \n",
        "  for i in range(1, n+1):\n",
        "  \n",
        "    # Create a string to store the text to output.\n",
        "    output = \"\"\n",
        "    \n",
        "    # If a multiple of 3, then make output equal to \"fuzzy\".\n",
        "    if i%3 == 0:\n",
        "      output +=  \"fuzzy \" # We add the word to the output.\n",
        "    \n",
        "    # If a multiple of 5, then make output equal to \"duck\".\n",
        "    # Note that if the number is also a multiple of 3, then\n",
        "    # output will already contain the word \"fuzzy\"\n",
        "    if i%5 == 0:\n",
        "      output +=  \"duck \"# We add the word to the output.\n",
        "    \n",
        "    # If the output variable is empty, then the number isn't a\n",
        "    # multiple of 3 or 5, so just print out the number.\n",
        "    if output is \"\":\n",
        "      print(i)\n",
        "    else:\n",
        "      # Otherwise, we can print out the updated output.\n",
        "      print(output)\n",
        "      \n",
        "    # On the next loop, the output variable is cleared.\n",
        "    \n",
        "\n",
        "# Now we test the function on the numbers from 1 to 15.\n",
        "fuzzyDuck(15)"
      ],
      "execution_count": 0,
      "outputs": []
    },
    {
      "cell_type": "markdown",
      "metadata": {
        "id": "JreZAF1DpiT9",
        "colab_type": "text"
      },
      "source": [
        "That's the \"fuzzy duck\" completed.\n",
        "\n",
        "---\n",
        "\n",
        "### Industry Activity 6. Check if a string is a palindrome\n",
        "\n",
        "A palindrome is a word or phrase that is the same when read from right to left, or left to right, e.g. \"Anna\" or \"madam\".\n",
        "\n",
        "For this exercise, you must write a function that returns true when passed a palindromic string and false when passed a string that is not palindromic.\n",
        "\n",
        "For the purposes of the activity, the string will need to be an exact match including punctuation, spaces and capitalisation. For example, if passed the string \"Anna\" it should return false, whereas the string \"anna\" should return true. Thus, it must be case sensitive.\n",
        "You may assume the string length is known."
      ]
    },
    {
      "cell_type": "markdown",
      "metadata": {
        "id": "nirbMNKF2mQK",
        "colab_type": "text"
      },
      "source": [
        "#### Your Attempt\n",
        "\n",
        "Write you code in the cell below. When ready, compare to the potential solution provided."
      ]
    },
    {
      "cell_type": "code",
      "metadata": {
        "id": "xkpjXI2h2o3l",
        "colab_type": "code",
        "colab": {}
      },
      "source": [
        "# Your code..."
      ],
      "execution_count": 0,
      "outputs": []
    },
    {
      "cell_type": "markdown",
      "metadata": {
        "id": "pBgvsSMG2pJQ",
        "colab_type": "text"
      },
      "source": [
        "\n",
        "#### Solution"
      ]
    },
    {
      "cell_type": "code",
      "metadata": {
        "id": "vRj-IT7Opo4x",
        "colab_type": "code",
        "colab": {}
      },
      "source": [
        "def isPalindrome(text):\n",
        "  \"\"\"\n",
        "  A function that reads an input string and determines if it is\n",
        "  palindromic.\n",
        "  \n",
        "  Input:\n",
        "  \n",
        "  text: a string variable.\n",
        "  \n",
        "  Output:\n",
        "  \n",
        "  True if the input string is palindromic, otherwise false. This\n",
        "  function will also return false, if the input type is anything \n",
        "  other than string.\n",
        "  \"\"\"\n",
        "  \n",
        "  # First we check that the input variable is a string.\n",
        "  # If it isn't, we return false, as we can't check if\n",
        "  # an integer/float/bool is a palindrome.\n",
        "  if isinstance(text, str) == False:\n",
        "    return False\n",
        "  \n",
        "  # Now obtain the length of the string. E.g. \"bob\" has a length = 3.\n",
        "  length = len(text)\n",
        "  \n",
        "  # For each character in the string\n",
        "  for i in range(0, length):\n",
        "    \n",
        "    # We check if the character at position i, is the same\n",
        "    # as it's counterpart, on the opposite side of the string.\n",
        "    # For instance consider the string \"bob\".\n",
        "    #\n",
        "    #     position =   0  1  2\n",
        "    #                  b  0  b\n",
        "    #\n",
        "    # The length here is three. Thus to check if it is a palindrome\n",
        "    # we must check if the character at position i, is equal to\n",
        "    # the character at position, length-(i+1). \n",
        "    #\n",
        "    # So here this would be, check if character i=0, is equal to the\n",
        "    # character at position equal to:\n",
        "    #\n",
        "    # = 3 - (0 + 1) \n",
        "    # = 3 - (1)\n",
        "    # = 3 - 1\n",
        "    # = 2.\n",
        "    #\n",
        "    # Check you understand how this works.\n",
        "    if text[i] != text[length-(i+1)]:\n",
        "      return False # If false, the two characters are different.\n",
        "      \n",
        "  # If we get here, we didn't find any different characters.\n",
        "  # Thus, we return true.\n",
        "  return True\n",
        "  \n",
        "  \n",
        "# It's important that we test the function. We need to be certain it\n",
        "# works as expected. Before we can do that, we need some test cases.\n",
        "\n",
        "# First, we create our test cases.\n",
        "tc_1 = \"anna\" # This input should return TRUE.\n",
        "tc_2 = \"Anna\" # This input should return FALSE.\n",
        "tc_3 = \"rob\"  # This input should return FALSE.\n",
        "tc_4 = \"bob\"  # This input should return TRUE.\n",
        "tc_5 = 1      # This input should return FALSE.\n",
        "\n",
        "# Now we can test the function above, ensuring it works as expected.\n",
        "print(\"Test case 1 result: \", isPalindrome(tc_1), \"\\tExpected Output: True\")\n",
        "print(\"Test case 2 result: \", isPalindrome(tc_2), \"\\tExpected Output: False\")\n",
        "print(\"Test case 3 result: \", isPalindrome(tc_3), \"\\tExpected Output: False\")\n",
        "print(\"Test case 4 result: \", isPalindrome(tc_4), \"\\tExpected Output: True\")\n",
        "print(\"Test case 5 result: \", isPalindrome(tc_5), \"\\tExpected Output: False\")"
      ],
      "execution_count": 0,
      "outputs": []
    },
    {
      "cell_type": "markdown",
      "metadata": {
        "id": "W6ZocLS4prj-",
        "colab_type": "text"
      },
      "source": [
        "There is also a recursive solution to this problem. It works by breaking the problem down into successively smaller chunks."
      ]
    },
    {
      "cell_type": "code",
      "metadata": {
        "id": "CPbFJEmxptqF",
        "colab_type": "code",
        "colab": {}
      },
      "source": [
        "def isPalindromeRecursive(text):\n",
        "  \"\"\"\n",
        "  A recursive function that reads an input string and determines if it is\n",
        "  palindromic.\n",
        "  \n",
        "  Input:\n",
        "  \n",
        "  text: a string variable.\n",
        "  \n",
        "  Output:\n",
        "  \n",
        "  True if the input string is palindromic, otherwise false. This\n",
        "  function will also return false, if the input type is anything \n",
        "  other than string.\n",
        "  \"\"\"\n",
        "  \n",
        "  # First, we check that the input variable is a string.\n",
        "  # If it isn't, we return false, as we can't check if\n",
        "  # an integer/float/bool is a palindrome.\n",
        "  if isinstance(text, str) == False:\n",
        "    return False\n",
        "  \n",
        "  # Now obtain the length of the string. E.g. \"bob\" has a length = 3.\n",
        "  length = len(text)\n",
        "  \n",
        "  if length == 0 or length == 1:\n",
        "      # We return true here, as any string that has length 0 or 1,\n",
        "      # is by its very nature, a palindrome.\n",
        "      return True\n",
        "  \n",
        "  if text[0] == text[length-1]:\n",
        "      # This is the recursive call. It passes a shortened version\n",
        "      # of the input string another function call\n",
        "      \n",
        "      # Removing the comment character (# symbol) from the line below\n",
        "      # will allow you to see the text passed in the recursive call.\n",
        "      \n",
        "      #print(\"Text passed in recursive call:\", text[1:length-1])\n",
        "      \n",
        "      return isPalindromeRecursive(text[1:length-1]); \n",
        "      \n",
        "  # If we get here, we discovered the string was not a palindrome.\n",
        "  return False\n",
        "  \n",
        "  \n",
        "# It's important that we test the function. We need to be certain it\n",
        "# works as expected. Before we can do that, we need some test cases.\n",
        "\n",
        "# First, we create our test cases.\n",
        "tc_1 = \"anna\" # This input should return TRUE.\n",
        "tc_2 = \"Anna\" # This input should return FALSE.\n",
        "tc_3 = \"rob\"  # This input should return FALSE.\n",
        "tc_4 = \"bob\"  # This input should return TRUE.\n",
        "tc_5 = 1      # This input should return FALSE.\n",
        "\n",
        "# Now we can test the function above, ensuring it works as expected.\n",
        "print(\"Test case 1 result: \", isPalindromeRecursive(tc_1), \n",
        "      \"\\tExpected Output: True\")\n",
        "print(\"Test case 2 result: \", isPalindromeRecursive(tc_2), \n",
        "      \"\\tExpected Output: False\")\n",
        "print(\"Test case 3 result: \", isPalindromeRecursive(tc_3), \n",
        "      \"\\tExpected Output: False\")\n",
        "print(\"Test case 4 result: \", isPalindromeRecursive(tc_4), \n",
        "      \"\\tExpected Output: True\")\n",
        "print(\"Test case 5 result: \", isPalindromeRecursive(tc_5),\n",
        "      \"\\tExpected Output: False\")"
      ],
      "execution_count": 0,
      "outputs": []
    },
    {
      "cell_type": "markdown",
      "metadata": {
        "id": "8SNSM0QNpwn1",
        "colab_type": "text"
      },
      "source": [
        "For those that may be curious, here is an implementation that will exclude non-alphanumeric characters from the test, and will ignore capitalisation."
      ]
    },
    {
      "cell_type": "code",
      "metadata": {
        "id": "3ULVySSjpy5i",
        "colab_type": "code",
        "colab": {}
      },
      "source": [
        "def isPalindromeRecursive(text):\n",
        "  \"\"\"\n",
        "  A recursive function that reads an input string and determines if it is\n",
        "  palindromic. This version ignores alpha-numeric characters.\n",
        "  \n",
        "  Input:\n",
        "  \n",
        "  text: a string variable.\n",
        "  \n",
        "  Output:\n",
        "  \n",
        "  True if the input string is palindromic, otherwise false. This\n",
        "  function will also return false, if the input type is anything \n",
        "  other than string.\n",
        "  \"\"\"\n",
        "  \n",
        "  # First, we check that the input variable is a string.\n",
        "  # If it isn't, we return false, as we can't check if\n",
        "  # an integer/float/bool is a palindrome.\n",
        "  if isinstance(text, str) == False:\n",
        "    return False\n",
        "  \n",
        "  # Make the text lower case.\n",
        "  lowerCaseText = text.lower()\n",
        "  \n",
        "  # Now remove alpha numeric characters.\n",
        "  textNoAlpaNumeric = ''.join([c for c in lowerCaseText if c.isalpha()])\n",
        "  \n",
        "  # Now obtain the length of the string. E.g. \"bob\" has a length = 3.\n",
        "  length = len(textNoAlpaNumeric)\n",
        "  \n",
        "  if length == 0 or length == 1:\n",
        "      # We return true here, as any string that has length 0 or 1,\n",
        "      # is by its very nature, a palindrome.\n",
        "      return True\n",
        "  \n",
        "  if textNoAlpaNumeric[0] == textNoAlpaNumeric[length-1]:\n",
        "      # This is the recursive call. It passes a shortened version\n",
        "      # of the input string another function call\n",
        "      \n",
        "      # Removing the comment character (# symbol) from the line below\n",
        "      # will allow you to see the text passed in the recursive call.\n",
        "      \n",
        "      #print(\"Text passed in recursive call:\", text[1:length-1])\n",
        "      \n",
        "      return isPalindromeRecursive(textNoAlpaNumeric[1:length-1]); \n",
        "      \n",
        "  # If we get here, we discovered the string was not a palindrome.\n",
        "  return False\n",
        "  \n",
        "  \n",
        "# It's important that we test the function. We need to be certain it\n",
        "# works as expected. Before we can do that, we need some test cases.\n",
        "\n",
        "# First, we create our test cases.\n",
        "tc_1 = \"anna\" # This input should return TRUE.\n",
        "tc_2 = \"Anna\" # This input should return FALSE.\n",
        "tc_3 = \"rob\"  # This input should return FALSE.\n",
        "tc_4 = \"bob\"  # This input should return TRUE.\n",
        "tc_5 = 1      # This input should return FALSE.\n",
        "\n",
        "# Now we can test the function above, ensuring it works as expected.\n",
        "print(\"Test case 1 result: \", isPalindromeRecursive(tc_1), \n",
        "      \"\\tExpected Output: True\")\n",
        "print(\"Test case 2 result: \", isPalindromeRecursive(tc_2), \n",
        "      \"\\tExpected Output: True\")\n",
        "print(\"Test case 3 result: \", isPalindromeRecursive(tc_3), \n",
        "      \"\\tExpected Output: False\")\n",
        "print(\"Test case 4 result: \", isPalindromeRecursive(tc_4), \n",
        "      \"\\tExpected Output: True\")\n",
        "print(\"Test case 5 result: \", isPalindromeRecursive(tc_5),\n",
        "      \"\\tExpected Output: False\")"
      ],
      "execution_count": 0,
      "outputs": []
    },
    {
      "cell_type": "markdown",
      "metadata": {
        "id": "IPgssqLrp1uV",
        "colab_type": "text"
      },
      "source": [
        "\n",
        "We could have used regular expressions to solve this last problem. We'll let you research regular expressions in your own time.\n",
        "\n",
        "---\n",
        "\n",
        "Now your all done with the industry activities. We hope you found them challenging and fun!\n"
      ]
    }
  ]
}