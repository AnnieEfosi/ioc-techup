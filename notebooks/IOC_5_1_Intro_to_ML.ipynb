{
  "nbformat": 4,
  "nbformat_minor": 0,
  "metadata": {
    "anaconda-cloud": {},
    "kernelspec": {
      "display_name": "Python [conda env:py36]",
      "language": "python",
      "name": "conda-env-py36-py"
    },
    "language_info": {
      "codemirror_mode": {
        "name": "ipython",
        "version": 3
      },
      "file_extension": ".py",
      "mimetype": "text/x-python",
      "name": "python",
      "nbconvert_exporter": "python",
      "pygments_lexer": "ipython3",
      "version": "3.6.2"
    },
    "colab": {
      "name": "IOC-5-1-Intro-to-ML.ipynb",
      "provenance": [],
      "toc_visible": true
    }
  },
  "cells": [
    {
      "cell_type": "markdown",
      "metadata": {
        "id": "LZDSMUn148Si",
        "colab_type": "text"
      },
      "source": [
        "# IOC Module 5.1 - Activities Supporting: Introduction to Machine Learning\n",
        "\n",
        "Author: Dr. Robert Lyon & Dr. Swagat Kumar\n",
        "\n",
        "Contact: robert.lyon@edgehill.ac.uk (www.scienceguyrob.com)\n",
        "\n",
        "Institution: Edge Hill University\n",
        "\n",
        "Version: 1.0\n",
        "    \n",
        "## Code & License\n",
        "The code and the contents of this notebook are released under the GNU GENERAL PUBLIC LICENSE, Version 3, 29 June 2007. The images are exempt from this, as some are used in publications I've written in the past. If you'd like to use the images please let me know, and I'll sort something out.\n",
        "\n",
        "## Introduction\n",
        "\n",
        "This notebook introduces the basic concepts underpinning machine learning classification via some practical examples. This notebook requires Python 3.6 to function, which should be available in the Google Colab environment.\n",
        "\n",
        "The notebook begins by familiarising you with the Python code required to complete basic tasks, essential for building your own machine learning classifiers. This involves showing you how we interpret data, how we plot data, how we pre-process data, how to create training and test sets, and so on. It assumes no more than a basic background in computer programming. \n",
        "\n",
        "I advise that you step through each cell in this notebook slowly, at your own pace. Once you understand each cell, move on. This is important as each cell builds upon the next. Practical activities are provided near the end of the notebook. Enjoy!\n",
        "\n",
        "## What is Google Colab?\n",
        "Google Colab provides a software environment you can use to execute code. This means you don't have to setup any complicated software environments for yourself - you can simply load this site, and run our machine learning activities. You'll need your own Google ID to login and use this resource to its full potential. So please, sign up for a Google account if you **do not** already have one.\n",
        "\n",
        "## Using This Resource\n",
        "1. Login using a Goolge account or create one.\n",
        "2. Next we need to create your own copy of this resource. We do this so any changes made by other people using it, do not affect you. To do this, head up the **\"File\"** menu at the top of the screen. Click the **\"File\"** menu.\n",
        "3. Next, click the option that says **\"Download .ipynv\"**. This will download the resource to your own personal computer.\n",
        "4. Now rename the downloaded file so that you know what it is - for example, *\"my activities.ipynb\"*. Remember to keep the file extension **\".ipynb\"** in the file name.\n",
        "5. Now we upload our renamed file to the Colab environment. To do this, click the **\"File\"** menu, then **\"Upload Notebook\"**.\n",
        "Use the file chooser that appears, to select the file you renamed.\n",
        "6. The notebook should load into your browser window. This is now **your** notebook. Any changes you make to it, will not affect anybody else. Please feel free to modify it as you wish.\n",
        "7. The notebook is made up of cells. To run the code inside the cells, we must *\"execute\"* these cells. This is easy to do. Simply hover your mouse over the left most end of a cell containing code. A small \"play\" button will appear. Click this play button to execute the code. \n",
        "\n",
        "Remember, each cell is supposed to be executed in turn from the top to the bottom of this notebook. So, keep that in mind!\n",
        "\n",
        "\n",
        "\n",
        "## Getting Started - Data\n",
        "\n",
        "Here I create a simple 1-dimensional (1D) list structure.\n"
      ]
    },
    {
      "cell_type": "code",
      "metadata": {
        "id": "b5fX98bn48Sj",
        "colab_type": "code",
        "colab": {}
      },
      "source": [
        "x = [0,0,1,2,3,4,5,6,7,8,9,8,7,6,5,4,3,2,1,0,0]"
      ],
      "execution_count": 0,
      "outputs": []
    },
    {
      "cell_type": "markdown",
      "metadata": {
        "id": "S_tJr_CR48Sm",
        "colab_type": "text"
      },
      "source": [
        "We can find out about the data structure by first checking the contents are as we expect."
      ]
    },
    {
      "cell_type": "code",
      "metadata": {
        "id": "yZ4zLGwj48Sn",
        "colab_type": "code",
        "outputId": "20bb01c3-7878-4c7c-fee4-5e1385a31ec1",
        "colab": {
          "base_uri": "https://localhost:8080/",
          "height": 34
        }
      },
      "source": [
        "print(x)"
      ],
      "execution_count": 0,
      "outputs": [
        {
          "output_type": "stream",
          "text": [
            "[0, 0, 1, 2, 3, 4, 5, 6, 7, 8, 9, 8, 7, 6, 5, 4, 3, 2, 1, 0, 0]\n"
          ],
          "name": "stdout"
        }
      ]
    },
    {
      "cell_type": "markdown",
      "metadata": {
        "id": "pY4Cnzro48Sq",
        "colab_type": "text"
      },
      "source": [
        "We can also print out the list with some text formatting. This makes it easier to check and interpret our data, especially when we have lots of code."
      ]
    },
    {
      "cell_type": "code",
      "metadata": {
        "id": "_wskDJ4P48Sr",
        "colab_type": "code",
        "outputId": "b91c10c7-caed-42fc-ada5-96d7608ef5ad",
        "colab": {
          "base_uri": "https://localhost:8080/",
          "height": 34
        }
      },
      "source": [
        "print(\"The list x contains: \", x)"
      ],
      "execution_count": 0,
      "outputs": [
        {
          "output_type": "stream",
          "text": [
            "The list x contains:  [0, 0, 1, 2, 3, 4, 5, 6, 7, 8, 9, 8, 7, 6, 5, 4, 3, 2, 1, 0, 0]\n"
          ],
          "name": "stdout"
        }
      ]
    },
    {
      "cell_type": "markdown",
      "metadata": {
        "id": "QY8HhPKg48St",
        "colab_type": "text"
      },
      "source": [
        "What if we want to find out what type of object $x$ is? We can do this using the $type$ function."
      ]
    },
    {
      "cell_type": "code",
      "metadata": {
        "id": "5W4kBuK548St",
        "colab_type": "code",
        "outputId": "7aeb9b30-545a-4176-c4c3-459975fc87de",
        "colab": {
          "base_uri": "https://localhost:8080/",
          "height": 34
        }
      },
      "source": [
        "print(\"The list x is of the type: \", type(x))"
      ],
      "execution_count": 0,
      "outputs": [
        {
          "output_type": "stream",
          "text": [
            "The list x is of the type:  <class 'list'>\n"
          ],
          "name": "stdout"
        }
      ]
    },
    {
      "cell_type": "markdown",
      "metadata": {
        "id": "_8SYF_4R48Sv",
        "colab_type": "text"
      },
      "source": [
        "So we can see that the variable $x$ is a list. Here's how we can determine how many items are in $x$."
      ]
    },
    {
      "cell_type": "code",
      "metadata": {
        "id": "fP_qp1jU48Sw",
        "colab_type": "code",
        "outputId": "26bb510d-8f25-4ad6-a60c-7065a4f445af",
        "colab": {
          "base_uri": "https://localhost:8080/",
          "height": 34
        }
      },
      "source": [
        "print( \"There are \", len(x) , \" items in x.\")"
      ],
      "execution_count": 0,
      "outputs": [
        {
          "output_type": "stream",
          "text": [
            "There are  21  items in x.\n"
          ],
          "name": "stdout"
        }
      ]
    },
    {
      "cell_type": "markdown",
      "metadata": {
        "id": "ajDPlW3a48Sx",
        "colab_type": "text"
      },
      "source": [
        "## Plotting\n",
        "\n",
        "Before we can start visualising the data in $x$, we must import a Python library that makes this easier for us. We'll be using the matplotlib library. we can import it as follows:\n"
      ]
    },
    {
      "cell_type": "code",
      "metadata": {
        "id": "LrEIC3-h48Sy",
        "colab_type": "code",
        "outputId": "b519a803-ed8d-4e49-bd3c-a8a04c74489c",
        "colab": {
          "base_uri": "https://localhost:8080/",
          "height": 34
        }
      },
      "source": [
        "%pylab inline\n",
        "import matplotlib.pyplot as plt"
      ],
      "execution_count": 0,
      "outputs": [
        {
          "output_type": "stream",
          "text": [
            "Populating the interactive namespace from numpy and matplotlib\n"
          ],
          "name": "stdout"
        }
      ]
    },
    {
      "cell_type": "markdown",
      "metadata": {
        "id": "ftiNoToA48S0",
        "colab_type": "text"
      },
      "source": [
        "Remember the cell above must be executed, before we can use matplotlib for plotting. Now, let us plot the contents of $x$. Note in the code below the use of the '#' symbol. This denotes the start of a comment line. You should, as far as possible, comment your code. This will help us remember what the code was supposed to do. It also helps others understand the code better."
      ]
    },
    {
      "cell_type": "code",
      "metadata": {
        "id": "crL-rPZX48S0",
        "colab_type": "code",
        "outputId": "85cb64dd-73ee-486f-9c92-49ec098052f9",
        "colab": {
          "base_uri": "https://localhost:8080/",
          "height": 295
        }
      },
      "source": [
        "# Here I plot the contents of the variable x.\n",
        "figure(1)\n",
        "plot(x, 'r') # The 'r' parameter tells matplotlib to plot in red.\n",
        "xlabel('Bin')\n",
        "ylabel('Value')\n",
        "title(\"A plot of x\")\n",
        "show()"
      ],
      "execution_count": 0,
      "outputs": [
        {
          "output_type": "display_data",
          "data": {
            "image/png": "[encoded data removed]",
            "text/plain": [
              "<Figure size 432x288 with 1 Axes>"
            ]
          },
          "metadata": {
            "tags": []
          }
        }
      ]
    },
    {
      "cell_type": "markdown",
      "metadata": {
        "id": "QFncaVA-48S3",
        "colab_type": "text"
      },
      "source": [
        "Now how about we manipulate the values in $x$, and plot again? before we can do that, lets figure out how to create a loop in Python. The code below simply loops through numbers using the $range$ function. We provide two parameters here - the starting number of the sequence, and the number to generate up to (but not including this number). Here the starting number is 0, and the number to generate up to is 3."
      ]
    },
    {
      "cell_type": "code",
      "metadata": {
        "id": "GDMD-ikt48S4",
        "colab_type": "code",
        "outputId": "7fe76b12-2864-4ac6-d741-7e68a3baec85",
        "colab": {
          "base_uri": "https://localhost:8080/",
          "height": 68
        }
      },
      "source": [
        "# A simple loop.\n",
        "for i in range(0,3):\n",
        "    print (i)"
      ],
      "execution_count": 0,
      "outputs": [
        {
          "output_type": "stream",
          "text": [
            "0\n",
            "1\n",
            "2\n"
          ],
          "name": "stdout"
        }
      ]
    },
    {
      "cell_type": "markdown",
      "metadata": {
        "id": "MD1z0LE948S6",
        "colab_type": "text"
      },
      "source": [
        "We can also loop over all the values in $x$."
      ]
    },
    {
      "cell_type": "code",
      "metadata": {
        "id": "uL6GmKhl48S8",
        "colab_type": "code",
        "outputId": "0660e00d-dda3-42d2-c498-64cee2a110dd",
        "colab": {
          "base_uri": "https://localhost:8080/",
          "height": 374
        }
      },
      "source": [
        "for value in x:\n",
        "    print(value)"
      ],
      "execution_count": 0,
      "outputs": [
        {
          "output_type": "stream",
          "text": [
            "0\n",
            "0\n",
            "1\n",
            "2\n",
            "3\n",
            "4\n",
            "5\n",
            "6\n",
            "7\n",
            "8\n",
            "9\n",
            "8\n",
            "7\n",
            "6\n",
            "5\n",
            "4\n",
            "3\n",
            "2\n",
            "1\n",
            "0\n",
            "0\n"
          ],
          "name": "stdout"
        }
      ]
    },
    {
      "cell_type": "markdown",
      "metadata": {
        "id": "IagJsOwm48S_",
        "colab_type": "text"
      },
      "source": [
        "Now lets suppose we want to update the values in $x$. What we could do, is loop over each value in $x$ and change it in some way. Say by multiplying it by itself."
      ]
    },
    {
      "cell_type": "code",
      "metadata": {
        "id": "BXzlRvne48S_",
        "colab_type": "code",
        "outputId": "6b9dd0e1-6fdc-40cc-9429-6262d58c9c6d",
        "colab": {
          "base_uri": "https://localhost:8080/",
          "height": 34
        }
      },
      "source": [
        "for value in x:\n",
        "    \n",
        "    product = value * value\n",
        "    \n",
        "print(x)"
      ],
      "execution_count": 0,
      "outputs": [
        {
          "output_type": "stream",
          "text": [
            "[0, 0, 1, 2, 3, 4, 5, 6, 7, 8, 9, 8, 7, 6, 5, 4, 3, 2, 1, 0, 0]\n"
          ],
          "name": "stdout"
        }
      ]
    },
    {
      "cell_type": "markdown",
      "metadata": {
        "id": "6vjOGMMp48TB",
        "colab_type": "text"
      },
      "source": [
        "Notice how $x$ hasn't changed above. When we computed the product of $x \\times x$, we didn't store it anywhere. It only exists for the duration of the loop in which it is declared. So now, lets update the values correctly and then plot them."
      ]
    },
    {
      "cell_type": "code",
      "metadata": {
        "id": "fEXpRlBu48TC",
        "colab_type": "code",
        "outputId": "21bc58ac-2a2b-4e61-c3b4-d0f4bb3441d1",
        "colab": {
          "base_uri": "https://localhost:8080/",
          "height": 34
        }
      },
      "source": [
        "# We need array indexes so we can modifiy each 'bin' in x.\n",
        "# Since x contains 21 items, we need to loop over item 1 to\n",
        "# 21. However arrays in python use zero indexing. This means\n",
        "# we really need to loop from 0 to 20. Below we use the len()\n",
        "# function to count the items in x. It returns the value 21. \n",
        "# The range function is then used to count from 0 - 20. The range\n",
        "# function doesn't count up to 21 due to the way it is defined.\n",
        "for i in range(0,len(x)):\n",
        "    \n",
        "    x[i] = x[i]*x[i]\n",
        "    \n",
        "print(x)"
      ],
      "execution_count": 0,
      "outputs": [
        {
          "output_type": "stream",
          "text": [
            "[0, 0, 1, 4, 9, 16, 25, 36, 49, 64, 81, 64, 49, 36, 25, 16, 9, 4, 1, 0, 0]\n"
          ],
          "name": "stdout"
        }
      ]
    },
    {
      "cell_type": "markdown",
      "metadata": {
        "id": "AXfI-TRi48TE",
        "colab_type": "text"
      },
      "source": [
        "Now we've updated the data, we note that what we have is data describing $x^{2}$ (since we computed $x \\times x$). We can now plot $x^{2}$ as follows."
      ]
    },
    {
      "cell_type": "code",
      "metadata": {
        "id": "x8-stasx48TE",
        "colab_type": "code",
        "outputId": "99a1d127-5416-45c8-f223-ae2da44c5d71",
        "colab": {
          "base_uri": "https://localhost:8080/",
          "height": 295
        }
      },
      "source": [
        "# Here I plot the contents of the variable x.\n",
        "figure(2)\n",
        "plot(x, 'b') # The 'r' parameter tells matplotlib to plot in red.\n",
        "xlabel('Bin')\n",
        "ylabel('Value')\n",
        "title(\"A plot of x^2\")\n",
        "show()"
      ],
      "execution_count": 0,
      "outputs": [
        {
          "output_type": "display_data",
          "data": {
            "image/png": "[encoded data removed]",
            "text/plain": [
              "<Figure size 432x288 with 1 Axes>"
            ]
          },
          "metadata": {
            "tags": []
          }
        }
      ]
    },
    {
      "cell_type": "markdown",
      "metadata": {
        "id": "D2LA0Jsm48TG",
        "colab_type": "text"
      },
      "source": [
        "So far we've only considered 1-d data. What about 2-d data? Suppose we have the following:"
      ]
    },
    {
      "cell_type": "code",
      "metadata": {
        "id": "jBR5x_M648TG",
        "colab_type": "code",
        "colab": {}
      },
      "source": [
        "twod = [[1.0, 2.0, 3.0, 1.0], \n",
        "       [1.0, 3.0, 1.0, 0.0], \n",
        "       [1.0, 4.0, 1.0, 0.0], \n",
        "       [1.0, 2.0, 4.0, 1.0], \n",
        "       [1.0, 2.0, 1.0, 0.0]]"
      ],
      "execution_count": 0,
      "outputs": []
    },
    {
      "cell_type": "markdown",
      "metadata": {
        "id": "CPuG5OlM48TI",
        "colab_type": "text"
      },
      "source": [
        "Lets check the 2-d data's characteristics."
      ]
    },
    {
      "cell_type": "code",
      "metadata": {
        "id": "lQCcSXhM48TJ",
        "colab_type": "code",
        "outputId": "bd22a7fc-65cf-4917-8367-ff672c741ace",
        "colab": {
          "base_uri": "https://localhost:8080/",
          "height": 102
        }
      },
      "source": [
        "print(twod)\n",
        "print(\"\\n\")\n",
        "print(\"The data object type: \", type (twod))\n",
        "print(\"The data object length: \", len(twod))"
      ],
      "execution_count": 0,
      "outputs": [
        {
          "output_type": "stream",
          "text": [
            "[[1.0, 2.0, 3.0, 1.0], [1.0, 3.0, 1.0, 0.0], [1.0, 4.0, 1.0, 0.0], [1.0, 2.0, 4.0, 1.0], [1.0, 2.0, 1.0, 0.0]]\n",
            "\n",
            "\n",
            "The data object type:  <class 'list'>\n",
            "The data object length:  5\n"
          ],
          "name": "stdout"
        }
      ]
    },
    {
      "cell_type": "markdown",
      "metadata": {
        "id": "WPA3lgJ048TK",
        "colab_type": "text"
      },
      "source": [
        "From here we can see that the data is a list, that contains lists! There are 5 lists, and each contains data. Saying a list of lists is another way of saying a matrix. Let’s plot the matrix to visualise what we have."
      ]
    },
    {
      "cell_type": "code",
      "metadata": {
        "id": "6JO96sku48TL",
        "colab_type": "code",
        "outputId": "67bc9847-ea5d-4d76-9b5c-7edbf398f3f0",
        "colab": {
          "base_uri": "https://localhost:8080/",
          "height": 269
        }
      },
      "source": [
        "figure(3)\n",
        "plt.imshow(twod,cmap='gray')\n",
        "plt.colorbar()\n",
        "plt.show()"
      ],
      "execution_count": 0,
      "outputs": [
        {
          "output_type": "display_data",
          "data": {
            "image/png": "[encoded data removed]",
            "text/plain": [
              "<Figure size 432x288 with 2 Axes>"
            ]
          },
          "metadata": {
            "tags": []
          }
        }
      ]
    },
    {
      "cell_type": "markdown",
      "metadata": {
        "id": "1xTUlyzq48TO",
        "colab_type": "text"
      },
      "source": [
        "Right now we have the data as a list of lists. This isn't really practical. Usually we convert this in to a more useable format. For this we use numpy."
      ]
    },
    {
      "cell_type": "code",
      "metadata": {
        "scrolled": true,
        "id": "3kzV48wG48TP",
        "colab_type": "code",
        "outputId": "dfbd8960-6c1c-4a98-b2cf-50b47362210a",
        "colab": {
          "base_uri": "https://localhost:8080/",
          "height": 187
        }
      },
      "source": [
        "data = np.asarray(twod)\n",
        "\n",
        "print(data)\n",
        "print(\"\\n\")\n",
        "print(\"The data object type: \"  , type (data))\n",
        "print(\"The data object length: \", len(data))\n",
        "print(\"The data object shape: \" , len(data))"
      ],
      "execution_count": 0,
      "outputs": [
        {
          "output_type": "stream",
          "text": [
            "[[1. 2. 3. 1.]\n",
            " [1. 3. 1. 0.]\n",
            " [1. 4. 1. 0.]\n",
            " [1. 2. 4. 1.]\n",
            " [1. 2. 1. 0.]]\n",
            "\n",
            "\n",
            "The data object type:  <class 'numpy.ndarray'>\n",
            "The data object length:  5\n",
            "The data object shape:  5\n"
          ],
          "name": "stdout"
        }
      ]
    },
    {
      "cell_type": "markdown",
      "metadata": {
        "id": "S8SW-43a48TS",
        "colab_type": "text"
      },
      "source": [
        "Now we have the data as a matrix, which can make it easier to process.\n",
        "\n",
        "## Standardising Data\n",
        "\n",
        "Suppose we want to process this data in some way. Perhaps we need the values standardised, which gives the data a zero mean, and unit variance (a variance exactly equal to 1). We can write some code to do this. We'll exploit code from numpy library to make this easy. So let’s import the numpy libraries.\n"
      ]
    },
    {
      "cell_type": "code",
      "metadata": {
        "id": "katXDNWr48TS",
        "colab_type": "code",
        "colab": {}
      },
      "source": [
        "import numpy as np"
      ],
      "execution_count": 0,
      "outputs": []
    },
    {
      "cell_type": "markdown",
      "metadata": {
        "id": "GRhf2-7N48TU",
        "colab_type": "text"
      },
      "source": [
        "Now let’s compute the standardised version of the data in $x$."
      ]
    },
    {
      "cell_type": "code",
      "metadata": {
        "scrolled": true,
        "id": "V0CqhbxG48TV",
        "colab_type": "code",
        "outputId": "a613f910-ef5a-4bfa-a5b2-7ec8dfffe046",
        "colab": {
          "base_uri": "https://localhost:8080/",
          "height": 295
        }
      },
      "source": [
        "x = (x - mean(x)) / std(x)\n",
        "\n",
        "# Here I plot the contents of the variable x.\n",
        "figure(4)\n",
        "plot(x, 'g') # The 'r' parameter tells matplotlib to plot in red.\n",
        "xlabel('Bin')\n",
        "ylabel('Value')\n",
        "title(\"A plot of x standardised\")\n",
        "show()"
      ],
      "execution_count": 0,
      "outputs": [
        {
          "output_type": "display_data",
          "data": {
            "image/png": "[encoded data removed]",
            "text/plain": [
              "<Figure size 432x288 with 1 Axes>"
            ]
          },
          "metadata": {
            "tags": []
          }
        }
      ]
    },
    {
      "cell_type": "markdown",
      "metadata": {
        "id": "taos68-848TY",
        "colab_type": "text"
      },
      "source": [
        "You can see the maximum value on the y-axis has changed, compared to the first plot we created. Has this process worked correctly, however? Lets check."
      ]
    },
    {
      "cell_type": "code",
      "metadata": {
        "id": "7frCeImf48TY",
        "colab_type": "code",
        "outputId": "4e217153-3cc7-4197-8e2c-c605ed85a8b3",
        "colab": {
          "base_uri": "https://localhost:8080/",
          "height": 51
        }
      },
      "source": [
        "print(\"The mean of x is: \", mean(x))\n",
        "print(\"The standard deviation of x is: \", std(x))"
      ],
      "execution_count": 0,
      "outputs": [
        {
          "output_type": "stream",
          "text": [
            "The mean of x is:  2.114710523095536e-17\n",
            "The standard deviation of x is:  1.0000000000000002\n"
          ],
          "name": "stdout"
        }
      ]
    },
    {
      "cell_type": "markdown",
      "metadata": {
        "id": "F2ZTaFUg48Ta",
        "colab_type": "text"
      },
      "source": [
        "The result above suggests the mean of $x$ isn't quite zero - is this correct? Well, there are an odd number of data items and the mean is almost zero. So this is indeed correct. If we convert the mean value to an integer, we can see this is the case."
      ]
    },
    {
      "cell_type": "code",
      "metadata": {
        "id": "167kCn4n48Ta",
        "colab_type": "code",
        "outputId": "47ba9847-ff0b-4402-9bab-ccf72e3f88d2",
        "colab": {
          "base_uri": "https://localhost:8080/",
          "height": 34
        }
      },
      "source": [
        "print(\"The mean of x is: \", int(mean(x)))"
      ],
      "execution_count": 0,
      "outputs": [
        {
          "output_type": "stream",
          "text": [
            "The mean of x is:  0\n"
          ],
          "name": "stdout"
        }
      ]
    },
    {
      "cell_type": "markdown",
      "metadata": {
        "id": "pU9PDY7N48Td",
        "colab_type": "text"
      },
      "source": [
        "We can see that it is indeed zero. What I did above was cast the data to the integer data type. You must be careful when writing mathematical functions, as if you get casts wrong, your answers will look very weird.\n",
        "\n",
        "Now, going back to how we standardised the data. Suppose we want to do that again, but for a new data set, $Y$."
      ]
    },
    {
      "cell_type": "code",
      "metadata": {
        "id": "SZicnOtD48Td",
        "colab_type": "code",
        "colab": {}
      },
      "source": [
        "y = [2,3,4,5,6,7,8,9,8,7,6,5,4,3,2,3,4,5,6,7,8,9,8,7,6,5,4,3,2]"
      ],
      "execution_count": 0,
      "outputs": []
    },
    {
      "cell_type": "markdown",
      "metadata": {
        "id": "oc3oC8e_48Tf",
        "colab_type": "text"
      },
      "source": [
        "Well, we can convert the code we wrote before into a function. Here is a new function that standardises the data."
      ]
    },
    {
      "cell_type": "code",
      "metadata": {
        "id": "HDkihGNO48Th",
        "colab_type": "code",
        "colab": {}
      },
      "source": [
        "def standardise(x):\n",
        "    \"\"\"\n",
        "    Standardise the data so that it has a zero mean, and a unit varience.\n",
        "\n",
        "    Parameters\n",
        "    ----------\n",
        "    N/A\n",
        "\n",
        "    Returns\n",
        "    ----------\n",
        "    N/A\n",
        "    \"\"\"\n",
        "        \n",
        "    x = (x - mean(x)) / std(x)\n",
        "    return x"
      ],
      "execution_count": 0,
      "outputs": []
    },
    {
      "cell_type": "markdown",
      "metadata": {
        "id": "xftODZBt48Tj",
        "colab_type": "text"
      },
      "source": [
        "Now lets try this new function out."
      ]
    },
    {
      "cell_type": "code",
      "metadata": {
        "id": "VHL68TWl48Tj",
        "colab_type": "code",
        "outputId": "f4f0c957-2583-4bd5-8780-fd0f9344aa42",
        "colab": {
          "base_uri": "https://localhost:8080/",
          "height": 102
        }
      },
      "source": [
        "print(\"Mean of y before standardisation: \", mean(y))\n",
        "print(\"Standard deviation of y before standardisation: \", std(y))\n",
        "\n",
        "standardise(y)\n",
        "\n",
        "print(\"\\nMean of y after standardisation: \", mean(y))\n",
        "print(\"Standard deviation of y after standardisation: \", std(y))"
      ],
      "execution_count": 0,
      "outputs": [
        {
          "output_type": "stream",
          "text": [
            "Mean of y before standardisation:  5.379310344827586\n",
            "Standard deviation of y before standardisation:  2.1239811854392405\n",
            "\n",
            "Mean of y after standardisation:  5.379310344827586\n",
            "Standard deviation of y after standardisation:  2.1239811854392405\n"
          ],
          "name": "stdout"
        }
      ]
    },
    {
      "cell_type": "markdown",
      "metadata": {
        "id": "BUoLejdK48Tl",
        "colab_type": "text"
      },
      "source": [
        "Notice above I used '\\n' to make the output look neater? The '\\n' is the newline character. There are other character codes you can try, e.g. '\\t' which is tab break.\n",
        "\n",
        "## Discretizing Data\n",
        "\n",
        "Suppose we have data describing the weather. The example below shows how to discretise this for use with ML classifiers.\n"
      ]
    },
    {
      "cell_type": "code",
      "metadata": {
        "id": "Y2ZnD8nO48Tn",
        "colab_type": "code",
        "outputId": "ee6ddb48-d1bc-4a1e-9868-e889f05cac62",
        "colab": {
          "base_uri": "https://localhost:8080/",
          "height": 139
        }
      },
      "source": [
        "# Assigning features and label variables\n",
        "outlook = ['Rainy', 'Rainy','Overcast','Sunny','Sunny', 'Sunny', 'Overcast', \n",
        "           'Rainy', 'Rainy', 'Sunny', 'Rainy', 'Overcast', 'Overcast', 'Sunny']\n",
        "temp = ['Hot','Hot','Hot','Mild','Cool','Cool','Cool','Mild','Cool','Mild',\n",
        "        'Mild','Mild','Hot','Mild']\n",
        "humidity = ['high', 'high', 'high', 'high', 'normal','normal', 'normal', 'high',\n",
        "            'normal', 'normal', 'normal', 'high', 'normal', 'high']\n",
        "windy = ['no', 'yes', 'no', 'no', 'no', 'yes', 'yes', 'no', 'no', 'no',\n",
        "       'yes', 'yes', 'no', 'yes']\n",
        "play = ['No','No','Yes','Yes','Yes','No','Yes','No','Yes','Yes','Yes',\n",
        "        'Yes','Yes','No']\n",
        "\n",
        "# import label encoder\n",
        "from sklearn import preprocessing\n",
        "\n",
        "# creating an instance of label encoder\n",
        "le = preprocessing.LabelEncoder()\n",
        "outlook_enc = le.fit_transform(outlook)\n",
        "print(\"outlook: \", outlook_enc)\n",
        "\n",
        "temp_enc = le.fit_transform(temp)\n",
        "print(\"Temperature: \", temp_enc)\n",
        "\n",
        "humidity_enc = le.fit_transform(humidity)\n",
        "print(\"Humidity: \", humidity_enc)\n",
        "\n",
        "wind_enc = le.fit_transform(windy)\n",
        "print(\"Wind: \", wind_enc)\n",
        "\n",
        "labels = le.fit_transform(play)\n",
        "print(\"Play: \", labels)\n",
        "\n",
        "\n",
        "features = zip(outlook_enc, temp_enc, humidity_enc, wind_enc)\n",
        "features = list(features)\n",
        "print(\"Features:\", features)"
      ],
      "execution_count": 0,
      "outputs": [
        {
          "output_type": "stream",
          "text": [
            "outlook:  [1 1 0 2 2 2 0 1 1 2 1 0 0 2]\n",
            "Temperature:  [1 1 1 2 0 0 0 2 0 2 2 2 1 2]\n",
            "Humidity:  [0 0 0 0 1 1 1 0 1 1 1 0 1 0]\n",
            "Wind:  [0 1 0 0 0 1 1 0 0 0 1 1 0 1]\n",
            "Play:  [0 0 1 1 1 0 1 0 1 1 1 1 1 0]\n",
            "Features: [(1, 1, 0, 0), (1, 1, 0, 1), (0, 1, 0, 0), (2, 2, 0, 0), (2, 0, 1, 0), (2, 0, 1, 1), (0, 0, 1, 1), (1, 2, 0, 0), (1, 0, 1, 0), (2, 2, 1, 0), (1, 2, 1, 1), (0, 2, 0, 1), (0, 1, 1, 0), (2, 2, 0, 1)]\n"
          ],
          "name": "stdout"
        }
      ]
    },
    {
      "cell_type": "markdown",
      "metadata": {
        "id": "YkOna2O448Tr",
        "colab_type": "text"
      },
      "source": [
        "## Feature Selection Example\n",
        "\n",
        "First up, we load in some data. Here, I'm going to load some data describing pulsar examples. Each example has eight numerical features, and a corresponding true class variable (pulsar or non-pulsar). The class labels are: non-pulsar= 0 or pulsar=1'.\n",
        "\n",
        "Below I simply create the X data."
      ]
    },
    {
      "cell_type": "code",
      "metadata": {
        "id": "_Msp5o-g48Tr",
        "colab_type": "code",
        "colab": {}
      },
      "source": [
        "X = [[140.5625,55.68378214,-0.234571412,-0.699648398,3.199832776,19.11042633,7.975531794,74.24222492],\n",
        "[102.5078125,58.88243001,0.465318154,-0.515087909,1.677257525,14.86014572,10.57648674,127.3935796],\n",
        "[103.015625,39.34164944,0.323328365,1.051164429,3.121237458,21.74466875,7.735822015,63.17190911],\n",
        "[136.75,57.17844874,-0.068414638,-0.636238369,3.642976589,20.9592803,6.89649891,53.59366067],\n",
        "[88.7265625,40.67222541,0.600866079,1.123491692,1.178929766,11.4687196,14.26957284,252.5673058],\n",
        "[93.5703125,46.69811352,0.53190485,0.416721117,1.636287625,14.54507425,10.6217484,131.3940043],\n",
        "[119.484375,48.76505927,0.03146022,-0.112167573,0.99916388,9.279612239,19.20623018,479.7565669],\n",
        "[130.3828125,39.84405561,-0.158322759,0.389540448,1.220735786,14.37894124,13.53945602,198.2364565],\n",
        "[107.25,52.62707834,0.452688025,0.170347382,2.331939799,14.48685311,9.001004441,107.9725056],\n",
        "[107.2578125,39.49648839,0.465881961,1.162877124,4.079431438,24.98041798,7.397079948,57.78473789],\n",
        "[142.078125,45.28807262,-0.320328426,0.283952506,5.376254181,29.00989748,6.076265849,37.83139335],\n",
        "[133.2578125,44.05824378,-0.081059862,0.115361506,1.632107023,12.00780568,11.97206663,195.5434476],\n",
        "[134.9609375,49.55432662,-0.135303833,-0.080469602,10.69648829,41.34204361,3.893934139,14.13120625],\n",
        "[117.9453125,45.50657724,0.325437564,0.661459458,2.836120401,23.11834971,8.943211912,82.47559187],\n",
        "[138.1796875,51.5244835,-0.031852329,0.046797173,6.330267559,31.57634673,5.155939859,26.14331017],\n",
        "[114.3671875,51.94571552,-0.094498904,-0.287984087,2.738294314,17.19189079,9.050612454,96.61190318],\n",
        "[109.640625,49.01765217,0.13763583,-0.256699775,1.508361204,12.07290134,13.36792556,223.4384192],\n",
        "[100.8515625,51.74352161,0.393836792,-0.011240741,2.841137124,21.63577754,8.302241891,71.58436903],\n",
        "[136.09375,51.69100464,-0.045908926,-0.271816393,9.342809365,38.09639955,4.345438138,18.67364854],\n",
        "[99.3671875,41.57220208,1.547196967,4.154106043,27.55518395,61.71901588,2.20880796,3.662680136],\n",
        "[100.890625,51.89039446,0.627486528,-0.026497802,3.883779264,23.04526673,6.953167635,52.27944038],\n",
        "[105.4453125,41.13996851,0.142653801,0.320419676,3.551839465,20.75501684,7.739552295,68.51977061],\n",
        "[95.8671875,42.05992212,0.326386917,0.803501794,1.83277592,12.24896949,11.249331,177.2307712],\n",
        "[117.3671875,53.90861351,0.257953441,-0.405049077,6.018394649,24.76612335,4.807783224,25.52261561],\n",
        "[106.6484375,56.36718209,0.378355072,-0.266371607,2.43645485,18.40537062,9.378659682,96.86022536],\n",
        "[112.71875,50.3012701,0.279390953,-0.129010712,8.281772575,37.81001224,4.691826852,21.27620977],\n",
        "[130.8515625,52.43285734,0.142596727,0.018885442,2.64632107,15.65443599,9.464164025,115.6731586],\n",
        "[119.4375,52.87481531,-0.002549267,-0.460360287,2.365384615,16.49803188,9.008351898,94.75565692],\n",
        "[123.2109375,51.07801208,0.179376819,-0.17728516,2.107023411,16.92177312,10.08033334,112.5585913],\n",
        "[102.6171875,49.69235371,0.230438984,0.193325371,1.489130435,16.00441146,12.64653474,171.8329021],\n",
        "[110.109375,41.31816988,0.094860398,0.68311261,1.010033445,13.02627521,14.66651082,231.2041363],\n",
        "[99.9140625,43.91949797,0.475728501,0.781486196,0.619565217,9.440975862,20.1066391,475.680218],\n",
        "[128.34375,52.17210664,-0.049280401,-0.208256987,2.173913043,12.9939472,9.965757364,141.5100843],\n",
        "[142.0546875,53.87315957,-0.470772686,-0.125946417,4.423076923,27.08351266,6.681658306,45.94403008],\n",
        "[121.1328125,47.6326062,0.177360308,0.024918111,2.151337793,20.55243738,9.920468181,99.74707919],\n",
        "[102.328125,48.98040255,0.315729409,-0.202183315,1.898829431,13.83904002,11.61993869,172.1303732],\n",
        "[147.8359375,53.62263651,-0.131079596,-0.288851172,2.692307692,17.08088101,8.849177975,92.20174502],\n",
        "[108.0390625,34.91024257,0.321156562,1.821631493,3.899665552,23.72205203,7.506209958,60.88691267],\n",
        "[107.875,37.33065932,0.49600476,1.481815856,1.173913043,12.01691346,14.53428973,252.6947381],\n",
        "[118.84375,45.9319193,-0.109242666,0.137683548,2.33277592,14.71602871,9.634175054,118.6696797],\n",
        "[138.4609375,48.91716569,-0.039591916,-0.176243068,2.443143813,18.3133067,8.672894053,83.06924213],\n",
        "[116.203125,47.34586165,0.211946824,-0.022177703,3.606187291,18.94498977,7.035644684,59.23122572],\n",
        "[120.5546875,45.54990543,0.282923998,0.419908714,1.358695652,13.07903424,13.31214143,212.5970294],\n",
        "[121.8828125,53.04267461,0.200520721,-0.282219034,2.116220736,16.58087621,8.947602793,91.01176155],\n",
        "[125.2109375,51.17519729,0.139851288,-0.385736754,1.147993311,12.41401211,14.06879728,228.1315536],\n",
        "[107.90625,48.08414459,0.460846577,0.29651005,1.993311037,13.84106954,9.969395408,128.7447168],\n",
        "[106.28125,43.02178545,0.408868006,1.032014666,1.610367893,17.25115554,12.11019331,152.0149562],\n",
        "[106.3359375,45.05002035,0.418645099,0.603995884,1.200668896,12.38856143,13.30645184,209.41199],\n",
        "[125.734375,52.65772207,0.026516673,-0.429632907,4.850334448,29.93619483,6.361837308,40.25501275],\n",
        "[113.546875,49.50029346,0.130001201,-0.202839025,2.407190635,14.42205142,9.310343318,113.6874714],\n",
        "[99.2890625,47.39134816,0.702001099,1.042189754,1.627090301,14.68008008,10.99141172,139.5509004],\n",
        "[20.3515625,25.77171107,7.024644815,56.11297239,70.51254181,65.47230523,1.102049947,0.782055998],\n",
        "[105.5,41.84177787,0.41714868,0.860092995,2.08277592,19.14167399,10.14673318,107.6216551],\n",
        "[76.5234375,34.08719629,2.024270196,8.131774734,7.983277592,36.657363,4.888889599,23.67535368]]"
      ],
      "execution_count": 0,
      "outputs": []
    },
    {
      "cell_type": "markdown",
      "metadata": {
        "id": "KlcWfDoB48Tu",
        "colab_type": "text"
      },
      "source": [
        "Now we have to create the labels."
      ]
    },
    {
      "cell_type": "code",
      "metadata": {
        "id": "8MCPeG-i48Tv",
        "colab_type": "code",
        "colab": {}
      },
      "source": [
        "Y = [0,0,0,0,0,0,0,0,0,0,0,0,0,0,0,0,0,0,0,1,0,0,0,0,0,0,0,0,0,0,0,0,0,0,0,0,0,0,0,0,0,0,1,0,0,0,0,0,0,0,1,1,1,1]"
      ],
      "execution_count": 0,
      "outputs": []
    },
    {
      "cell_type": "markdown",
      "metadata": {
        "id": "qC9TbtLd48Tx",
        "colab_type": "text"
      },
      "source": [
        "Let's check the data."
      ]
    },
    {
      "cell_type": "code",
      "metadata": {
        "scrolled": true,
        "id": "DdLslXLl48Tx",
        "colab_type": "code",
        "outputId": "af653c29-ac1a-46e8-9401-992132a493d3",
        "colab": {
          "base_uri": "https://localhost:8080/",
          "height": 102
        }
      },
      "source": [
        "print(\"Examples loaded: \", len(X))\n",
        "print(\"Class variables loaded: \", len(Y))\n",
        "print(\"\\n\\nFirst example in X =\", X[0] , \" Y =\",Y[0])"
      ],
      "execution_count": 0,
      "outputs": [
        {
          "output_type": "stream",
          "text": [
            "Examples loaded:  54\n",
            "Class variables loaded:  54\n",
            "\n",
            "\n",
            "First example in X = [140.5625, 55.68378214, -0.234571412, -0.699648398, 3.199832776, 19.11042633, 7.975531794, 74.24222492]  Y = 0\n"
          ],
          "name": "stdout"
        }
      ]
    },
    {
      "cell_type": "markdown",
      "metadata": {
        "id": "LZEZdfR048Tz",
        "colab_type": "text"
      },
      "source": [
        "### Tree-based feature selection\n",
        "\n",
        "Here's an example that uses tree-based feature selection. You can try this too. No single feature selection method is fool proof. It's good to compare the results of multiple methods.\n"
      ]
    },
    {
      "cell_type": "code",
      "metadata": {
        "scrolled": true,
        "id": "3p2lXB4L48Tz",
        "colab_type": "code",
        "outputId": "e0bc57a3-9d75-43b8-9ba6-54de2b8cbf67",
        "colab": {
          "base_uri": "https://localhost:8080/",
          "height": 434
        }
      },
      "source": [
        "import numpy as np\n",
        "import copy\n",
        "import matplotlib.pyplot as plt\n",
        "\n",
        "from sklearn.ensemble import ExtraTreesClassifier\n",
        "\n",
        "# Build a forest and compute the feature importances\n",
        "forest = ExtraTreesClassifier(n_estimators=5,random_state=0)\n",
        "\n",
        "forest.fit(copy.deepcopy(X), copy.deepcopy(Y))\n",
        "\n",
        "importances = forest.feature_importances_\n",
        "std = np.std([tree.feature_importances_ for tree in forest.estimators_],axis=0)\n",
        "indices = np.argsort(importances)[::-1]\n",
        "\n",
        "# Print the feature ranking\n",
        "print(\"Feature ranking:\")\n",
        "\n",
        "for f in range(8):\n",
        "    print(\"%d. feature %d (%f)\" % (f + 1, indices[f], importances[indices[f]]))\n",
        "\n",
        "# Plot the feature importances of the forest\n",
        "plt.figure(5)\n",
        "plt.title(\"Feature importances\")\n",
        "plt.bar(range(8), importances[indices],color=\"r\", yerr=std[indices], align=\"center\")\n",
        "plt.xticks(range(8), indices)\n",
        "plt.xlim([-1, 8])\n",
        "plt.show()"
      ],
      "execution_count": 0,
      "outputs": [
        {
          "output_type": "stream",
          "text": [
            "Feature ranking:\n",
            "1. feature 3 (0.255148)\n",
            "2. feature 4 (0.175845)\n",
            "3. feature 5 (0.129476)\n",
            "4. feature 2 (0.113773)\n",
            "5. feature 1 (0.106832)\n",
            "6. feature 0 (0.091669)\n",
            "7. feature 7 (0.088165)\n",
            "8. feature 6 (0.039091)\n"
          ],
          "name": "stdout"
        },
        {
          "output_type": "display_data",
          "data": {
            "image/png": "[encoded data removed]",
            "text/plain": [
              "<Figure size 432x288 with 1 Axes>"
            ]
          },
          "metadata": {
            "tags": []
          }
        }
      ]
    },
    {
      "cell_type": "markdown",
      "metadata": {
        "id": "3fWjKs3848T1",
        "colab_type": "text"
      },
      "source": [
        "The created plot shows that feature 3 is the most important, and feature 6 the least important. So which should we use for learning? In this case, there are few features. So we should probably use them all. But if we have thousands of features, that we have to select the best features from those available via a method such as this."
      ]
    },
    {
      "cell_type": "markdown",
      "metadata": {
        "id": "NCl5_jDQ48T1",
        "colab_type": "text"
      },
      "source": [
        "### First Classification Example\n",
        "\n",
        "If you get to here, and figure out how the above works, want to try some classification?\n",
        "\n",
        "Here's an example below... it uses a probabilistic classifier."
      ]
    },
    {
      "cell_type": "code",
      "metadata": {
        "id": "ryMsKAA-48T2",
        "colab_type": "code",
        "outputId": "0286317b-8cbc-4d20-bac1-d0810655dba6",
        "colab": {
          "base_uri": "https://localhost:8080/",
          "height": 51
        }
      },
      "source": [
        "import numpy as np\n",
        "\n",
        "# First we must split the data into training and test samples.\n",
        "# The training sample will be used to build the machine learning\n",
        "# model that makes predictions. The test sample will be used to \n",
        "# test how effective it is...\n",
        "from sklearn.model_selection import train_test_split\n",
        "\n",
        "train_x, test_x, train_y, test_y = train_test_split(copy.deepcopy(X), copy.deepcopy(Y), test_size=0.4, random_state=0)\n",
        "\n",
        "print('Examples in training set: ', len(train_x))\n",
        "print('Examples in test set: ', len(test_x))"
      ],
      "execution_count": 0,
      "outputs": [
        {
          "output_type": "stream",
          "text": [
            "Examples in training set:  32\n",
            "Examples in test set:  22\n"
          ],
          "name": "stdout"
        }
      ]
    },
    {
      "cell_type": "code",
      "metadata": {
        "id": "OI4Mq9FG48T4",
        "colab_type": "code",
        "outputId": "25bbd6dd-137e-4def-ff1a-aa763153d68d",
        "colab": {
          "base_uri": "https://localhost:8080/",
          "height": 34
        }
      },
      "source": [
        "from sklearn.naive_bayes import GaussianNB\n",
        "\n",
        "classifier = GaussianNB()\n",
        "\n",
        "# First train the classifier with call to fit.\n",
        "classifier.fit(train_x, train_y)\n",
        "# Now obtain the classifiers 'score'\n",
        "accuracy = classifier.score(test_x, test_y)\n",
        "print(\"NB accuracy: \", accuracy) # newline char at start simply for formatting."
      ],
      "execution_count": 0,
      "outputs": [
        {
          "output_type": "stream",
          "text": [
            "NB accuracy:  0.9545454545454546\n"
          ],
          "name": "stdout"
        }
      ]
    },
    {
      "cell_type": "markdown",
      "metadata": {
        "id": "jISweuxT48T6",
        "colab_type": "text"
      },
      "source": [
        "This shows that given the eight features, the classifier managed to do well! How does this compare to other classifiers? Here's some more... but first, I share some code with you, that allows you to compute many ML evaluation statistics."
      ]
    },
    {
      "cell_type": "markdown",
      "metadata": {
        "id": "vlTFcssQ48T7",
        "colab_type": "text"
      },
      "source": [
        "## Activities\n",
        "\n",
        "### Prerequisites\n",
        "\n",
        "Before proceeding any further, be sure to have executed the cell below."
      ]
    },
    {
      "cell_type": "code",
      "metadata": {
        "id": "ug9vmiQb48T7",
        "colab_type": "code",
        "outputId": "51f96b66-9ba8-4ed9-a276-dec560948fcf",
        "colab": {
          "base_uri": "https://localhost:8080/",
          "height": 683
        }
      },
      "source": [
        "# Run this command first to install this python library required for the rest of the exercise.\n",
        "!pip install mglearn\n",
        "\n",
        "import sys\n",
        "print(\"Python version: {}\".format(sys.version))\n",
        "\n",
        "import pandas as pd\n",
        "print(\"Pandas version: {}\".format(pd.__version__))\n",
        "\n",
        "import matplotlib\n",
        "\n",
        "import matplotlib.pyplot as plt\n",
        "print(\"matplotlib version:\", matplotlib.__version__)\n",
        "\n",
        "import numpy as np\n",
        "print(\"NumPy version:\", np.__version__)\n",
        "\n",
        "import scipy as sp\n",
        "print(\"SciPy version:\", sp.__version__)\n",
        "\n",
        "import IPython\n",
        "print(\"IPython version:\", IPython.__version__)\n",
        "\n",
        "import sklearn\n",
        "print(\"scikit-learn version:\", sklearn.__version__)\n",
        "\n",
        "import mglearn"
      ],
      "execution_count": 0,
      "outputs": [
        {
          "output_type": "stream",
          "text": [
            "Collecting mglearn\n",
            "\u001b[?25l  Downloading https://files.pythonhosted.org/packages/fb/01/8d3630ecc767c9de96a9c46e055f2a3a5f9e14a47d3d0348a36a5005fe67/mglearn-0.1.7.tar.gz (540kB)\n",
            "\u001b[K     |████████████████████████████████| 542kB 3.5MB/s \n",
            "\u001b[?25hRequirement already satisfied: numpy in /usr/local/lib/python3.6/dist-packages (from mglearn) (1.16.5)\n",
            "Requirement already satisfied: matplotlib in /usr/local/lib/python3.6/dist-packages (from mglearn) (3.0.3)\n",
            "Requirement already satisfied: scikit-learn in /usr/local/lib/python3.6/dist-packages (from mglearn) (0.21.3)\n",
            "Requirement already satisfied: pandas in /usr/local/lib/python3.6/dist-packages (from mglearn) (0.24.2)\n",
            "Requirement already satisfied: pillow in /usr/local/lib/python3.6/dist-packages (from mglearn) (4.3.0)\n",
            "Requirement already satisfied: cycler in /usr/local/lib/python3.6/dist-packages (from mglearn) (0.10.0)\n",
            "Requirement already satisfied: imageio in /usr/local/lib/python3.6/dist-packages (from mglearn) (2.4.1)\n",
            "Requirement already satisfied: python-dateutil>=2.1 in /usr/local/lib/python3.6/dist-packages (from matplotlib->mglearn) (2.5.3)\n",
            "Requirement already satisfied: pyparsing!=2.0.4,!=2.1.2,!=2.1.6,>=2.0.1 in /usr/local/lib/python3.6/dist-packages (from matplotlib->mglearn) (2.4.2)\n",
            "Requirement already satisfied: kiwisolver>=1.0.1 in /usr/local/lib/python3.6/dist-packages (from matplotlib->mglearn) (1.1.0)\n",
            "Requirement already satisfied: joblib>=0.11 in /usr/local/lib/python3.6/dist-packages (from scikit-learn->mglearn) (0.13.2)\n",
            "Requirement already satisfied: scipy>=0.17.0 in /usr/local/lib/python3.6/dist-packages (from scikit-learn->mglearn) (1.3.1)\n",
            "Requirement already satisfied: pytz>=2011k in /usr/local/lib/python3.6/dist-packages (from pandas->mglearn) (2018.9)\n",
            "Requirement already satisfied: olefile in /usr/local/lib/python3.6/dist-packages (from pillow->mglearn) (0.46)\n",
            "Requirement already satisfied: six in /usr/local/lib/python3.6/dist-packages (from cycler->mglearn) (1.12.0)\n",
            "Requirement already satisfied: setuptools in /usr/local/lib/python3.6/dist-packages (from kiwisolver>=1.0.1->matplotlib->mglearn) (41.2.0)\n",
            "Building wheels for collected packages: mglearn\n",
            "  Building wheel for mglearn (setup.py) ... \u001b[?25l\u001b[?25hdone\n",
            "  Created wheel for mglearn: filename=mglearn-0.1.7-py2.py3-none-any.whl size=582705 sha256=f6cd6407ccb47baf938b3e14661afb0a746304a7be95b36a9a60d261b9d43c75\n",
            "  Stored in directory: /root/.cache/pip/wheels/74/cf/8d/04f4932d15854a36726c6210763c7127e62de28f5c8ddfcf3b\n",
            "Successfully built mglearn\n",
            "Installing collected packages: mglearn\n",
            "Successfully installed mglearn-0.1.7\n",
            "Python version: 3.6.8 (default, Jan 14 2019, 11:02:34) \n",
            "[GCC 8.0.1 20180414 (experimental) [trunk revision 259383]]\n",
            "Pandas version: 0.24.2\n",
            "matplotlib version: 3.0.3\n",
            "NumPy version: 1.16.5\n",
            "SciPy version: 1.3.1\n",
            "IPython version: 5.5.0\n",
            "scikit-learn version: 0.21.3\n"
          ],
          "name": "stdout"
        },
        {
          "output_type": "stream",
          "text": [
            "/usr/local/lib/python3.6/dist-packages/sklearn/externals/six.py:31: DeprecationWarning: The module is deprecated in version 0.21 and will be removed in version 0.23 since we've dropped support for Python 2.7. Please rely on the official version of six (https://pypi.org/project/six/).\n",
            "  \"(https://pypi.org/project/six/).\", DeprecationWarning)\n",
            "/usr/local/lib/python3.6/dist-packages/sklearn/externals/joblib/__init__.py:15: DeprecationWarning: sklearn.externals.joblib is deprecated in 0.21 and will be removed in 0.23. Please import this functionality directly from joblib, which can be installed with: pip install joblib. If this warning is raised when loading pickled models, you may need to re-serialize those models with scikit-learn 0.21+.\n",
            "  warnings.warn(msg, category=DeprecationWarning)\n"
          ],
          "name": "stderr"
        }
      ]
    },
    {
      "cell_type": "markdown",
      "metadata": {
        "id": "kCHi3mRm48T-",
        "colab_type": "text"
      },
      "source": [
        "## Activity 1: Naïve Bayes\n",
        "\n",
        "Naïve Bayes is a simple Generative algorithm we've discussed during the module. Here we apply the approach to the IRIS dataset.\n",
        "\n",
        "The IRIS data set consists of 50 samples from each of three species of Iris flowers (Iris setosa, Iris virginica and Iris versicolor). Four features were measured from each sample: the length and the width of the sepals and petals, in centimetres. Based on the combination of these four features, our goal is to correctly separate the flowers, assigning them their correct labels. \n",
        "\n",
        "\n",
        "First we load the data to learn more about it.\n",
        "\n",
        "\n"
      ]
    },
    {
      "cell_type": "code",
      "metadata": {
        "id": "_abNdl4y48T_",
        "colab_type": "code",
        "outputId": "f2440a3d-fc10-4cd5-f3fa-d6ddf4d2cef0",
        "colab": {
          "base_uri": "https://localhost:8080/",
          "height": 544
        }
      },
      "source": [
        "from sklearn.datasets import load_iris\n",
        "iris_dataset = load_iris()\n",
        "\n",
        "print(\"Keys of iris_dataset: \\n{}\".format(iris_dataset.keys()))\n",
        "print(\"Target Names: {}\".format(iris_dataset['target_names']))\n",
        "print(\"Feature names: \\n{}\".format(iris_dataset['feature_names']))\n",
        "print(\"Type of data: {}\".format(type(iris_dataset['data'])))\n",
        "print(\"Shape of data: {}\".format(iris_dataset['data'].shape))\n",
        "print(\"First five rows of data:\\n{}\".format(iris_dataset['data'][:5]))\n",
        "print(\"Type of target: {}\".format(type(iris_dataset['target'])))\n",
        "print(\"Shape of target: {}\".format(iris_dataset['target'].shape))\n",
        "print(\"Target:\\n{}\".format(iris_dataset['target']))\n",
        "print(iris_dataset['DESCR'][:193] + \"\\n...\")\n",
        "\n"
      ],
      "execution_count": 0,
      "outputs": [
        {
          "output_type": "stream",
          "text": [
            "Keys of iris_dataset: \n",
            "dict_keys(['data', 'target', 'target_names', 'DESCR', 'feature_names', 'filename'])\n",
            "Target Names: ['setosa' 'versicolor' 'virginica']\n",
            "Feature names: \n",
            "['sepal length (cm)', 'sepal width (cm)', 'petal length (cm)', 'petal width (cm)']\n",
            "Type of data: <class 'numpy.ndarray'>\n",
            "Shape of data: (150, 4)\n",
            "First five rows of data:\n",
            "[[5.1 3.5 1.4 0.2]\n",
            " [4.9 3.  1.4 0.2]\n",
            " [4.7 3.2 1.3 0.2]\n",
            " [4.6 3.1 1.5 0.2]\n",
            " [5.  3.6 1.4 0.2]]\n",
            "Type of target: <class 'numpy.ndarray'>\n",
            "Shape of target: (150,)\n",
            "Target:\n",
            "[0 0 0 0 0 0 0 0 0 0 0 0 0 0 0 0 0 0 0 0 0 0 0 0 0 0 0 0 0 0 0 0 0 0 0 0 0\n",
            " 0 0 0 0 0 0 0 0 0 0 0 0 0 1 1 1 1 1 1 1 1 1 1 1 1 1 1 1 1 1 1 1 1 1 1 1 1\n",
            " 1 1 1 1 1 1 1 1 1 1 1 1 1 1 1 1 1 1 1 1 1 1 1 1 1 1 2 2 2 2 2 2 2 2 2 2 2\n",
            " 2 2 2 2 2 2 2 2 2 2 2 2 2 2 2 2 2 2 2 2 2 2 2 2 2 2 2 2 2 2 2 2 2 2 2 2 2\n",
            " 2 2]\n",
            ".. _iris_dataset:\n",
            "\n",
            "Iris plants dataset\n",
            "--------------------\n",
            "\n",
            "**Data Set Characteristics:**\n",
            "\n",
            "    :Number of Instances: 150 (50 in each of three classes)\n",
            "    :Number of Attributes: 4 numeric, pre\n",
            "...\n"
          ],
          "name": "stdout"
        }
      ]
    },
    {
      "cell_type": "markdown",
      "metadata": {
        "id": "7oL2GN8S48UB",
        "colab_type": "text"
      },
      "source": [
        "If we want to build a classification model, we have to first split the data. We need a dataset we can use for training, and a dataset we can use for testing. The code below demonstrates how this is done."
      ]
    },
    {
      "cell_type": "code",
      "metadata": {
        "id": "Zwcp8jWQ48UB",
        "colab_type": "code",
        "outputId": "53bb682c-511f-4203-aded-50cc513b618c",
        "colab": {
          "base_uri": "https://localhost:8080/",
          "height": 85
        }
      },
      "source": [
        "# Prepare Training and Testing Dataset\n",
        "\n",
        "# First import the libraries needed\n",
        "from sklearn.model_selection import train_test_split\n",
        "\n",
        "# We use a function from the library to split the data.\n",
        "X_train, X_test, y_train, y_test = train_test_split( iris_dataset['data'], iris_dataset['target'], random_state=0)\n",
        "\n",
        "print(\"X_train shape: {}\".format(X_train.shape))\n",
        "print(\"y_train shape: {}\".format(y_train.shape))\n",
        "\n",
        "print(\"X_test shape: {}\".format(X_test.shape))\n",
        "print(\"y_test shape: {}\".format(y_test.shape))"
      ],
      "execution_count": 0,
      "outputs": [
        {
          "output_type": "stream",
          "text": [
            "X_train shape: (112, 4)\n",
            "y_train shape: (112,)\n",
            "X_test shape: (38, 4)\n",
            "y_test shape: (38,)\n"
          ],
          "name": "stdout"
        }
      ]
    },
    {
      "cell_type": "markdown",
      "metadata": {
        "id": "XKrT5UmG48UF",
        "colab_type": "text"
      },
      "source": [
        "Now we have the training and test sets, we will try to build a classifier model. For this problem we're using a simple probabilistic classifier."
      ]
    },
    {
      "cell_type": "code",
      "metadata": {
        "id": "V3OdH4Mk48UG",
        "colab_type": "code",
        "colab": {}
      },
      "source": [
        "# Naive Bayes Classifier - first we import the libraries required from Scikit-learn.\n",
        "# If we didn't do this, you would have to code the algorithms from scratch - this is\n",
        "# difficult and takes time!\n",
        "from sklearn import metrics \n",
        "from sklearn import datasets\n",
        "from sklearn.naive_bayes import GaussianNB\n",
        "from sklearn.model_selection import train_test_split \n",
        "\n",
        "# load data\n",
        "iris = datasets.load_iris()\n",
        "\n",
        "# Split it into X and Y - which we know contains features and labels.\n",
        "X = iris.data\n",
        "y = iris.target\n",
        "\n",
        "# Build a training and test split.\n",
        "X_train, X_test, y_train, y_test = train_test_split(X, y, test_size=0.4, random_state=1) \n",
        "\n",
        "# Create the classifier.\n",
        "classifier = GaussianNB()\n",
        "\n",
        "# Train the classifier with this simple function call.\n",
        "model = classifier.fit(X_train, y_train)\n"
      ],
      "execution_count": 0,
      "outputs": []
    },
    {
      "cell_type": "markdown",
      "metadata": {
        "id": "PPelfin-48UH",
        "colab_type": "text"
      },
      "source": [
        "Now that our classifier is trained, we can test it as follows:"
      ]
    },
    {
      "cell_type": "code",
      "metadata": {
        "id": "Qwy7iKtU48UI",
        "colab_type": "code",
        "outputId": "ddb5adf2-4ce2-4e8a-b0e2-570afc31890f",
        "colab": {
          "base_uri": "https://localhost:8080/",
          "height": 68
        }
      },
      "source": [
        "# Now evaluate.\n",
        "print(\"Training score: {}\".format(model.score(X_train, y_train)))\n",
        "print(\"Test Score: {}\".format(model.score(X_test, y_test)))\n",
        "\n",
        "y_pred = model.predict(X_test)\n",
        "print(\"Gaussian Naive Bayes model accuracy(in %):\", metrics.accuracy_score(y_test, y_pred)*100)"
      ],
      "execution_count": 0,
      "outputs": [
        {
          "output_type": "stream",
          "text": [
            "Training score: 0.9555555555555556\n",
            "Test Score: 0.95\n",
            "Gaussian Naive Bayes model accuracy(in %): 95.0\n"
          ],
          "name": "stdout"
        }
      ]
    },
    {
      "cell_type": "markdown",
      "metadata": {
        "id": "SmU-wpGS48UJ",
        "colab_type": "text"
      },
      "source": [
        "Remember the weather data we discretised earlier? Well why not use Naive Bayes to process that too!"
      ]
    },
    {
      "cell_type": "code",
      "metadata": {
        "id": "rArfcI2a48UK",
        "colab_type": "code",
        "outputId": "bd3f2038-43dd-43f7-c247-bc89edccdc4b",
        "colab": {
          "base_uri": "https://localhost:8080/",
          "height": 34
        }
      },
      "source": [
        "#from sklearn.naive_bayes import BernoulliNB # Try this for yourself!\n",
        "from sklearn.naive_bayes import MultinomialNB\n",
        "\n",
        "# model = BernoulliNB() # Try this for yourself!\n",
        "model = MultinomialNB()\n",
        "model.fit(features, labels)\n",
        "\n",
        "# today = ['Sunny', 'hot', 'normal','no']\n",
        "today = [[3, 1, 1, 0 ]]\n",
        "predicted = model.predict(today)\n",
        "print(\"Predicted output:\", predicted)"
      ],
      "execution_count": 0,
      "outputs": [
        {
          "output_type": "stream",
          "text": [
            "Predicted output: [1]\n"
          ],
          "name": "stdout"
        }
      ]
    },
    {
      "cell_type": "markdown",
      "metadata": {
        "id": "_BCrsxpS48UL",
        "colab_type": "text"
      },
      "source": [
        "I invite you to switch the type of Naïve Bayes classifier used too. Comment out the use of Multinomial Naïve Bayes, and use Bernoulli Naïve Bayes instead. What is the impact of the change? Why don't you do some reading to discover the difference between these two approaches?"
      ]
    },
    {
      "cell_type": "markdown",
      "metadata": {
        "id": "Gz2QsIaO48UM",
        "colab_type": "text"
      },
      "source": [
        "## Activity 2. Decision Trees\n",
        "Decision trees are effective Discriminative algorithms, that we've discussed during the module. Here we apply the approach to a dataset captured during screen for Breast Cancer. This is known as the Breast Cancer Wisconsin (Diagnostic) dataset.\n",
        "\n",
        "The dataset was created by Dr. William H. Wolberg, a physician at the University Of Wisconsin Hospital. To create the dataset, he extracted fluid samples from patients with solid breast masses. These were then analysed, to look for cytological features of relevance. The analysis produced images of cells. The cells within the images are described using ten real-valued features, computed for each cell nucleus. The aim is to use this data to determine which cells/features are good predictors for the presence of cancer.\n",
        "\n",
        "\n",
        "In the following cell, we load the Breast Cancer Dataset.\n"
      ]
    },
    {
      "cell_type": "code",
      "metadata": {
        "id": "nzLUeWzs48UN",
        "colab_type": "code",
        "colab": {}
      },
      "source": [
        "from sklearn.datasets import load_breast_cancer\n",
        "from sklearn.tree import DecisionTreeClassifier\n",
        "\n",
        "cancer = load_breast_cancer()"
      ],
      "execution_count": 0,
      "outputs": []
    },
    {
      "cell_type": "markdown",
      "metadata": {
        "id": "-r4yR-V548UR",
        "colab_type": "text"
      },
      "source": [
        "Now we split the data into testing and training sets."
      ]
    },
    {
      "cell_type": "code",
      "metadata": {
        "id": "XuAD53eS48UR",
        "colab_type": "code",
        "colab": {}
      },
      "source": [
        "X_train, X_test, y_train, y_test = train_test_split(cancer.data, cancer.target, stratify=cancer.target, random_state=42)"
      ],
      "execution_count": 0,
      "outputs": []
    },
    {
      "cell_type": "markdown",
      "metadata": {
        "id": "K2VEyJRQ48UT",
        "colab_type": "text"
      },
      "source": [
        "Next we try and build a decision tree classifier to work on this data. We also evaluate it's accuracy on the test set."
      ]
    },
    {
      "cell_type": "code",
      "metadata": {
        "id": "_R6jICw548UT",
        "colab_type": "code",
        "outputId": "ab6d764d-97f6-44e2-be25-fdb2ec87b084",
        "colab": {
          "base_uri": "https://localhost:8080/",
          "height": 51
        }
      },
      "source": [
        "tree = DecisionTreeClassifier(random_state = 0)\n",
        "tree.fit(X_train, y_train)\n",
        "print(\"Accuracy on training set: {:.3f}\".format(tree.score(X_train, y_train)))\n",
        "print(\"Accuracy on test set: {:.3f}\".format(tree.score(X_test, y_test)))"
      ],
      "execution_count": 0,
      "outputs": [
        {
          "output_type": "stream",
          "text": [
            "Accuracy on training set: 1.000\n",
            "Accuracy on test set: 0.937\n"
          ],
          "name": "stdout"
        }
      ]
    },
    {
      "cell_type": "markdown",
      "metadata": {
        "id": "EQLF4crL48UU",
        "colab_type": "text"
      },
      "source": [
        "Next we can experiment with what happens when we alter the depth of the tree. Lets restrict the depth to 4."
      ]
    },
    {
      "cell_type": "code",
      "metadata": {
        "id": "KV_tdYaH48UV",
        "colab_type": "code",
        "outputId": "fb771662-65d8-460e-b453-5324b3b01bbc",
        "colab": {
          "base_uri": "https://localhost:8080/",
          "height": 68
        }
      },
      "source": [
        "print(\"After restricting depth ...\")\n",
        "# restrict the depth of decision tree\n",
        "tree = DecisionTreeClassifier(max_depth=4, random_state=0)\n",
        "tree.fit(X_train, y_train)\n",
        "print(\"Accuracy on training set: {:.3f}\".format(tree.score(X_train, y_train)))\n",
        "print(\"Accuracy on test set: {:.3f}\".format(tree.score(X_test, y_test)))"
      ],
      "execution_count": 0,
      "outputs": [
        {
          "output_type": "stream",
          "text": [
            "After restricting depth ...\n",
            "Accuracy on training set: 0.988\n",
            "Accuracy on test set: 0.951\n"
          ],
          "name": "stdout"
        }
      ]
    },
    {
      "cell_type": "markdown",
      "metadata": {
        "id": "cgrAylWW48UW",
        "colab_type": "text"
      },
      "source": [
        "We decreased our accuracy on the training set, but we've increased it accuracy on the test set. Can you understand these results?\n",
        "\n",
        "Well, by letting the tree grow as deep as possible during the first test, we've overfit to the training data. This yielded perfect accuracy on the training set, but lower accuracy on the test set.\n",
        "\n",
        "By restricting the tree depth to 4, we've prevented overfitting. Instead the tree has become a better generalises. This means that all though it's training accuracy has decrease, its accuracy on the test set (its ability to generalise to new data) has improved.\n",
        "\n",
        "\n",
        "Next we consider how importance each feature in the tree is:"
      ]
    },
    {
      "cell_type": "code",
      "metadata": {
        "id": "J0RoLGib48UW",
        "colab_type": "code",
        "outputId": "9b7f87af-a13a-4b0e-fe3f-bc000173869b",
        "colab": {
          "base_uri": "https://localhost:8080/",
          "height": 204
        }
      },
      "source": [
        "importances = tree.feature_importances_\n",
        "std = np.std([tree.feature_importances_ for tree in forest.estimators_],axis=0)\n",
        "indices = np.argsort(importances)[::-1]\n",
        "\n",
        "# Print the feature ranking\n",
        "print(\"Feature ranking:\")\n",
        "\n",
        "for f in range(10):\n",
        "    print(\"%d. feature %d (%f)\" % (f + 1, indices[f], importances[indices[f]]))"
      ],
      "execution_count": 0,
      "outputs": [
        {
          "output_type": "stream",
          "text": [
            "Feature ranking:\n",
            "1. feature 20 (0.726829)\n",
            "2. feature 27 (0.122113)\n",
            "3. feature 11 (0.048398)\n",
            "4. feature 21 (0.045816)\n",
            "5. feature 26 (0.018188)\n",
            "6. feature 24 (0.014158)\n",
            "7. feature 28 (0.011885)\n",
            "8. feature 10 (0.010197)\n",
            "9. feature 14 (0.002416)\n",
            "10. feature 3 (0.000000)\n"
          ],
          "name": "stdout"
        }
      ]
    },
    {
      "cell_type": "markdown",
      "metadata": {
        "id": "Avjp36Xb48UY",
        "colab_type": "text"
      },
      "source": [
        "We can also represent this information visually."
      ]
    },
    {
      "cell_type": "code",
      "metadata": {
        "id": "1U8BzXSL48UY",
        "colab_type": "code",
        "outputId": "0d6fd494-f708-4712-838e-051fb2b684f3",
        "colab": {
          "base_uri": "https://localhost:8080/",
          "height": 1000
        }
      },
      "source": [
        "# Visualizing the tree\n",
        "from sklearn.tree import export_graphviz\n",
        "export_graphviz(tree, out_file=\"tree.dot\", class_names = [\"malignant\", \"benign\"],\n",
        "               feature_names = cancer.feature_names, \n",
        "                impurity = False, filled = True)\n",
        "\n",
        "import graphviz\n",
        "with open(\"tree.dot\") as f:\n",
        "  dot_graph = f.read()\n",
        "display(graphviz.Source(dot_graph))\n",
        "\n",
        "# Feature importance in trees\n",
        "print(\"Feature importances:\\n{}\".format(tree.feature_importances_))\n",
        "\n",
        "\n",
        "\n",
        "def plot_feature_importances_cancer(model):\n",
        "  n_features = cancer.data.shape[1]\n",
        "  plt.barh(range(n_features), model.feature_importances_, align='center')\n",
        "  plt.yticks(np.arange(n_features), cancer.feature_names)\n",
        "  plt.xlabel(\"Feature importance\")\n",
        "  plt.ylabel(\"Feature\")\n",
        "  plt.ylim(-1, n_features)\n",
        "\n",
        "\n",
        "plot_feature_importances_cancer(tree)"
      ],
      "execution_count": 0,
      "outputs": [
        {
          "output_type": "display_data",
          "data": {
            "text/plain": [
              "<graphviz.files.Source at 0x7f8d7c536780>"
            ],
            "image/svg+xml": "<?xml version=\"1.0\" encoding=\"UTF-8\" standalone=\"no\"?>\n<!DOCTYPE svg PUBLIC \"-//W3C//DTD SVG 1.1//EN\"\n \"http://www.w3.org/Graphics/SVG/1.1/DTD/svg11.dtd\">\n<!-- Generated by graphviz version 2.40.1 (20161225.0304)\n -->\n<!-- Title: Tree Pages: 1 -->\n<svg width=\"1052pt\" height=\"477pt\"\n viewBox=\"0.00 0.00 1052.00 477.00\" xmlns=\"http://www.w3.org/2000/svg\" xmlns:xlink=\"http://www.w3.org/1999/xlink\">\n<g id=\"graph0\" class=\"graph\" transform=\"scale(1 1) rotate(0) translate(4 473)\">\n<title>Tree</title>\n<polygon fill=\"#ffffff\" stroke=\"transparent\" points=\"-4,4 -4,-473 1048,-473 1048,4 -4,4\"/>\n<!-- 0 -->\n<g id=\"node1\" class=\"node\">\n<title>0</title>\n<polygon fill=\"#afd7f4\" stroke=\"#000000\" points=\"654,-469 502,-469 502,-401 654,-401 654,-469\"/>\n<text text-anchor=\"middle\" x=\"578\" y=\"-453.8\" font-family=\"Times,serif\" font-size=\"14.00\" fill=\"#000000\">worst radius &lt;= 16.795</text>\n<text text-anchor=\"middle\" x=\"578\" y=\"-438.8\" font-family=\"Times,serif\" font-size=\"14.00\" fill=\"#000000\">samples = 426</text>\n<text text-anchor=\"middle\" x=\"578\" y=\"-423.8\" font-family=\"Times,serif\" font-size=\"14.00\" fill=\"#000000\">value = [159, 267]</text>\n<text text-anchor=\"middle\" x=\"578\" y=\"-408.8\" font-family=\"Times,serif\" font-size=\"14.00\" fill=\"#000000\">class = benign</text>\n</g>\n<!-- 1 -->\n<g id=\"node2\" class=\"node\">\n<title>1</title>\n<polygon fill=\"#4ca6e8\" stroke=\"#000000\" points=\"563.5,-365 368.5,-365 368.5,-297 563.5,-297 563.5,-365\"/>\n<text text-anchor=\"middle\" x=\"466\" y=\"-349.8\" font-family=\"Times,serif\" font-size=\"14.00\" fill=\"#000000\">worst concave points &lt;= 0.136</text>\n<text text-anchor=\"middle\" x=\"466\" y=\"-334.8\" font-family=\"Times,serif\" font-size=\"14.00\" fill=\"#000000\">samples = 284</text>\n<text text-anchor=\"middle\" x=\"466\" y=\"-319.8\" font-family=\"Times,serif\" font-size=\"14.00\" fill=\"#000000\">value = [25, 259]</text>\n<text text-anchor=\"middle\" x=\"466\" y=\"-304.8\" font-family=\"Times,serif\" font-size=\"14.00\" fill=\"#000000\">class = benign</text>\n</g>\n<!-- 0&#45;&gt;1 -->\n<g id=\"edge1\" class=\"edge\">\n<title>0&#45;&gt;1</title>\n<path fill=\"none\" stroke=\"#000000\" d=\"M541.327,-400.9465C531.3677,-391.6986 520.4789,-381.5876 510.1532,-371.9994\"/>\n<polygon fill=\"#000000\" stroke=\"#000000\" points=\"512.4649,-369.3698 502.7554,-365.13 507.7018,-374.4993 512.4649,-369.3698\"/>\n<text text-anchor=\"middle\" x=\"503.6807\" y=\"-386.4129\" font-family=\"Times,serif\" font-size=\"14.00\" fill=\"#000000\">True</text>\n</g>\n<!-- 14 -->\n<g id=\"node15\" class=\"node\">\n<title>14</title>\n<polygon fill=\"#e78945\" stroke=\"#000000\" points=\"736,-365 592,-365 592,-297 736,-297 736,-365\"/>\n<text text-anchor=\"middle\" x=\"664\" y=\"-349.8\" font-family=\"Times,serif\" font-size=\"14.00\" fill=\"#000000\">texture error &lt;= 0.473</text>\n<text text-anchor=\"middle\" x=\"664\" y=\"-334.8\" font-family=\"Times,serif\" font-size=\"14.00\" fill=\"#000000\">samples = 142</text>\n<text text-anchor=\"middle\" x=\"664\" y=\"-319.8\" font-family=\"Times,serif\" font-size=\"14.00\" fill=\"#000000\">value = [134, 8]</text>\n<text text-anchor=\"middle\" x=\"664\" y=\"-304.8\" font-family=\"Times,serif\" font-size=\"14.00\" fill=\"#000000\">class = malignant</text>\n</g>\n<!-- 0&#45;&gt;14 -->\n<g id=\"edge14\" class=\"edge\">\n<title>0&#45;&gt;14</title>\n<path fill=\"none\" stroke=\"#000000\" d=\"M606.1596,-400.9465C613.5842,-391.968 621.6815,-382.1758 629.4028,-372.8385\"/>\n<polygon fill=\"#000000\" stroke=\"#000000\" points=\"632.1017,-375.0669 635.7771,-365.13 626.7072,-370.606 632.1017,-375.0669\"/>\n<text text-anchor=\"middle\" x=\"638.135\" y=\"-386.3186\" font-family=\"Times,serif\" font-size=\"14.00\" fill=\"#000000\">False</text>\n</g>\n<!-- 2 -->\n<g id=\"node3\" class=\"node\">\n<title>2</title>\n<polygon fill=\"#3c9fe5\" stroke=\"#000000\" points=\"363,-261 223,-261 223,-193 363,-193 363,-261\"/>\n<text text-anchor=\"middle\" x=\"293\" y=\"-245.8\" font-family=\"Times,serif\" font-size=\"14.00\" fill=\"#000000\">radius error &lt;= 1.048</text>\n<text text-anchor=\"middle\" x=\"293\" y=\"-230.8\" font-family=\"Times,serif\" font-size=\"14.00\" fill=\"#000000\">samples = 252</text>\n<text text-anchor=\"middle\" x=\"293\" y=\"-215.8\" font-family=\"Times,serif\" font-size=\"14.00\" fill=\"#000000\">value = [4, 248]</text>\n<text text-anchor=\"middle\" x=\"293\" y=\"-200.8\" font-family=\"Times,serif\" font-size=\"14.00\" fill=\"#000000\">class = benign</text>\n</g>\n<!-- 1&#45;&gt;2 -->\n<g id=\"edge2\" class=\"edge\">\n<title>1&#45;&gt;2</title>\n<path fill=\"none\" stroke=\"#000000\" d=\"M409.3533,-296.9465C393.0737,-287.1599 375.186,-276.4066 358.423,-266.3294\"/>\n<polygon fill=\"#000000\" stroke=\"#000000\" points=\"360.1478,-263.2826 349.7739,-261.13 356.5412,-269.282 360.1478,-263.2826\"/>\n</g>\n<!-- 7 -->\n<g id=\"node8\" class=\"node\">\n<title>7</title>\n<polygon fill=\"#f3c3a1\" stroke=\"#000000\" points=\"540.5,-261 391.5,-261 391.5,-193 540.5,-193 540.5,-261\"/>\n<text text-anchor=\"middle\" x=\"466\" y=\"-245.8\" font-family=\"Times,serif\" font-size=\"14.00\" fill=\"#000000\">worst texture &lt;= 25.62</text>\n<text text-anchor=\"middle\" x=\"466\" y=\"-230.8\" font-family=\"Times,serif\" font-size=\"14.00\" fill=\"#000000\">samples = 32</text>\n<text text-anchor=\"middle\" x=\"466\" y=\"-215.8\" font-family=\"Times,serif\" font-size=\"14.00\" fill=\"#000000\">value = [21, 11]</text>\n<text text-anchor=\"middle\" x=\"466\" y=\"-200.8\" font-family=\"Times,serif\" font-size=\"14.00\" fill=\"#000000\">class = malignant</text>\n</g>\n<!-- 1&#45;&gt;7 -->\n<g id=\"edge7\" class=\"edge\">\n<title>1&#45;&gt;7</title>\n<path fill=\"none\" stroke=\"#000000\" d=\"M466,-296.9465C466,-288.776 466,-279.9318 466,-271.3697\"/>\n<polygon fill=\"#000000\" stroke=\"#000000\" points=\"469.5001,-271.13 466,-261.13 462.5001,-271.13 469.5001,-271.13\"/>\n</g>\n<!-- 3 -->\n<g id=\"node4\" class=\"node\">\n<title>3</title>\n<polygon fill=\"#3b9ee5\" stroke=\"#000000\" points=\"217,-157 45,-157 45,-89 217,-89 217,-157\"/>\n<text text-anchor=\"middle\" x=\"131\" y=\"-141.8\" font-family=\"Times,serif\" font-size=\"14.00\" fill=\"#000000\">smoothness error &lt;= 0.003</text>\n<text text-anchor=\"middle\" x=\"131\" y=\"-126.8\" font-family=\"Times,serif\" font-size=\"14.00\" fill=\"#000000\">samples = 251</text>\n<text text-anchor=\"middle\" x=\"131\" y=\"-111.8\" font-family=\"Times,serif\" font-size=\"14.00\" fill=\"#000000\">value = [3, 248]</text>\n<text text-anchor=\"middle\" x=\"131\" y=\"-96.8\" font-family=\"Times,serif\" font-size=\"14.00\" fill=\"#000000\">class = benign</text>\n</g>\n<!-- 2&#45;&gt;3 -->\n<g id=\"edge3\" class=\"edge\">\n<title>2&#45;&gt;3</title>\n<path fill=\"none\" stroke=\"#000000\" d=\"M239.9551,-192.9465C224.8505,-183.2497 208.2676,-172.6039 192.6954,-162.6069\"/>\n<polygon fill=\"#000000\" stroke=\"#000000\" points=\"194.47,-159.5871 184.164,-157.13 190.6884,-165.4777 194.47,-159.5871\"/>\n</g>\n<!-- 6 -->\n<g id=\"node7\" class=\"node\">\n<title>6</title>\n<polygon fill=\"#e58139\" stroke=\"#000000\" points=\"351,-149.5 235,-149.5 235,-96.5 351,-96.5 351,-149.5\"/>\n<text text-anchor=\"middle\" x=\"293\" y=\"-134.3\" font-family=\"Times,serif\" font-size=\"14.00\" fill=\"#000000\">samples = 1</text>\n<text text-anchor=\"middle\" x=\"293\" y=\"-119.3\" font-family=\"Times,serif\" font-size=\"14.00\" fill=\"#000000\">value = [1, 0]</text>\n<text text-anchor=\"middle\" x=\"293\" y=\"-104.3\" font-family=\"Times,serif\" font-size=\"14.00\" fill=\"#000000\">class = malignant</text>\n</g>\n<!-- 2&#45;&gt;6 -->\n<g id=\"edge6\" class=\"edge\">\n<title>2&#45;&gt;6</title>\n<path fill=\"none\" stroke=\"#000000\" d=\"M293,-192.9465C293,-182.2621 293,-170.4254 293,-159.5742\"/>\n<polygon fill=\"#000000\" stroke=\"#000000\" points=\"296.5001,-159.5421 293,-149.5422 289.5001,-159.5422 296.5001,-159.5421\"/>\n</g>\n<!-- 4 -->\n<g id=\"node5\" class=\"node\">\n<title>4</title>\n<polygon fill=\"#7bbeee\" stroke=\"#000000\" points=\"98,-53 0,-53 0,0 98,0 98,-53\"/>\n<text text-anchor=\"middle\" x=\"49\" y=\"-37.8\" font-family=\"Times,serif\" font-size=\"14.00\" fill=\"#000000\">samples = 4</text>\n<text text-anchor=\"middle\" x=\"49\" y=\"-22.8\" font-family=\"Times,serif\" font-size=\"14.00\" fill=\"#000000\">value = [1, 3]</text>\n<text text-anchor=\"middle\" x=\"49\" y=\"-7.8\" font-family=\"Times,serif\" font-size=\"14.00\" fill=\"#000000\">class = benign</text>\n</g>\n<!-- 3&#45;&gt;4 -->\n<g id=\"edge4\" class=\"edge\">\n<title>3&#45;&gt;4</title>\n<path fill=\"none\" stroke=\"#000000\" d=\"M102.0899,-88.9777C94.3866,-79.9123 86.0581,-70.111 78.3324,-61.0192\"/>\n<polygon fill=\"#000000\" stroke=\"#000000\" points=\"80.8718,-58.6025 71.7293,-53.2485 75.5375,-63.1352 80.8718,-58.6025\"/>\n</g>\n<!-- 5 -->\n<g id=\"node6\" class=\"node\">\n<title>5</title>\n<polygon fill=\"#3b9ee5\" stroke=\"#000000\" points=\"226,-53 116,-53 116,0 226,0 226,-53\"/>\n<text text-anchor=\"middle\" x=\"171\" y=\"-37.8\" font-family=\"Times,serif\" font-size=\"14.00\" fill=\"#000000\">samples = 247</text>\n<text text-anchor=\"middle\" x=\"171\" y=\"-22.8\" font-family=\"Times,serif\" font-size=\"14.00\" fill=\"#000000\">value = [2, 245]</text>\n<text text-anchor=\"middle\" x=\"171\" y=\"-7.8\" font-family=\"Times,serif\" font-size=\"14.00\" fill=\"#000000\">class = benign</text>\n</g>\n<!-- 3&#45;&gt;5 -->\n<g id=\"edge5\" class=\"edge\">\n<title>3&#45;&gt;5</title>\n<path fill=\"none\" stroke=\"#000000\" d=\"M145.1025,-88.9777C148.6324,-80.4617 152.4316,-71.2963 156.0032,-62.6798\"/>\n<polygon fill=\"#000000\" stroke=\"#000000\" points=\"159.3166,-63.8265 159.9125,-53.2485 152.8501,-61.1461 159.3166,-63.8265\"/>\n</g>\n<!-- 8 -->\n<g id=\"node9\" class=\"node\">\n<title>8</title>\n<polygon fill=\"#7bbeee\" stroke=\"#000000\" points=\"545,-157 369,-157 369,-89 545,-89 545,-157\"/>\n<text text-anchor=\"middle\" x=\"457\" y=\"-141.8\" font-family=\"Times,serif\" font-size=\"14.00\" fill=\"#000000\">worst smoothness &lt;= 0.179</text>\n<text text-anchor=\"middle\" x=\"457\" y=\"-126.8\" font-family=\"Times,serif\" font-size=\"14.00\" fill=\"#000000\">samples = 12</text>\n<text text-anchor=\"middle\" x=\"457\" y=\"-111.8\" font-family=\"Times,serif\" font-size=\"14.00\" fill=\"#000000\">value = [3, 9]</text>\n<text text-anchor=\"middle\" x=\"457\" y=\"-96.8\" font-family=\"Times,serif\" font-size=\"14.00\" fill=\"#000000\">class = benign</text>\n</g>\n<!-- 7&#45;&gt;8 -->\n<g id=\"edge8\" class=\"edge\">\n<title>7&#45;&gt;8</title>\n<path fill=\"none\" stroke=\"#000000\" d=\"M463.0531,-192.9465C462.346,-184.776 461.5806,-175.9318 460.8397,-167.3697\"/>\n<polygon fill=\"#000000\" stroke=\"#000000\" points=\"464.3028,-166.791 459.9536,-157.13 457.3288,-167.3945 464.3028,-166.791\"/>\n</g>\n<!-- 11 -->\n<g id=\"node12\" class=\"node\">\n<title>11</title>\n<polygon fill=\"#e88f4f\" stroke=\"#000000\" points=\"729.5,-157 562.5,-157 562.5,-89 729.5,-89 729.5,-157\"/>\n<text text-anchor=\"middle\" x=\"646\" y=\"-141.8\" font-family=\"Times,serif\" font-size=\"14.00\" fill=\"#000000\">worst symmetry &lt;= 0.268</text>\n<text text-anchor=\"middle\" x=\"646\" y=\"-126.8\" font-family=\"Times,serif\" font-size=\"14.00\" fill=\"#000000\">samples = 20</text>\n<text text-anchor=\"middle\" x=\"646\" y=\"-111.8\" font-family=\"Times,serif\" font-size=\"14.00\" fill=\"#000000\">value = [18, 2]</text>\n<text text-anchor=\"middle\" x=\"646\" y=\"-96.8\" font-family=\"Times,serif\" font-size=\"14.00\" fill=\"#000000\">class = malignant</text>\n</g>\n<!-- 7&#45;&gt;11 -->\n<g id=\"edge11\" class=\"edge\">\n<title>7&#45;&gt;11</title>\n<path fill=\"none\" stroke=\"#000000\" d=\"M524.9387,-192.9465C541.8771,-183.1599 560.4885,-172.4066 577.9299,-162.3294\"/>\n<polygon fill=\"#000000\" stroke=\"#000000\" points=\"580.0212,-165.1634 586.9289,-157.13 576.5192,-159.1023 580.0212,-165.1634\"/>\n</g>\n<!-- 9 -->\n<g id=\"node10\" class=\"node\">\n<title>9</title>\n<polygon fill=\"#4fa8e8\" stroke=\"#000000\" points=\"381,-53 283,-53 283,0 381,0 381,-53\"/>\n<text text-anchor=\"middle\" x=\"332\" y=\"-37.8\" font-family=\"Times,serif\" font-size=\"14.00\" fill=\"#000000\">samples = 10</text>\n<text text-anchor=\"middle\" x=\"332\" y=\"-22.8\" font-family=\"Times,serif\" font-size=\"14.00\" fill=\"#000000\">value = [1, 9]</text>\n<text text-anchor=\"middle\" x=\"332\" y=\"-7.8\" font-family=\"Times,serif\" font-size=\"14.00\" fill=\"#000000\">class = benign</text>\n</g>\n<!-- 8&#45;&gt;9 -->\n<g id=\"edge9\" class=\"edge\">\n<title>8&#45;&gt;9</title>\n<path fill=\"none\" stroke=\"#000000\" d=\"M412.9297,-88.9777C400.4752,-79.3629 386.9485,-68.9203 374.5833,-59.3743\"/>\n<polygon fill=\"#000000\" stroke=\"#000000\" points=\"376.7028,-56.5889 366.6483,-53.2485 372.4251,-62.1299 376.7028,-56.5889\"/>\n</g>\n<!-- 10 -->\n<g id=\"node11\" class=\"node\">\n<title>10</title>\n<polygon fill=\"#e58139\" stroke=\"#000000\" points=\"515,-53 399,-53 399,0 515,0 515,-53\"/>\n<text text-anchor=\"middle\" x=\"457\" y=\"-37.8\" font-family=\"Times,serif\" font-size=\"14.00\" fill=\"#000000\">samples = 2</text>\n<text text-anchor=\"middle\" x=\"457\" y=\"-22.8\" font-family=\"Times,serif\" font-size=\"14.00\" fill=\"#000000\">value = [2, 0]</text>\n<text text-anchor=\"middle\" x=\"457\" y=\"-7.8\" font-family=\"Times,serif\" font-size=\"14.00\" fill=\"#000000\">class = malignant</text>\n</g>\n<!-- 8&#45;&gt;10 -->\n<g id=\"edge10\" class=\"edge\">\n<title>8&#45;&gt;10</title>\n<path fill=\"none\" stroke=\"#000000\" d=\"M457,-88.9777C457,-80.7364 457,-71.887 457,-63.5153\"/>\n<polygon fill=\"#000000\" stroke=\"#000000\" points=\"460.5001,-63.2484 457,-53.2485 453.5001,-63.2485 460.5001,-63.2484\"/>\n</g>\n<!-- 12 -->\n<g id=\"node13\" class=\"node\">\n<title>12</title>\n<polygon fill=\"#9ccef2\" stroke=\"#000000\" points=\"631,-53 533,-53 533,0 631,0 631,-53\"/>\n<text text-anchor=\"middle\" x=\"582\" y=\"-37.8\" font-family=\"Times,serif\" font-size=\"14.00\" fill=\"#000000\">samples = 3</text>\n<text text-anchor=\"middle\" x=\"582\" y=\"-22.8\" font-family=\"Times,serif\" font-size=\"14.00\" fill=\"#000000\">value = [1, 2]</text>\n<text text-anchor=\"middle\" x=\"582\" y=\"-7.8\" font-family=\"Times,serif\" font-size=\"14.00\" fill=\"#000000\">class = benign</text>\n</g>\n<!-- 11&#45;&gt;12 -->\n<g id=\"edge12\" class=\"edge\">\n<title>11&#45;&gt;12</title>\n<path fill=\"none\" stroke=\"#000000\" d=\"M623.436,-88.9777C617.6059,-80.187 611.3169,-70.7044 605.443,-61.8477\"/>\n<polygon fill=\"#000000\" stroke=\"#000000\" points=\"608.1838,-59.6478 599.7399,-53.2485 602.3502,-63.5167 608.1838,-59.6478\"/>\n</g>\n<!-- 13 -->\n<g id=\"node14\" class=\"node\">\n<title>13</title>\n<polygon fill=\"#e58139\" stroke=\"#000000\" points=\"765,-53 649,-53 649,0 765,0 765,-53\"/>\n<text text-anchor=\"middle\" x=\"707\" y=\"-37.8\" font-family=\"Times,serif\" font-size=\"14.00\" fill=\"#000000\">samples = 17</text>\n<text text-anchor=\"middle\" x=\"707\" y=\"-22.8\" font-family=\"Times,serif\" font-size=\"14.00\" fill=\"#000000\">value = [17, 0]</text>\n<text text-anchor=\"middle\" x=\"707\" y=\"-7.8\" font-family=\"Times,serif\" font-size=\"14.00\" fill=\"#000000\">class = malignant</text>\n</g>\n<!-- 11&#45;&gt;13 -->\n<g id=\"edge13\" class=\"edge\">\n<title>11&#45;&gt;13</title>\n<path fill=\"none\" stroke=\"#000000\" d=\"M667.5063,-88.9777C673.0631,-80.187 679.0573,-70.7044 684.6559,-61.8477\"/>\n<polygon fill=\"#000000\" stroke=\"#000000\" points=\"687.7069,-63.5714 690.0916,-53.2485 681.7899,-59.8312 687.7069,-63.5714\"/>\n</g>\n<!-- 15 -->\n<g id=\"node16\" class=\"node\">\n<title>15</title>\n<polygon fill=\"#399de5\" stroke=\"#000000\" points=\"713,-253.5 615,-253.5 615,-200.5 713,-200.5 713,-253.5\"/>\n<text text-anchor=\"middle\" x=\"664\" y=\"-238.3\" font-family=\"Times,serif\" font-size=\"14.00\" fill=\"#000000\">samples = 5</text>\n<text text-anchor=\"middle\" x=\"664\" y=\"-223.3\" font-family=\"Times,serif\" font-size=\"14.00\" fill=\"#000000\">value = [0, 5]</text>\n<text text-anchor=\"middle\" x=\"664\" y=\"-208.3\" font-family=\"Times,serif\" font-size=\"14.00\" fill=\"#000000\">class = benign</text>\n</g>\n<!-- 14&#45;&gt;15 -->\n<g id=\"edge15\" class=\"edge\">\n<title>14&#45;&gt;15</title>\n<path fill=\"none\" stroke=\"#000000\" d=\"M664,-296.9465C664,-286.2621 664,-274.4254 664,-263.5742\"/>\n<polygon fill=\"#000000\" stroke=\"#000000\" points=\"667.5001,-263.5421 664,-253.5422 660.5001,-263.5422 667.5001,-263.5421\"/>\n</g>\n<!-- 16 -->\n<g id=\"node17\" class=\"node\">\n<title>16</title>\n<polygon fill=\"#e6843d\" stroke=\"#000000\" points=\"914.5,-261 749.5,-261 749.5,-193 914.5,-193 914.5,-261\"/>\n<text text-anchor=\"middle\" x=\"832\" y=\"-245.8\" font-family=\"Times,serif\" font-size=\"14.00\" fill=\"#000000\">worst concavity &lt;= 0.191</text>\n<text text-anchor=\"middle\" x=\"832\" y=\"-230.8\" font-family=\"Times,serif\" font-size=\"14.00\" fill=\"#000000\">samples = 137</text>\n<text text-anchor=\"middle\" x=\"832\" y=\"-215.8\" font-family=\"Times,serif\" font-size=\"14.00\" fill=\"#000000\">value = [134, 3]</text>\n<text text-anchor=\"middle\" x=\"832\" y=\"-200.8\" font-family=\"Times,serif\" font-size=\"14.00\" fill=\"#000000\">class = malignant</text>\n</g>\n<!-- 14&#45;&gt;16 -->\n<g id=\"edge16\" class=\"edge\">\n<title>14&#45;&gt;16</title>\n<path fill=\"none\" stroke=\"#000000\" d=\"M719.0095,-296.9465C734.6736,-287.2497 751.8707,-276.6039 768.0196,-266.6069\"/>\n<polygon fill=\"#000000\" stroke=\"#000000\" points=\"770.2065,-269.3695 776.8669,-261.13 766.522,-263.4177 770.2065,-269.3695\"/>\n</g>\n<!-- 17 -->\n<g id=\"node18\" class=\"node\">\n<title>17</title>\n<polygon fill=\"#bddef6\" stroke=\"#000000\" points=\"910,-157 754,-157 754,-89 910,-89 910,-157\"/>\n<text text-anchor=\"middle\" x=\"832\" y=\"-141.8\" font-family=\"Times,serif\" font-size=\"14.00\" fill=\"#000000\">worst texture &lt;= 30.975</text>\n<text text-anchor=\"middle\" x=\"832\" y=\"-126.8\" font-family=\"Times,serif\" font-size=\"14.00\" fill=\"#000000\">samples = 5</text>\n<text text-anchor=\"middle\" x=\"832\" y=\"-111.8\" font-family=\"Times,serif\" font-size=\"14.00\" fill=\"#000000\">value = [2, 3]</text>\n<text text-anchor=\"middle\" x=\"832\" y=\"-96.8\" font-family=\"Times,serif\" font-size=\"14.00\" fill=\"#000000\">class = benign</text>\n</g>\n<!-- 16&#45;&gt;17 -->\n<g id=\"edge17\" class=\"edge\">\n<title>16&#45;&gt;17</title>\n<path fill=\"none\" stroke=\"#000000\" d=\"M832,-192.9465C832,-184.776 832,-175.9318 832,-167.3697\"/>\n<polygon fill=\"#000000\" stroke=\"#000000\" points=\"835.5001,-167.13 832,-157.13 828.5001,-167.13 835.5001,-167.13\"/>\n</g>\n<!-- 20 -->\n<g id=\"node21\" class=\"node\">\n<title>20</title>\n<polygon fill=\"#e58139\" stroke=\"#000000\" points=\"1044,-149.5 928,-149.5 928,-96.5 1044,-96.5 1044,-149.5\"/>\n<text text-anchor=\"middle\" x=\"986\" y=\"-134.3\" font-family=\"Times,serif\" font-size=\"14.00\" fill=\"#000000\">samples = 132</text>\n<text text-anchor=\"middle\" x=\"986\" y=\"-119.3\" font-family=\"Times,serif\" font-size=\"14.00\" fill=\"#000000\">value = [132, 0]</text>\n<text text-anchor=\"middle\" x=\"986\" y=\"-104.3\" font-family=\"Times,serif\" font-size=\"14.00\" fill=\"#000000\">class = malignant</text>\n</g>\n<!-- 16&#45;&gt;20 -->\n<g id=\"edge20\" class=\"edge\">\n<title>16&#45;&gt;20</title>\n<path fill=\"none\" stroke=\"#000000\" d=\"M882.4254,-192.9465C900.3669,-180.8301 920.5026,-167.232 938.2162,-155.2696\"/>\n<polygon fill=\"#000000\" stroke=\"#000000\" points=\"940.3687,-158.0393 946.6972,-149.5422 936.4511,-152.2382 940.3687,-158.0393\"/>\n</g>\n<!-- 18 -->\n<g id=\"node19\" class=\"node\">\n<title>18</title>\n<polygon fill=\"#399de5\" stroke=\"#000000\" points=\"881,-53 783,-53 783,0 881,0 881,-53\"/>\n<text text-anchor=\"middle\" x=\"832\" y=\"-37.8\" font-family=\"Times,serif\" font-size=\"14.00\" fill=\"#000000\">samples = 3</text>\n<text text-anchor=\"middle\" x=\"832\" y=\"-22.8\" font-family=\"Times,serif\" font-size=\"14.00\" fill=\"#000000\">value = [0, 3]</text>\n<text text-anchor=\"middle\" x=\"832\" y=\"-7.8\" font-family=\"Times,serif\" font-size=\"14.00\" fill=\"#000000\">class = benign</text>\n</g>\n<!-- 17&#45;&gt;18 -->\n<g id=\"edge18\" class=\"edge\">\n<title>17&#45;&gt;18</title>\n<path fill=\"none\" stroke=\"#000000\" d=\"M832,-88.9777C832,-80.7364 832,-71.887 832,-63.5153\"/>\n<polygon fill=\"#000000\" stroke=\"#000000\" points=\"835.5001,-63.2484 832,-53.2485 828.5001,-63.2485 835.5001,-63.2484\"/>\n</g>\n<!-- 19 -->\n<g id=\"node20\" class=\"node\">\n<title>19</title>\n<polygon fill=\"#e58139\" stroke=\"#000000\" points=\"1015,-53 899,-53 899,0 1015,0 1015,-53\"/>\n<text text-anchor=\"middle\" x=\"957\" y=\"-37.8\" font-family=\"Times,serif\" font-size=\"14.00\" fill=\"#000000\">samples = 2</text>\n<text text-anchor=\"middle\" x=\"957\" y=\"-22.8\" font-family=\"Times,serif\" font-size=\"14.00\" fill=\"#000000\">value = [2, 0]</text>\n<text text-anchor=\"middle\" x=\"957\" y=\"-7.8\" font-family=\"Times,serif\" font-size=\"14.00\" fill=\"#000000\">class = malignant</text>\n</g>\n<!-- 17&#45;&gt;19 -->\n<g id=\"edge19\" class=\"edge\">\n<title>17&#45;&gt;19</title>\n<path fill=\"none\" stroke=\"#000000\" d=\"M876.0703,-88.9777C888.5248,-79.3629 902.0515,-68.9203 914.4167,-59.3743\"/>\n<polygon fill=\"#000000\" stroke=\"#000000\" points=\"916.5749,-62.1299 922.3517,-53.2485 912.2972,-56.5889 916.5749,-62.1299\"/>\n</g>\n</g>\n</svg>\n"
          },
          "metadata": {
            "tags": []
          }
        },
        {
          "output_type": "stream",
          "text": [
            "Feature importances:\n",
            "[0.         0.         0.         0.         0.         0.\n",
            " 0.         0.         0.         0.         0.01019737 0.04839825\n",
            " 0.         0.         0.0024156  0.         0.         0.\n",
            " 0.         0.         0.72682851 0.0458159  0.         0.\n",
            " 0.0141577  0.         0.018188   0.1221132  0.01188548 0.        ]\n"
          ],
          "name": "stdout"
        },
        {
          "output_type": "display_data",
          "data": {
            "image/png": "[encoded data removed]",
            "text/plain": [
              "<Figure size 432x288 with 1 Axes>"
            ]
          },
          "metadata": {
            "tags": []
          }
        }
      ]
    },
    {
      "cell_type": "markdown",
      "metadata": {
        "id": "nitTA7He48Ua",
        "colab_type": "text"
      },
      "source": [
        "### Decision tree as a regressor\n",
        "\n",
        "We can also use decision trees for regression problems. We've not discussed Regression in detail yet, so this will require some self-study. Checkout the following link to learn more Regression before you proceed.\n",
        "\n",
        "https://towardsdatascience.com/regression-explained-in-simple-terms-dccbcad96f61\n",
        "\n",
        "Read through the example code below. Try to understand what's happening, then execute it.\n",
        "\n",
        "\n",
        "In this problem we're trying to predict the price of memory per Megabyte (MB) over time. Can we predict the likely cost in the future, based on data we already have. The code below uses a decision tree to achieve this.\n"
      ]
    },
    {
      "cell_type": "code",
      "metadata": {
        "id": "SyqEU6ax48Ua",
        "colab_type": "code",
        "outputId": "8776f1a3-9cdf-4ffd-b76e-8d66bad56345",
        "colab": {
          "base_uri": "https://localhost:8080/",
          "height": 351
        }
      },
      "source": [
        "import os\n",
        "\n",
        "# First we read in the data describing the cost of memory over time.\n",
        "ram_prices = pd.read_csv(os.path.join(mglearn.datasets.DATA_PATH,\"ram_price.csv\"))\n",
        "\n",
        "# Now we plot this data so we can visaliise it - are there any obvious trends?\n",
        "plt.semilogy(ram_prices.date, ram_prices.price)\n",
        "plt.xlabel(\"Year\")\n",
        "plt.ylabel(\"Price in $/Mbyte\")\n",
        "\n",
        "# Now we'll try to use some machine learning algorithms with this data. We import them here from scikit-learn.\n",
        "from sklearn.tree import DecisionTreeRegressor\n",
        "from sklearn.linear_model import LinearRegression\n",
        "\n",
        "# Let's use historical data to forecast RAM prices after the year 2000. \n",
        "# To do this We split the data into before and after 2000. Before 2000\n",
        "# data will be used for training, after 2000 used for testing.\n",
        "data_train = ram_prices[ram_prices.date < 2000]\n",
        "data_test = ram_prices[ram_prices.date >= 2000]\n",
        "\n",
        "# We tell the algorithm we'd like to predict prices based on date.\n",
        "X_train = data_train.date[:, np.newaxis]\n",
        "y_train = np.log(data_train.price)\n",
        "\n",
        "# Now we train the machine learning model.\n",
        "tree = DecisionTreeRegressor().fit(X_train, y_train)\n",
        "linear_reg = LinearRegression().fit(X_train, y_train)\n",
        "\n",
        "# Predict for all data\n",
        "X_all = ram_prices.date[:,np.newaxis]\n",
        "pred_tree = tree.predict(X_all)\n",
        "pred_lr = linear_reg.predict(X_all)\n",
        "\n",
        "# undo log-transform\n",
        "price_tree = np.exp(pred_tree)\n",
        "price_lr = np.exp(pred_lr)\n",
        "\n",
        "# plot\n",
        "plt.semilogy(data_train.date, data_train.price, label=\"Training data\")\n",
        "plt.semilogy(data_test.date, data_test.price  , label=\"Test data\")\n",
        "plt.semilogy(ram_prices.date, price_tree      , label=\"Tree prediction\")\n",
        "plt.semilogy(ram_prices.date, price_lr        , label=\"Linear prediction\")\n",
        "plt.legend()\n",
        "\n",
        "print(\"Shape of ram_prices.date:\", np.shape(ram_prices.date))\n",
        "print(\"Shape of X_all:\", np.shape(X_all))\n",
        "print(\"shape of data_train: \", np.shape(data_train))\n",
        "print(\"shape of X_train: \", np.shape(X_train))\n",
        "\n"
      ],
      "execution_count": 0,
      "outputs": [
        {
          "output_type": "stream",
          "text": [
            "Shape of ram_prices.date: (333,)\n",
            "Shape of X_all: (333, 1)\n",
            "shape of data_train:  (202, 3)\n",
            "shape of X_train:  (202, 1)\n"
          ],
          "name": "stdout"
        },
        {
          "output_type": "display_data",
          "data": {
            "image/png": "[encoded data removed]",
            "text/plain": [
              "<Figure size 432x288 with 1 Axes>"
            ]
          },
          "metadata": {
            "tags": []
          }
        }
      ]
    },
    {
      "cell_type": "markdown",
      "metadata": {
        "id": "Swrl7X1u48Ub",
        "colab_type": "text"
      },
      "source": [
        "### Random Forests\n",
        "\n",
        "The problem with decision trees is that by always choosing the best feature for each split, they can sometimes make mistakes. They may choose the best feature greedily each time, but this feature may be of better use later on in the tree. So, decision trees don't look ahead and check, when would be best to use this feature - they simply say, I’ll use whatever is the best feature now, irrespective of whether or not using it some other time will achieve better results.\n",
        "\n",
        "Random Forests combine many decision trees to overcome this problem, achieving improved results. To demonstrate the use of the Random Forest, we're going to create an unusual dataset. It's called \"two moons\" data. When this data is plotted, it forms two crescent moon shapes as will be shown shortly.\n",
        "\n",
        "First we import the Random Forest and the library use to create the \"two moons\" data."
      ]
    },
    {
      "cell_type": "code",
      "metadata": {
        "id": "9zzYkW0S48Uc",
        "colab_type": "code",
        "colab": {}
      },
      "source": [
        "from sklearn.ensemble import RandomForestClassifier\n",
        "from sklearn.datasets import make_moons\n"
      ],
      "execution_count": 0,
      "outputs": []
    },
    {
      "cell_type": "markdown",
      "metadata": {
        "id": "9zyYetlP48Uf",
        "colab_type": "text"
      },
      "source": [
        "Now we create the data and split it into training and test sets."
      ]
    },
    {
      "cell_type": "code",
      "metadata": {
        "id": "9Njavndv48Uf",
        "colab_type": "code",
        "colab": {}
      },
      "source": [
        "X, y = make_moons(n_samples = 100, noise = 0.25, random_state = 3)\n",
        "X_train, X_test, y_train, y_test = train_test_split(X, y, stratify = y, \n",
        "                                                    random_state = 42)"
      ],
      "execution_count": 0,
      "outputs": []
    },
    {
      "cell_type": "markdown",
      "metadata": {
        "id": "Vkk3bOTX48Uh",
        "colab_type": "text"
      },
      "source": [
        "Next we build the classifier."
      ]
    },
    {
      "cell_type": "code",
      "metadata": {
        "id": "kYAEtnrq48Ui",
        "colab_type": "code",
        "outputId": "95ada02f-24ac-455b-bd57-f2302bc82146",
        "colab": {
          "base_uri": "https://localhost:8080/",
          "height": 136
        }
      },
      "source": [
        "forest = RandomForestClassifier(n_estimators = 5, random_state = 2)\n",
        "forest.fit(X_train, y_train)"
      ],
      "execution_count": 0,
      "outputs": [
        {
          "output_type": "execute_result",
          "data": {
            "text/plain": [
              "RandomForestClassifier(bootstrap=True, class_weight=None, criterion='gini',\n",
              "                       max_depth=None, max_features='auto', max_leaf_nodes=None,\n",
              "                       min_impurity_decrease=0.0, min_impurity_split=None,\n",
              "                       min_samples_leaf=1, min_samples_split=2,\n",
              "                       min_weight_fraction_leaf=0.0, n_estimators=5,\n",
              "                       n_jobs=None, oob_score=False, random_state=2, verbose=0,\n",
              "                       warm_start=False)"
            ]
          },
          "metadata": {
            "tags": []
          },
          "execution_count": 48
        }
      ]
    },
    {
      "cell_type": "markdown",
      "metadata": {
        "id": "GLGOQQGY48Ul",
        "colab_type": "text"
      },
      "source": [
        "Finally, we visualise the results."
      ]
    },
    {
      "cell_type": "code",
      "metadata": {
        "id": "vl0TR85548Ul",
        "colab_type": "code",
        "outputId": "34c90604-d778-4282-acfa-52478428d59d",
        "colab": {
          "base_uri": "https://localhost:8080/",
          "height": 628
        }
      },
      "source": [
        "# Visualize the decision boundaries learned by each tree\n",
        "fig, axes = plt.subplots(2, 3, figsize = (20,10))\n",
        "for i, (ax, tree) in enumerate(zip(axes.ravel(), forest.estimators_)):\n",
        "  ax.set_title(\"tree {}\".format(i))\n",
        "  mglearn.plots.plot_tree_partition(X_train, y_train, tree, ax = ax)\n",
        "mglearn.plots.plot_2d_separator(forest, X_train, fill = True, ax=axes[-1, -1],\n",
        "                               alpha = 0.4)\n",
        "axes[-1, -1].set_title(\"Random Forest\")\n",
        "mglearn.discrete_scatter(X_train[:, 0], X_train[:, 1], y_train)"
      ],
      "execution_count": 0,
      "outputs": [
        {
          "output_type": "execute_result",
          "data": {
            "text/plain": [
              "[<matplotlib.lines.Line2D at 0x7f8d7c108f28>,\n",
              " <matplotlib.lines.Line2D at 0x7f8d7c0d4f98>]"
            ]
          },
          "metadata": {
            "tags": []
          },
          "execution_count": 49
        },
        {
          "output_type": "display_data",
          "data": {
            "image/png": "[encoded data removed]",
            "text/plain": [
              "<Figure size 1440x720 with 6 Axes>"
            ]
          },
          "metadata": {
            "tags": []
          }
        }
      ]
    },
    {
      "cell_type": "markdown",
      "metadata": {
        "id": "Mh9dU2JM48Un",
        "colab_type": "text"
      },
      "source": [
        "If you look closely, you'll find that the Random Forest successfully separates the two moons. However, the individual decision trees inside the Forest make mistakes. By combining the predictions of all the trees in the Forest, and choosing the most likely prediction, the Forest has yielded improved results. Combining classifiers in this manner creates what we call an Ensemble Classifier.\n",
        "\n",
        "We can also apply the Random Forest to the Breast Cancer data processed earlier."
      ]
    },
    {
      "cell_type": "code",
      "metadata": {
        "id": "P6w1xEeB48Un",
        "colab_type": "code",
        "outputId": "65b1c977-110f-441b-a971-eb0f14101443",
        "colab": {
          "base_uri": "https://localhost:8080/",
          "height": 317
        }
      },
      "source": [
        "# Apply random forest to breast cancer data\n",
        "from sklearn.datasets import load_breast_cancer\n",
        "from sklearn.model_selection import train_test_split \n",
        "from sklearn.ensemble import RandomForestClassifier\n",
        "\n",
        "cancer = load_breast_cancer()\n",
        "X_train, X_test, y_train, y_test = train_test_split(\n",
        "cancer.data, cancer.target, random_state=0)\n",
        "forest = RandomForestClassifier(n_estimators=100, random_state=0)\n",
        "forest.fit(X_train, y_train)\n",
        "print(\"Accuracy on training set: {:.3f}\".format(forest.score(X_train, y_train)))\n",
        "print(\"Accuracy on test set: {:.3f}\".format(forest.score(X_test, y_test)))\n",
        "\n",
        "# this function is defined above. Please execute that block first.\n",
        "plot_feature_importances_cancer(forest)"
      ],
      "execution_count": 0,
      "outputs": [
        {
          "output_type": "stream",
          "text": [
            "Accuracy on training set: 1.000\n",
            "Accuracy on test set: 0.972\n"
          ],
          "name": "stdout"
        },
        {
          "output_type": "display_data",
          "data": {
            "image/png": "[encoded data removed]",
            "text/plain": [
              "<Figure size 432x288 with 1 Axes>"
            ]
          },
          "metadata": {
            "tags": []
          }
        }
      ]
    },
    {
      "cell_type": "markdown",
      "metadata": {
        "id": "WXd4_H3348Uo",
        "colab_type": "text"
      },
      "source": [
        "## Activity 3: $k$-NN\n",
        "\n",
        "$k$-NN is a simple algorithm that we've covered during the module. Now we get to apply it. We'll apply $k$-NN to a synthetic dataset called Forge.\n",
        "\n",
        "### $k-nn$ Applied to the Forge Dataset\n",
        "\n",
        "First we create the forge dataset. "
      ]
    },
    {
      "cell_type": "code",
      "metadata": {
        "id": "WE6yTjbB48Up",
        "colab_type": "code",
        "outputId": "c9c3c911-cced-462d-f996-f2600c83ac46",
        "colab": {
          "base_uri": "https://localhost:8080/",
          "height": 51
        }
      },
      "source": [
        "# Forge Dataset\n",
        "X, y = mglearn.datasets.make_forge()"
      ],
      "execution_count": 0,
      "outputs": [
        {
          "output_type": "stream",
          "text": [
            "/usr/local/lib/python3.6/dist-packages/sklearn/utils/deprecation.py:85: DeprecationWarning: Function make_blobs is deprecated; Please import make_blobs directly from scikit-learn\n",
            "  warnings.warn(msg, category=DeprecationWarning)\n"
          ],
          "name": "stderr"
        }
      ]
    },
    {
      "cell_type": "markdown",
      "metadata": {
        "id": "Z_G95wxN48Uq",
        "colab_type": "text"
      },
      "source": [
        "Now we visualise the data so we better understand it."
      ]
    },
    {
      "cell_type": "code",
      "metadata": {
        "id": "2oAy21zd48Ur",
        "colab_type": "code",
        "outputId": "6ec39e51-73bc-40f6-9bd7-e0cb40118fae",
        "colab": {
          "base_uri": "https://localhost:8080/",
          "height": 300
        }
      },
      "source": [
        "# Plot the dataset\n",
        "plt.figure(7)\n",
        "mglearn.discrete_scatter(X[:,0], X[:,1],y)\n",
        "plt.legend([\"Class 0\", \"Class 1\"], loc=4)\n",
        "plt.xlabel(\"First Feature\")\n",
        "plt.ylabel(\"Second Feature\")\n",
        "print(\"X.shape: {}\".format(X.shape))"
      ],
      "execution_count": 0,
      "outputs": [
        {
          "output_type": "stream",
          "text": [
            "X.shape: (26, 2)\n"
          ],
          "name": "stdout"
        },
        {
          "output_type": "display_data",
          "data": {
            "image/png": "[encoded data removed]",
            "text/plain": [
              "<Figure size 432x288 with 1 Axes>"
            ]
          },
          "metadata": {
            "tags": []
          }
        }
      ]
    },
    {
      "cell_type": "markdown",
      "metadata": {
        "id": "Q6Xsbefz48Us",
        "colab_type": "text"
      },
      "source": [
        "Now we apply $k$-NN. Below we try $k$-NN with the following settings:\n",
        "\n",
        "$k=1$ and $k=3$."
      ]
    },
    {
      "cell_type": "code",
      "metadata": {
        "id": "xwYN5a4648Uu",
        "colab_type": "code",
        "outputId": "b0ad56fb-a7f2-4c6f-922d-8a965abb9a5f",
        "colab": {
          "base_uri": "https://localhost:8080/",
          "height": 589
        }
      },
      "source": [
        "# Applying k-NN to classify this data\n",
        "plt.figure(2)\n",
        "mglearn.plots.plot_knn_classification(n_neighbors=1)\n",
        "plt.figure(3)\n",
        "mglearn.plots.plot_knn_classification(n_neighbors=3)"
      ],
      "execution_count": 0,
      "outputs": [
        {
          "output_type": "stream",
          "text": [
            "/usr/local/lib/python3.6/dist-packages/sklearn/utils/deprecation.py:85: DeprecationWarning: Function make_blobs is deprecated; Please import make_blobs directly from scikit-learn\n",
            "  warnings.warn(msg, category=DeprecationWarning)\n",
            "/usr/local/lib/python3.6/dist-packages/sklearn/utils/deprecation.py:85: DeprecationWarning: Function make_blobs is deprecated; Please import make_blobs directly from scikit-learn\n",
            "  warnings.warn(msg, category=DeprecationWarning)\n"
          ],
          "name": "stderr"
        },
        {
          "output_type": "display_data",
          "data": {
            "image/png": "[encoded data removed]",
            "text/plain": [
              "<Figure size 432x288 with 1 Axes>"
            ]
          },
          "metadata": {
            "tags": []
          }
        },
        {
          "output_type": "display_data",
          "data": {
            "image/png": "[encoded data removed]",
            "text/plain": [
              "<Figure size 432x288 with 1 Axes>"
            ]
          },
          "metadata": {
            "tags": []
          }
        }
      ]
    },
    {
      "cell_type": "markdown",
      "metadata": {
        "id": "09w39RYy48Uw",
        "colab_type": "text"
      },
      "source": [
        "When $k = 1$, the model is more complex and it tries to overfit to the training data.\n",
        "\n",
        "However as $k$ increases, the model's generalization capability increases, and model becomes simpler. Why not try changing the value of $k$ for yourself. See what happens.\n",
        "\n",
        "Let's see if we can train a Nearest Neighbor classifier. First we'll create training and test splits."
      ]
    },
    {
      "cell_type": "code",
      "metadata": {
        "id": "TaqPN_OM48Uw",
        "colab_type": "code",
        "outputId": "3a9f0c22-5851-43a4-cad7-def0a3eb2e68",
        "colab": {
          "base_uri": "https://localhost:8080/",
          "height": 51
        }
      },
      "source": [
        "from sklearn.model_selection import train_test_split\n",
        "X, y = mglearn.datasets.make_forge()\n",
        "X_train, X_test, y_train, y_test = train_test_split(X, y, random_state=0)"
      ],
      "execution_count": 0,
      "outputs": [
        {
          "output_type": "stream",
          "text": [
            "/usr/local/lib/python3.6/dist-packages/sklearn/utils/deprecation.py:85: DeprecationWarning: Function make_blobs is deprecated; Please import make_blobs directly from scikit-learn\n",
            "  warnings.warn(msg, category=DeprecationWarning)\n"
          ],
          "name": "stderr"
        }
      ]
    },
    {
      "cell_type": "markdown",
      "metadata": {
        "id": "zV_jRgi348Ux",
        "colab_type": "text"
      },
      "source": [
        "Now we can train the classifier."
      ]
    },
    {
      "cell_type": "code",
      "metadata": {
        "id": "F2Md-Iqc48Uy",
        "colab_type": "code",
        "outputId": "d811f422-9758-4cc1-fdf5-d79dd1492dad",
        "colab": {
          "base_uri": "https://localhost:8080/",
          "height": 51
        }
      },
      "source": [
        "# k-NN classifier from scikit-learn\n",
        "# Analyze the decision boundary \n",
        "\n",
        "from sklearn.neighbors import KNeighborsClassifier\n",
        "clf = KNeighborsClassifier(n_neighbors=3)\n",
        "clf.fit(X_train, y_train)\n",
        "print(\"Test set predictions: {}\".format(clf.predict(X_test)))\n",
        "print(\"Test set accuracy: {:.2f}\".format(clf.score(X_test, y_test)))"
      ],
      "execution_count": 0,
      "outputs": [
        {
          "output_type": "stream",
          "text": [
            "Test set predictions: [1 0 1 0 1 0 0]\n",
            "Test set accuracy: 0.86\n"
          ],
          "name": "stdout"
        }
      ]
    },
    {
      "cell_type": "markdown",
      "metadata": {
        "id": "arlLKJgx48U0",
        "colab_type": "text"
      },
      "source": [
        "Finally lets visualise the results."
      ]
    },
    {
      "cell_type": "code",
      "metadata": {
        "id": "nFMWdExb48U0",
        "colab_type": "code",
        "outputId": "799c1e4d-e81b-4cf1-e13e-c8362f9c1f69",
        "colab": {
          "base_uri": "https://localhost:8080/",
          "height": 241
        }
      },
      "source": [
        "# Analyze\n",
        "fig, axes = plt.subplots(1,3, figsize=(10,3))\n",
        "for n_neighbors, ax in zip([1,3,9], axes):\n",
        "  clf = KNeighborsClassifier(n_neighbors=n_neighbors).fit(X,y)\n",
        "  mglearn.plots.plot_2d_separator(clf, X, fill=True, eps=0.5, ax=ax, alpha=.4)\n",
        "  mglearn.discrete_scatter(X[:, 0], X[:, 1], y, ax=ax)\n",
        "  ax.set_title(\"{} neighbor(s)\".format(n_neighbors))\n",
        "  ax.set_xlabel(\"feature 0\")\n",
        "  ax.set_ylabel(\"feature 1\")\n",
        "axes[0].legend(loc=3)"
      ],
      "execution_count": 0,
      "outputs": [
        {
          "output_type": "execute_result",
          "data": {
            "text/plain": [
              "<matplotlib.legend.Legend at 0x7f8d7a65b5c0>"
            ]
          },
          "metadata": {
            "tags": []
          },
          "execution_count": 56
        },
        {
          "output_type": "display_data",
          "data": {
            "image/png": "[encoded data removed]",
            "text/plain": [
              "<Figure size 720x216 with 3 Axes>"
            ]
          },
          "metadata": {
            "tags": []
          }
        }
      ]
    },
    {
      "cell_type": "markdown",
      "metadata": {
        "id": "RAZTyFwO48U1",
        "colab_type": "text"
      },
      "source": [
        "### $k-nn$ Applied to the Breast Cancer dataset\n",
        "\n",
        "In the following example we see how increasing the number of neighbours, decreases training accuracy. However more importantly, we see how it improves the generalization capabilities of the classifier. \n",
        "\n",
        "But this won't always be the case. Too simple a model, for example when $k = 10$ may lead to underfitting. This causes poor performance on both the training and test dataset. The best solution lies somewhere in the middle with k=6, as this provides the highest test accuracy. Play around with the values of $k$ for yourself.\n",
        "\n",
        "First we load some libraries and the Breast Cancer data (again)."
      ]
    },
    {
      "cell_type": "code",
      "metadata": {
        "id": "7SrlfMEz48U2",
        "colab_type": "code",
        "colab": {}
      },
      "source": [
        "from sklearn.model_selection import train_test_split\n",
        "from sklearn.neighbors import KNeighborsClassifier\n",
        "from sklearn.datasets import load_breast_cancer\n",
        "\n",
        "# load data\n",
        "cancer = load_breast_cancer()"
      ],
      "execution_count": 0,
      "outputs": []
    },
    {
      "cell_type": "markdown",
      "metadata": {
        "id": "zwSo6HpQ48U3",
        "colab_type": "text"
      },
      "source": [
        "Now we print out some details of the data we just loaded."
      ]
    },
    {
      "cell_type": "code",
      "metadata": {
        "id": "xO35oSU_48U4",
        "colab_type": "code",
        "outputId": "f271264b-a4d9-4f39-bb11-81eb3aad5ebc",
        "colab": {
          "base_uri": "https://localhost:8080/",
          "height": 272
        }
      },
      "source": [
        "# Analyze the data\n",
        "print(\"Shape of cancer data: {}\".format(cancer.data.shape))\n",
        "print(\"cancer.keys(): \\n{}\".format(cancer.keys()))\n",
        "print(\"Sample counts per class:\\n{}\".format(\n",
        "{n: v for n, v in zip(cancer.target_names, np.bincount(cancer.target))}))\n",
        "print(\"Feature names:\\n{}\".format(cancer.feature_names))"
      ],
      "execution_count": 0,
      "outputs": [
        {
          "output_type": "stream",
          "text": [
            "Shape of cancer data: (569, 30)\n",
            "cancer.keys(): \n",
            "dict_keys(['data', 'target', 'target_names', 'DESCR', 'feature_names', 'filename'])\n",
            "Sample counts per class:\n",
            "{'malignant': 212, 'benign': 357}\n",
            "Feature names:\n",
            "['mean radius' 'mean texture' 'mean perimeter' 'mean area'\n",
            " 'mean smoothness' 'mean compactness' 'mean concavity'\n",
            " 'mean concave points' 'mean symmetry' 'mean fractal dimension'\n",
            " 'radius error' 'texture error' 'perimeter error' 'area error'\n",
            " 'smoothness error' 'compactness error' 'concavity error'\n",
            " 'concave points error' 'symmetry error' 'fractal dimension error'\n",
            " 'worst radius' 'worst texture' 'worst perimeter' 'worst area'\n",
            " 'worst smoothness' 'worst compactness' 'worst concavity'\n",
            " 'worst concave points' 'worst symmetry' 'worst fractal dimension']\n"
          ],
          "name": "stdout"
        }
      ]
    },
    {
      "cell_type": "markdown",
      "metadata": {
        "id": "M929Y81F48U5",
        "colab_type": "text"
      },
      "source": [
        "Next we create training and test sets."
      ]
    },
    {
      "cell_type": "code",
      "metadata": {
        "id": "MENU9O_L48U6",
        "colab_type": "code",
        "colab": {}
      },
      "source": [
        "# Create training and testing dataset\n",
        "X_train, X_test, y_train, y_test = train_test_split(cancer.data, cancer.target, stratify=cancer.target, random_state=66)\n",
        "\n",
        "training_accuracy = []\n",
        "test_accuracy = []"
      ],
      "execution_count": 0,
      "outputs": []
    },
    {
      "cell_type": "markdown",
      "metadata": {
        "id": "DagZt0bD48U7",
        "colab_type": "text"
      },
      "source": [
        "Now we test lots of different values for $k$, from 1 to 100."
      ]
    },
    {
      "cell_type": "code",
      "metadata": {
        "id": "xqsB0H-N48U7",
        "colab_type": "code",
        "colab": {}
      },
      "source": [
        "# try n_neighbors from 1 to 10\n",
        "neighbors_settings = range(1,101)\n",
        "\n",
        "for n_neighbors in neighbors_settings:\n",
        "  # build the model\n",
        "  clf = KNeighborsClassifier(n_neighbors=n_neighbors)\n",
        "  clf.fit(X_train, y_train)\n",
        "  \n",
        "  # record training set accuracy\n",
        "  training_accuracy.append(clf.score(X_train, y_train))\n",
        "  # record generalization accuracy \n",
        "  test_accuracy.append(clf.score(X_test, y_test))"
      ],
      "execution_count": 0,
      "outputs": []
    },
    {
      "cell_type": "markdown",
      "metadata": {
        "id": "XCEB1f1d48U9",
        "colab_type": "text"
      },
      "source": [
        "Finally we plot the results."
      ]
    },
    {
      "cell_type": "code",
      "metadata": {
        "id": "LbWreSHs48U-",
        "colab_type": "code",
        "outputId": "488d1bbe-9c77-4657-9ac8-756e0604cdc6",
        "colab": {
          "base_uri": "https://localhost:8080/",
          "height": 301
        }
      },
      "source": [
        "plt.plot(neighbors_settings, training_accuracy, label=\"Training Accuracy\")\n",
        "plt.plot(neighbors_settings, test_accuracy, label=\"Test Accuracy\")\n",
        "plt.xlabel(\"n_neighbors\")\n",
        "plt.ylabel(\"Accuracy\")\n",
        "plt.legend()"
      ],
      "execution_count": 0,
      "outputs": [
        {
          "output_type": "execute_result",
          "data": {
            "text/plain": [
              "<matplotlib.legend.Legend at 0x7f8d7a548ef0>"
            ]
          },
          "metadata": {
            "tags": []
          },
          "execution_count": 61
        },
        {
          "output_type": "display_data",
          "data": {
            "image/png": "[encoded data removed]",
            "text/plain": [
              "<Figure size 432x288 with 1 Axes>"
            ]
          },
          "metadata": {
            "tags": []
          }
        }
      ]
    },
    {
      "cell_type": "markdown",
      "metadata": {
        "id": "jGqvbcA748U_",
        "colab_type": "text"
      },
      "source": [
        "### $k-nn$ Applied to the Wave dataset for Regression\n",
        "\n",
        "The Wave dataset is one-dimensional. It has only one feature with a continuous target values. \n",
        "\n",
        "For $k = 1$, test data predictions take a value corresponding to the nearest data point.\n",
        "\n",
        "For $k$ > 1, test data predictions take a value which, is the average of the values, for *all* of its $k$ nearest neighbors.\n",
        "\n",
        "Lets try for ourselves. First we create the dataset."
      ]
    },
    {
      "cell_type": "code",
      "metadata": {
        "id": "SrHJP3zK48VA",
        "colab_type": "code",
        "colab": {}
      },
      "source": [
        "# Wave dataset\n",
        "X, y = mglearn.datasets.make_wave(n_samples = 40)"
      ],
      "execution_count": 0,
      "outputs": []
    },
    {
      "cell_type": "markdown",
      "metadata": {
        "id": "IU8qs_sT48VC",
        "colab_type": "text"
      },
      "source": [
        "Plot the dataset so we understand what it contains."
      ]
    },
    {
      "cell_type": "code",
      "metadata": {
        "id": "HbIWYltt48VE",
        "colab_type": "code",
        "outputId": "a266ea83-6a0b-4119-bafe-ad40cd260a57",
        "colab": {
          "base_uri": "https://localhost:8080/",
          "height": 300
        }
      },
      "source": [
        "plt.plot(X, y, 'o')\n",
        "plt.ylim(-3,3)\n",
        "plt.xlabel(\"Feature\")\n",
        "plt.ylabel(\"Target\")"
      ],
      "execution_count": 0,
      "outputs": [
        {
          "output_type": "execute_result",
          "data": {
            "text/plain": [
              "Text(0, 0.5, 'Target')"
            ]
          },
          "metadata": {
            "tags": []
          },
          "execution_count": 63
        },
        {
          "output_type": "display_data",
          "data": {
            "image/png": "[encoded data removed]",
            "text/plain": [
              "<Figure size 432x288 with 1 Axes>"
            ]
          },
          "metadata": {
            "tags": []
          }
        }
      ]
    },
    {
      "cell_type": "markdown",
      "metadata": {
        "id": "xhWcFE4Z48VF",
        "colab_type": "text"
      },
      "source": [
        "Now show how a prediction is derived from just 1 neighbour, and from 3."
      ]
    },
    {
      "cell_type": "code",
      "metadata": {
        "id": "l9m55Rjo48VF",
        "colab_type": "code",
        "outputId": "2687bf5e-c68c-4597-f922-8448134efe60",
        "colab": {
          "base_uri": "https://localhost:8080/",
          "height": 811
        }
      },
      "source": [
        "# Try knn regression\n",
        "mglearn.plots.plot_knn_regression(n_neighbors=1)\n",
        "mglearn.plots.plot_knn_regression(n_neighbors=3)"
      ],
      "execution_count": 0,
      "outputs": [
        {
          "output_type": "display_data",
          "data": {
            "image/png": "[encoded data removed]",
            "text/plain": [
              "<Figure size 720x432 with 1 Axes>"
            ]
          },
          "metadata": {
            "tags": []
          }
        },
        {
          "output_type": "display_data",
          "data": {
            "image/png": "[encoded data removed]",
            "text/plain": [
              "<Figure size 720x432 with 1 Axes>"
            ]
          },
          "metadata": {
            "tags": []
          }
        }
      ]
    },
    {
      "cell_type": "markdown",
      "metadata": {
        "id": "ZbyfBszu48VG",
        "colab_type": "text"
      },
      "source": [
        "Finally, we show an example of how to train a $k$-NN, and use this to make predictions for regression problems."
      ]
    },
    {
      "cell_type": "code",
      "metadata": {
        "id": "S6z0Oxt948VG",
        "colab_type": "code",
        "outputId": "75b01783-4659-459d-94ed-0e1feb64eee0",
        "colab": {
          "base_uri": "https://localhost:8080/",
          "height": 395
        }
      },
      "source": [
        "# Import the required libraries.\n",
        "from sklearn.model_selection import train_test_split\n",
        "from sklearn.neighbors import KNeighborsRegressor\n",
        "\n",
        "# Create the wave dataset.\n",
        "X, y = mglearn.datasets.make_wave(n_samples=40)\n",
        "\n",
        "# Create the test and train samples.\n",
        "X_train, X_test, y_train, y_test = train_test_split(X, y, random_state=0)\n",
        "\n",
        "# Create the predictive model\n",
        "reg = KNeighborsRegressor(n_neighbors=3)\n",
        "reg.fit(X_train, y_train)\n",
        "print(\"Test set predictions:\\n{}\".format(reg.predict(X_test)))\n",
        "print(\"Test set R^2: {:.2f}\".format(reg.score(X_test, y_test)))\n",
        "\n",
        "\n",
        "## Analyzing K-nearest Neighbors Regressor\n",
        "fix, axes = plt.subplots(1, 3, figsize=(15,4))\n",
        "\n",
        "# create 100 data points evenly spaced between -3 and 3\n",
        "line = np.linspace(-3,3,1000).reshape(-1,1)  # column vector\n",
        "\n",
        "for n, ax in zip([1,3,9], axes):\n",
        "  reg = KNeighborsRegressor(n_neighbors=n)\n",
        "  reg.fit(X_train, y_train)\n",
        "  ax.plot(line, reg.predict(line))\n",
        "  ax.plot(X_train, y_train, '^', c=mglearn.cm2(0), markersize=8)\n",
        "  ax.plot(X_test, y_test, 'v', c=mglearn.cm2(1), markersize=8)\n",
        "  \n",
        "  ax.set_title(\"{} neighor(s)\\n train score: {:.2f}, test score: {:.2f}\".format(n, reg.score(X_train, y_train), reg.score(X_test, y_test)))\n",
        "  ax.set_xlabel(\"Feature\")\n",
        "  ax.set_ylabel(\"Target\")\n",
        "  \n",
        "axes[0].legend([\"Model Prediction\", \"Training data/target\", \"Test data/target\"], loc=\"best\")"
      ],
      "execution_count": 0,
      "outputs": [
        {
          "output_type": "stream",
          "text": [
            "Test set predictions:\n",
            "[-0.05396539  0.35686046  1.13671923 -1.89415682 -1.13881398 -1.63113382\n",
            "  0.35686046  0.91241374 -0.44680446 -1.13881398]\n",
            "Test set R^2: 0.83\n"
          ],
          "name": "stdout"
        },
        {
          "output_type": "execute_result",
          "data": {
            "text/plain": [
              "<matplotlib.legend.Legend at 0x7f8d7a713550>"
            ]
          },
          "metadata": {
            "tags": []
          },
          "execution_count": 65
        },
        {
          "output_type": "display_data",
          "data": {
            "image/png": "[encoded data removed]",
            "text/plain": [
              "<Figure size 1080x288 with 3 Axes>"
            ]
          },
          "metadata": {
            "tags": []
          }
        }
      ]
    }
  ]
}